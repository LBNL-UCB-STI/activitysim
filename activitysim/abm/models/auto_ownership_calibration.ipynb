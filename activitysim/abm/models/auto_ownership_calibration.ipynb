{
 "cells": [
  {
   "cell_type": "code",
   "execution_count": 1,
   "id": "relevant-practitioner",
   "metadata": {},
   "outputs": [],
   "source": [
    "import os \n",
    "import yaml\n",
    "import logging\n",
    "\n",
    "import numpy as onp \n",
    "import pandas as pd \n",
    "import time\n",
    "import matplotlib.pyplot as plt\n",
    "import seaborn as sns\n",
    "import jax.random as random\n",
    "import jax.numpy as np\n",
    "\n",
    "from activitysim.core import mem\n",
    "from activitysim.core import inject\n",
    "from activitysim.core import tracing\n",
    "from activitysim.core import config\n",
    "from activitysim.core import pipeline\n",
    "from activitysim.core import mp_tasks\n",
    "from activitysim.core import chunk\n",
    "from activitysim.core import orca\n",
    "\n",
    "os.chdir('../../../../../PILATES')\n",
    "from pilates.activitysim import preprocessor as asim_pre\n",
    "\n",
    "os.chdir('../probaflow/')\n",
    "from probaflow import dcm\n",
    "\n",
    "os.chdir('../ual_asim/activitysim/austin/')"
   ]
  },
  {
   "cell_type": "code",
   "execution_count": null,
   "id": "regular-relation",
   "metadata": {},
   "outputs": [],
   "source": [
    "logger = logging.getLogger('activitysim')\n",
    "logger.setLevel(logging.DEBUG)"
   ]
  },
  {
   "cell_type": "code",
   "execution_count": null,
   "id": "mental-battle",
   "metadata": {},
   "outputs": [],
   "source": []
  },
  {
   "cell_type": "markdown",
   "id": "apart-context",
   "metadata": {},
   "source": [
    "## Part 1\n",
    "Run simulation until car ownership model "
   ]
  },
  {
   "cell_type": "code",
   "execution_count": 34,
   "id": "finite-mechanism",
   "metadata": {},
   "outputs": [],
   "source": [
    "def cleanup_output_files():\n",
    "\n",
    "    active_log_files = \\\n",
    "        [h.baseFilename for h in logger.root.handlers if isinstance(\n",
    "            h, logging.FileHandler)]\n",
    "    tracing.delete_output_files('log', ignore=active_log_files)\n",
    "\n",
    "    tracing.delete_output_files('h5')\n",
    "    tracing.delete_output_files('csv')\n",
    "    tracing.delete_output_files('txt')\n",
    "    tracing.delete_output_files('yaml')\n",
    "    tracing.delete_output_files('prof')"
   ]
  },
  {
   "cell_type": "code",
   "execution_count": 35,
   "id": "presidential-robert",
   "metadata": {},
   "outputs": [],
   "source": [
    "def run(run_list, injectables=None):\n",
    "\n",
    "    if run_list['multiprocess']:\n",
    "        logger.info(\"run multiprocess simulation\")\n",
    "        mp_tasks.run_multiprocess(run_list, injectables)\n",
    "    else:\n",
    "        logger.info(\"run single process simulation\")\n",
    "        pipeline.run(\n",
    "            models=run_list['models'], resume_after=run_list['resume_after'])\n",
    "        pipeline.close_pipeline()\n",
    "        chunk.log_write_hwm()"
   ]
  },
  {
   "cell_type": "code",
   "execution_count": 71,
   "id": "mexican-expense",
   "metadata": {},
   "outputs": [],
   "source": [
    "#Define injectables\n",
    "inject.add_injectable('data_dir', 'data')\n",
    "inject.add_injectable('configs_dir', ['configs', 'configs/configs'])\n",
    "inject.add_injectable('output_dir', 'output')\n",
    "# inject.get_injectable('configs_dir')\n",
    "\n",
    "#Injectables list \n",
    "injectables = ['configs_dir', 'data_dir', 'output_dir']\n",
    "\n",
    "#Configs files\n",
    "run_list = mp_tasks.get_run_list()\n",
    "\n",
    "# Injectables to dict \n",
    "injectables = list(set(injectables) | set(['data_dir', 'configs_dir', 'output_dir']))\n",
    "injectables = {k: inject.get_injectable(k) for k in injectables}"
   ]
  },
  {
   "cell_type": "code",
   "execution_count": 72,
   "id": "stone-hardware",
   "metadata": {},
   "outputs": [],
   "source": [
    "run_list['models'] = run_list['models'][:5] \n",
    "run_list['multiprocess_steps'][1]['models'] = run_list['multiprocess_steps'][1]['models'][:2]\n",
    "run_list['multiprocess_steps'][1]['chunk_size'] =  500000000\n",
    "run_list['multiprocess_steps'] = run_list['multiprocess_steps'][:2]"
   ]
  },
  {
   "cell_type": "code",
   "execution_count": 73,
   "id": "noted-modeling",
   "metadata": {},
   "outputs": [
    {
     "name": "stdout",
     "output_type": "stream",
     "text": [
      "############ mp_tasks - mp_initialize - mp_run_simulation mp_initialize\n",
      "mp_initialize WARNING - activitysim.core.assign - numpy: Warning: underflow encountered in exp expression: _decay = _rt_available * exp(_nmDist * dispersion_parameter_walk)\n",
      "############ mp_tasks - mp_households_0 - mp_run_simulation mp_households\n",
      "############ mp_tasks - mp_households_1 - mp_run_simulation mp_households\n",
      "############ mp_tasks - mp_households_2 - mp_run_simulation mp_households\n",
      "############ mp_tasks - mp_households_3 - mp_run_simulation mp_households\n",
      "############ mp_tasks - mp_households_4 - mp_run_simulation mp_households\n",
      "############ mp_tasks - mp_households_5 - mp_run_simulation mp_households\n",
      "############ mp_tasks - mp_households_6 - mp_run_simulation mp_households\n",
      "############ mp_tasks - mp_households_7 - mp_run_simulation mp_households\n",
      "############ mp_tasks - mp_households_8 - mp_run_simulation mp_households\n",
      "############ mp_tasks - mp_households_9 - mp_run_simulation mp_households\n",
      "############ mp_tasks - mp_households_10 - mp_run_simulation mp_households\n",
      "############ mp_tasks - mp_households_11 - mp_run_simulation mp_households\n",
      "############ mp_tasks - mp_households_12 - mp_run_simulation mp_households\n",
      "############ mp_tasks - mp_households_13 - mp_run_simulation mp_households\n",
      "############ mp_tasks - mp_households_14 - mp_run_simulation mp_households\n",
      "############ mp_tasks - mp_households_15 - mp_run_simulation mp_households\n",
      "############ mp_tasks - mp_households_16 - mp_run_simulation mp_households\n",
      "############ mp_tasks - mp_households_17 - mp_run_simulation mp_households\n",
      "############ mp_tasks - mp_households_18 - mp_run_simulation mp_households\n",
      "############ mp_tasks - mp_households_19 - mp_run_simulation mp_households\n",
      "############ mp_tasks - mp_households_20 - mp_run_simulation mp_households\n",
      "############ mp_tasks - mp_households_21 - mp_run_simulation mp_households\n",
      "############ mp_tasks - mp_households_22 - mp_run_simulation mp_households\n",
      "############ mp_tasks - mp_households_23 - mp_run_simulation mp_households\n",
      "############ mp_tasks - mp_households_24 - mp_run_simulation mp_households\n"
     ]
    }
   ],
   "source": [
    "cleanup_output_files()\n",
    "run(run_list, injectables)"
   ]
  },
  {
   "cell_type": "markdown",
   "id": "described-border",
   "metadata": {},
   "source": [
    "## Part 2 Runing calibration"
   ]
  },
  {
   "cell_type": "code",
   "execution_count": null,
   "id": "humanitarian-facing",
   "metadata": {},
   "outputs": [],
   "source": [
    "def add_simulation_vars(households, accessibilities, land_use, expressions):\n",
    "    '''expressions should be a pandas series. Index is the name of the column'''\n",
    "\n",
    "    df = hh.merge(acc, how = 'inner', left_on = 'TAZ', right_index = True).\\\n",
    "                  merge(lu, how = 'inner', left_on = 'TAZ', right_index = True)\n",
    "    \n",
    "    df['cars'] = df.VEHICL.where(df.VEHICL < 4, 4)\n",
    "    \n",
    "    expressions = dict(expressions)\n",
    "    \n",
    "    for label, expression in expressions.items():\n",
    "#         print (expression)\n",
    "        try:\n",
    "            if expression.startswith('@'):\n",
    "                df[label] = eval(expression[1:])\n",
    "            else:\n",
    "                df[label] = df.eval(expression)\n",
    "        except NameError:\n",
    "            df[label] = 0\n",
    "    \n",
    "    return df"
   ]
  },
  {
   "cell_type": "code",
   "execution_count": null,
   "id": "worse-polymer",
   "metadata": {},
   "outputs": [],
   "source": [
    "def car_ownership_specs(path_specs, path_coeffs):\n",
    "    \"\"\" Reads the specification for the auto ownership model\"\"\"\n",
    "    # Read csv file \n",
    "    specs_csv = pd.read_csv(path_specs).set_index('Label')\n",
    "    coeffs_csv = pd.read_csv(path_coeffs).set_index('coefficient_name')\n",
    "    return specs_csv, coeffs_csv"
   ]
  },
  {
   "cell_type": "code",
   "execution_count": null,
   "id": "technological-elephant",
   "metadata": {},
   "outputs": [],
   "source": [
    "def create_yml(specification, coeffs):\n",
    "    \n",
    "    # Select the alternative columns. Based alternative is dropped\n",
    "    specs = specification.copy()\n",
    "    vars_ = specs.columns[~specs.columns.isin(['Description', 'Expression'])]\n",
    "    final_vars = []\n",
    "    for var in vars_:\n",
    "        if specs[var].isnull().all():\n",
    "            pass\n",
    "        else:\n",
    "            final_vars.append(var)\n",
    "            \n",
    "    for var in final_vars:\n",
    "        specs[var] = specs[var].replace(coeffs)\n",
    "        \n",
    "    # Adding constrains \n",
    "    constrains = specs[final_vars].copy()\n",
    "    constrains[final_vars] = 2\n",
    "    \n",
    "    constrains[constrains.index.str.contains('util_asc')] = 1\n",
    "    constrains[constrains.index.str.contains('util_driver')] = 1\n",
    "    constrains[constrains.index.str.contains('util_asc_')] = 0\n",
    "    constrains = constrains.astype(int)\n",
    "    \n",
    "    # Create specification for yml \n",
    "    final_dict = {}\n",
    "    final_dict['model_coeffs'] = specs[final_vars].to_dict(orient = 'list')\n",
    "    final_dict['spec_names'] = list(specs.index)\n",
    "    final_dict['constrains'] = constrains.to_dict(orient = 'list')\n",
    "    \n",
    "    write_yaml(final_dict, 'car_ownership.yml')"
   ]
  },
  {
   "cell_type": "code",
   "execution_count": null,
   "id": "rising-centre",
   "metadata": {},
   "outputs": [],
   "source": [
    "out_dir = 'output/'\n",
    "hdf = pd.HDFStore(out_dir + 'pipeline.h5')\n",
    "hh = pd.read_csv('output/final_households.csv')\n",
    "acc = hdf['/accessibility/compute_accessibility']\n",
    "lu = pd.read_csv('output/final_land_use.csv')\n",
    "print ('Number of Households: ',hh.shape[0])"
   ]
  },
  {
   "cell_type": "code",
   "execution_count": null,
   "id": "listed-wisconsin",
   "metadata": {},
   "outputs": [],
   "source": [
    "#Specification\n",
    "config_dir = 'configs/'\n",
    "path_specs = config_dir +'configs/auto_ownership.csv'\n",
    "path_coeffs = config_dir + 'configs/auto_ownership_coeffs.csv'"
   ]
  },
  {
   "cell_type": "code",
   "execution_count": null,
   "id": "union-bangkok",
   "metadata": {},
   "outputs": [],
   "source": [
    "coeffs_csv = pd.read_csv(path_coeffs).set_index('coefficient_name')"
   ]
  },
  {
   "cell_type": "code",
   "execution_count": null,
   "id": "bigger-matthew",
   "metadata": {},
   "outputs": [],
   "source": [
    "a = pd.read_csv(path_specs).set_index('Label')"
   ]
  },
  {
   "cell_type": "code",
   "execution_count": null,
   "id": "noted-deadline",
   "metadata": {},
   "outputs": [],
   "source": []
  },
  {
   "cell_type": "code",
   "execution_count": null,
   "id": "identical-kingdom",
   "metadata": {},
   "outputs": [],
   "source": [
    "specs, coeffs_csv = car_ownership_specs(path_specs, path_coeffs)\n",
    "coeffs = coeffs_csv['value'].to_dict()\n",
    "create_yml(specs, coeffs)"
   ]
  },
  {
   "cell_type": "code",
   "execution_count": null,
   "id": "quiet-exception",
   "metadata": {},
   "outputs": [],
   "source": []
  },
  {
   "cell_type": "code",
   "execution_count": null,
   "id": "athletic-proportion",
   "metadata": {},
   "outputs": [],
   "source": []
  }
 ],
 "metadata": {
  "kernelspec": {
   "display_name": "Python 3",
   "language": "python",
   "name": "python3"
  },
  "language_info": {
   "codemirror_mode": {
    "name": "ipython",
    "version": 3
   },
   "file_extension": ".py",
   "mimetype": "text/x-python",
   "name": "python",
   "nbconvert_exporter": "python",
   "pygments_lexer": "ipython3",
   "version": "3.9.2"
  }
 },
 "nbformat": 4,
 "nbformat_minor": 5
}
