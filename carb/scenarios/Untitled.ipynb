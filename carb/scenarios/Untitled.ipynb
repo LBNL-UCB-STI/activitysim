{
 "cells": [
  {
   "cell_type": "code",
   "execution_count": 15,
   "id": "disabled-feature",
   "metadata": {},
   "outputs": [],
   "source": [
    "import os\n",
    "import yaml"
   ]
  },
  {
   "cell_type": "code",
   "execution_count": 16,
   "id": "sonic-information",
   "metadata": {},
   "outputs": [],
   "source": [
    "def read_policy_settings():\n",
    "    a_yaml_file = open('../policies.yaml')\n",
    "    settings = yaml.load(a_yaml_file, Loader=yaml.FullLoader)\n",
    "    return settings"
   ]
  },
  {
   "cell_type": "code",
   "execution_count": 5,
   "id": "intermediate-birthday",
   "metadata": {},
   "outputs": [
    {
     "data": {
      "text/plain": [
       "<generator object _walk at 0x7fe5f3a19b30>"
      ]
     },
     "execution_count": 5,
     "metadata": {},
     "output_type": "execute_result"
    }
   ],
   "source": [
    "dir_ = os.getcwd()\n",
    "os.walk(dir_)"
   ]
  },
  {
   "cell_type": "code",
   "execution_count": 10,
   "id": "structural-mailman",
   "metadata": {},
   "outputs": [],
   "source": [
    "scenarios = os.listdir(dir_)"
   ]
  },
  {
   "cell_type": "code",
   "execution_count": 14,
   "id": "handy-heading",
   "metadata": {},
   "outputs": [
    {
     "data": {
      "text/plain": [
       "False"
      ]
     },
     "execution_count": 14,
     "metadata": {},
     "output_type": "execute_result"
    }
   ],
   "source": [
    "scenarios[1] in ['Untitled.ipynb','.ipynb_checkpoints']"
   ]
  },
  {
   "cell_type": "code",
   "execution_count": 18,
   "id": "wrapped-examination",
   "metadata": {},
   "outputs": [],
   "source": [
    "policies = read_policy_settings()"
   ]
  },
  {
   "cell_type": "code",
   "execution_count": 23,
   "id": "other-programmer",
   "metadata": {},
   "outputs": [
    {
     "name": "stdout",
     "output_type": "stream",
     "text": [
      "transit_fare\n",
      "transit_frequency\n",
      "transit_operations\n",
      "shared_tnc_price\n",
      "shared_tnc_waiting_times\n",
      "VMT_fees\n",
      "hov_lanes\n"
     ]
    },
    {
     "data": {
      "text/plain": [
       "[None, None, None, None, None, None, None]"
      ]
     },
     "execution_count": 23,
     "metadata": {},
     "output_type": "execute_result"
    }
   ],
   "source": [
    "[print(p,s) for s i for p, k in policies['policies'].items()]"
   ]
  },
  {
   "cell_type": "code",
   "execution_count": 26,
   "id": "understood-flashing",
   "metadata": {},
   "outputs": [
    {
     "data": {
      "text/plain": [
       "dict_keys(['free_transit', 'current_fare', '25%_increase'])"
      ]
     },
     "execution_count": 26,
     "metadata": {},
     "output_type": "execute_result"
    }
   ],
   "source": [
    "policies['policies']['transit_fare']['scenarios'].keys()"
   ]
  },
  {
   "cell_type": "code",
   "execution_count": 28,
   "id": "breathing-monaco",
   "metadata": {},
   "outputs": [
    {
     "data": {
      "text/plain": [
       "'hola/ha'"
      ]
     },
     "execution_count": 28,
     "metadata": {},
     "output_type": "execute_result"
    }
   ],
   "source": [
    "os.path.join('hola','ha')"
   ]
  },
  {
   "cell_type": "code",
   "execution_count": 49,
   "id": "circular-robert",
   "metadata": {},
   "outputs": [],
   "source": [
    "dirs = []\n",
    "for p in policies['policies'].keys():\n",
    "    for s in policies['policies'][p]['scenarios'].keys():\n",
    "        dirs.append('cp hov_lanes/Current_Price/.gitignore'+' ' +os.path.join(p,s,'.gitignore'))"
   ]
  },
  {
   "cell_type": "code",
   "execution_count": 50,
   "id": "double-madagascar",
   "metadata": {},
   "outputs": [],
   "source": [
    "for d in dirs:\n",
    "    os.system(d)"
   ]
  },
  {
   "cell_type": "code",
   "execution_count": 51,
   "id": "nasty-citizenship",
   "metadata": {},
   "outputs": [],
   "source": [
    "dirs = []\n",
    "for p in policies['policies'].keys():\n",
    "    for s in policies['policies'][p]['scenarios'].keys():\n",
    "        dirs.append('git add'+' ' + os.path.join(p,s,'.gitignore'))\n",
    "\n",
    "for d in dirs:\n",
    "    os.system(d)"
   ]
  },
  {
   "cell_type": "code",
   "execution_count": 43,
   "id": "unnecessary-bradford",
   "metadata": {},
   "outputs": [
    {
     "data": {
      "text/plain": [
       "0"
      ]
     },
     "execution_count": 43,
     "metadata": {},
     "output_type": "execute_result"
    }
   ],
   "source": [
    "os.system('git add transit_fare/free_transit/.gitignore')"
   ]
  },
  {
   "cell_type": "code",
   "execution_count": null,
   "id": "diverse-ranch",
   "metadata": {},
   "outputs": [],
   "source": []
  }
 ],
 "metadata": {
  "kernelspec": {
   "display_name": "Python 3",
   "language": "python",
   "name": "python3"
  },
  "language_info": {
   "codemirror_mode": {
    "name": "ipython",
    "version": 3
   },
   "file_extension": ".py",
   "mimetype": "text/x-python",
   "name": "python",
   "nbconvert_exporter": "python",
   "pygments_lexer": "ipython3",
   "version": "3.9.2"
  }
 },
 "nbformat": 4,
 "nbformat_minor": 5
}
