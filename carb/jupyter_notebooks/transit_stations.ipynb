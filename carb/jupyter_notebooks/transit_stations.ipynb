{
 "cells": [
  {
   "cell_type": "code",
   "execution_count": 21,
   "metadata": {},
   "outputs": [],
   "source": [
    "import pandas as pd \n",
    "import geopandas as gpd\n",
    "import fiona"
   ]
  },
  {
   "cell_type": "code",
   "execution_count": 27,
   "metadata": {},
   "outputs": [
    {
     "data": {
      "text/plain": "'bart/doc.kml'"
     },
     "execution_count": 27,
     "metadata": {},
     "output_type": "execute_result"
    }
   ],
   "source": [
    "from zipfile import ZipFile\n",
    "kmz = ZipFile('transit_stations/BART_System_2020.kmz', 'r')\n",
    "kmz.extract('doc.kml', 'bart')"
   ]
  },
  {
   "cell_type": "code",
   "execution_count": 52,
   "metadata": {},
   "outputs": [],
   "source": [
    "#Caltrain Stations\n",
    "caltrain = gpd.read_file('transit_stations/Caltrain Stations and Stops/geo_export_c83debd0-dfd7-4ffb-88ad-a03a92dfdcf9.shp')\n",
    "\n",
    "#Bart Stations \n",
    "gpd.io.file.fiona.drvsupport.supported_drivers['KML'] = 'rw'\n",
    "bart = gpd.read_file('bart/doc.kml', driver='KML', crs = 'EPSG:4326')"
   ]
  },
  {
   "cell_type": "code",
   "execution_count": 43,
   "metadata": {},
   "outputs": [],
   "source": [
    "filter_1 = caltrain.stop_code != 0.0 #Not stations \n",
    "filter_2 = caltrain.platform_c == 'NB' #Only NB or SB - Duplicated otherwise\n",
    "filter_3 = caltrain.stop_name != 'Atherton Caltrain' #Station Closed in Dec 2020\n",
    "\n",
    "df_caltrain = caltrain[filter_1 & filter_2  & filter_3 ]"
   ]
  },
  {
   "cell_type": "code",
   "execution_count": 68,
   "metadata": {},
   "outputs": [],
   "source": [
    "caltrain['agency'] = 'caltrain'\n",
    "c = caltrain[['stop_name', 'geometry', 'agency']]"
   ]
  },
  {
   "cell_type": "code",
   "execution_count": 69,
   "metadata": {},
   "outputs": [],
   "source": [
    "bart['agency'] = 'bart'\n",
    "b = bart[['Name', 'geometry','agency']].rename(columns = {'Name':'stop_name'})"
   ]
  },
  {
   "cell_type": "code",
   "execution_count": 72,
   "metadata": {},
   "outputs": [],
   "source": [
    "stations = pd.concat((b,c))"
   ]
  },
  {
   "cell_type": "code",
   "execution_count": 76,
   "metadata": {},
   "outputs": [],
   "source": [
    "stations['x'] = stations.geometry.x\n",
    "stations['y'] = stations.geometry.y"
   ]
  },
  {
   "cell_type": "code",
   "execution_count": 80,
   "metadata": {},
   "outputs": [],
   "source": [
    "stations.geometry = gpd.points_from_xy(stations.x, stations.y, crs = 'EPSG:4326')"
   ]
  },
  {
   "cell_type": "code",
   "execution_count": 86,
   "metadata": {},
   "outputs": [],
   "source": [
    "stations.to_file('mass_transit_stations_bay_area.shp')"
   ]
  },
  {
   "cell_type": "code",
   "execution_count": null,
   "metadata": {},
   "outputs": [],
   "source": []
  }
 ],
 "metadata": {
  "kernelspec": {
   "display_name": "Python 3.8.10 64-bit ('asimtest': conda)",
   "name": "python3810jvsc74a57bd05b9a2e60925eb12d57059db9a088b3c898b4c7cf180a1dd0e8a80aaa4e9cc773"
  },
  "language_info": {
   "codemirror_mode": {
    "name": "ipython",
    "version": 3
   },
   "file_extension": ".py",
   "mimetype": "text/x-python",
   "name": "python",
   "nbconvert_exporter": "python",
   "pygments_lexer": "ipython3",
   "version": "3.8.10"
  },
  "orig_nbformat": 2
 },
 "nbformat": 4,
 "nbformat_minor": 2
}