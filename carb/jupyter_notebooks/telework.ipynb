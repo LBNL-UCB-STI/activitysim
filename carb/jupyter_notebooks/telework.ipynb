{
 "cells": [
  {
   "cell_type": "code",
   "execution_count": 1,
   "id": "oriental-reserve",
   "metadata": {},
   "outputs": [],
   "source": [
    "import logging\n",
    "\n",
    "from activitysim.core import tracing\n",
    "from activitysim.core import config\n",
    "from activitysim.core import pipeline\n",
    "from activitysim.core import simulate\n",
    "from activitysim.core import inject\n",
    "from activitysim.core import logit\n",
    "\n",
    "# from .util import expressions\n",
    "# from .util import estimation\n",
    "\n",
    "logger = logging.getLogger(__name__)"
   ]
  },
  {
   "cell_type": "code",
   "execution_count": 2,
   "id": "persistent-empty",
   "metadata": {},
   "outputs": [],
   "source": [
    "import pandas as pd\n",
    "import numpy as np"
   ]
  },
  {
   "cell_type": "code",
   "execution_count": 21,
   "id": "elegant-prayer",
   "metadata": {},
   "outputs": [],
   "source": [
    "## What it should be available at: \n",
    "households = pd.read_csv('../bay_area_base/data/households.csv')\n",
    "persons = pd.read_csv('../bay_area_base/data/persons.csv').sample(100)\n",
    "\n",
    "households = households.set_index('household_id')\n",
    "persons = persons.set_index('person_id')"
   ]
  },
  {
   "cell_type": "code",
   "execution_count": 22,
   "id": "emotional-flour",
   "metadata": {},
   "outputs": [],
   "source": [
    "persons_merge = persons.merge(households, how = 'inner', left_on = 'household_id', right_index = True )\n",
    "\n",
    "## telework_rates_csv\n",
    "telework_option_rates = pd.DataFrame({'age_category':[0,0,0,1,1,1,2,2,2,3,3,3], \n",
    "                      'income_category':[0,1,2,0,1,2,0,1,2,0,1,2],\n",
    "                      'rate':np.random.rand(12)})\n",
    "\n",
    "telework_frequency_rates = pd.DataFrame({'0_days':[0.476],'1_days':[0.395],'2-3_days':[0.103],'4+_days':[0.026]})\n",
    "\n",
    "telework_daily_rates = pd.DataFrame({'0_days':[0.0],'1_days':[0.2],'2-3_days':[0.5],'4+_days':[0.8]})"
   ]
  },
  {
   "cell_type": "code",
   "execution_count": 23,
   "id": "supported-tender",
   "metadata": {},
   "outputs": [
    {
     "data": {
      "text/html": [
       "<div>\n",
       "<style scoped>\n",
       "    .dataframe tbody tr th:only-of-type {\n",
       "        vertical-align: middle;\n",
       "    }\n",
       "\n",
       "    .dataframe tbody tr th {\n",
       "        vertical-align: top;\n",
       "    }\n",
       "\n",
       "    .dataframe thead th {\n",
       "        text-align: right;\n",
       "    }\n",
       "</style>\n",
       "<table border=\"1\" class=\"dataframe\">\n",
       "  <thead>\n",
       "    <tr style=\"text-align: right;\">\n",
       "      <th></th>\n",
       "      <th>age_category</th>\n",
       "      <th>income_category</th>\n",
       "      <th>rate</th>\n",
       "    </tr>\n",
       "  </thead>\n",
       "  <tbody>\n",
       "    <tr>\n",
       "      <th>0</th>\n",
       "      <td>0</td>\n",
       "      <td>0</td>\n",
       "      <td>0.217527</td>\n",
       "    </tr>\n",
       "    <tr>\n",
       "      <th>1</th>\n",
       "      <td>0</td>\n",
       "      <td>1</td>\n",
       "      <td>0.609129</td>\n",
       "    </tr>\n",
       "    <tr>\n",
       "      <th>2</th>\n",
       "      <td>0</td>\n",
       "      <td>2</td>\n",
       "      <td>0.635800</td>\n",
       "    </tr>\n",
       "    <tr>\n",
       "      <th>3</th>\n",
       "      <td>1</td>\n",
       "      <td>0</td>\n",
       "      <td>0.513270</td>\n",
       "    </tr>\n",
       "    <tr>\n",
       "      <th>4</th>\n",
       "      <td>1</td>\n",
       "      <td>1</td>\n",
       "      <td>0.179913</td>\n",
       "    </tr>\n",
       "    <tr>\n",
       "      <th>5</th>\n",
       "      <td>1</td>\n",
       "      <td>2</td>\n",
       "      <td>0.312453</td>\n",
       "    </tr>\n",
       "    <tr>\n",
       "      <th>6</th>\n",
       "      <td>2</td>\n",
       "      <td>0</td>\n",
       "      <td>0.217232</td>\n",
       "    </tr>\n",
       "    <tr>\n",
       "      <th>7</th>\n",
       "      <td>2</td>\n",
       "      <td>1</td>\n",
       "      <td>0.243565</td>\n",
       "    </tr>\n",
       "    <tr>\n",
       "      <th>8</th>\n",
       "      <td>2</td>\n",
       "      <td>2</td>\n",
       "      <td>0.399214</td>\n",
       "    </tr>\n",
       "    <tr>\n",
       "      <th>9</th>\n",
       "      <td>3</td>\n",
       "      <td>0</td>\n",
       "      <td>0.465064</td>\n",
       "    </tr>\n",
       "    <tr>\n",
       "      <th>10</th>\n",
       "      <td>3</td>\n",
       "      <td>1</td>\n",
       "      <td>0.888597</td>\n",
       "    </tr>\n",
       "    <tr>\n",
       "      <th>11</th>\n",
       "      <td>3</td>\n",
       "      <td>2</td>\n",
       "      <td>0.498130</td>\n",
       "    </tr>\n",
       "  </tbody>\n",
       "</table>\n",
       "</div>"
      ],
      "text/plain": [
       "    age_category  income_category      rate\n",
       "0              0                0  0.217527\n",
       "1              0                1  0.609129\n",
       "2              0                2  0.635800\n",
       "3              1                0  0.513270\n",
       "4              1                1  0.179913\n",
       "5              1                2  0.312453\n",
       "6              2                0  0.217232\n",
       "7              2                1  0.243565\n",
       "8              2                2  0.399214\n",
       "9              3                0  0.465064\n",
       "10             3                1  0.888597\n",
       "11             3                2  0.498130"
      ]
     },
     "execution_count": 23,
     "metadata": {},
     "output_type": "execute_result"
    }
   ],
   "source": [
    "telework_option_rates"
   ]
  },
  {
   "cell_type": "code",
   "execution_count": 24,
   "id": "advanced-blast",
   "metadata": {},
   "outputs": [
    {
     "data": {
      "text/html": [
       "<div>\n",
       "<style scoped>\n",
       "    .dataframe tbody tr th:only-of-type {\n",
       "        vertical-align: middle;\n",
       "    }\n",
       "\n",
       "    .dataframe tbody tr th {\n",
       "        vertical-align: top;\n",
       "    }\n",
       "\n",
       "    .dataframe thead th {\n",
       "        text-align: right;\n",
       "    }\n",
       "</style>\n",
       "<table border=\"1\" class=\"dataframe\">\n",
       "  <thead>\n",
       "    <tr style=\"text-align: right;\">\n",
       "      <th></th>\n",
       "      <th>0_days</th>\n",
       "      <th>1_days</th>\n",
       "      <th>2-3_days</th>\n",
       "      <th>4+_days</th>\n",
       "    </tr>\n",
       "  </thead>\n",
       "  <tbody>\n",
       "    <tr>\n",
       "      <th>0</th>\n",
       "      <td>0.476</td>\n",
       "      <td>0.395</td>\n",
       "      <td>0.103</td>\n",
       "      <td>0.026</td>\n",
       "    </tr>\n",
       "  </tbody>\n",
       "</table>\n",
       "</div>"
      ],
      "text/plain": [
       "   0_days  1_days  2-3_days  4+_days\n",
       "0   0.476   0.395     0.103    0.026"
      ]
     },
     "execution_count": 24,
     "metadata": {},
     "output_type": "execute_result"
    }
   ],
   "source": [
    "telework_frequency_rates"
   ]
  },
  {
   "cell_type": "code",
   "execution_count": 25,
   "id": "frank-referral",
   "metadata": {},
   "outputs": [
    {
     "data": {
      "text/html": [
       "<div>\n",
       "<style scoped>\n",
       "    .dataframe tbody tr th:only-of-type {\n",
       "        vertical-align: middle;\n",
       "    }\n",
       "\n",
       "    .dataframe tbody tr th {\n",
       "        vertical-align: top;\n",
       "    }\n",
       "\n",
       "    .dataframe thead th {\n",
       "        text-align: right;\n",
       "    }\n",
       "</style>\n",
       "<table border=\"1\" class=\"dataframe\">\n",
       "  <thead>\n",
       "    <tr style=\"text-align: right;\">\n",
       "      <th></th>\n",
       "      <th>0_days</th>\n",
       "      <th>1_days</th>\n",
       "      <th>2-3_days</th>\n",
       "      <th>4+_days</th>\n",
       "    </tr>\n",
       "  </thead>\n",
       "  <tbody>\n",
       "    <tr>\n",
       "      <th>0</th>\n",
       "      <td>0.0</td>\n",
       "      <td>0.2</td>\n",
       "      <td>0.5</td>\n",
       "      <td>0.8</td>\n",
       "    </tr>\n",
       "  </tbody>\n",
       "</table>\n",
       "</div>"
      ],
      "text/plain": [
       "   0_days  1_days  2-3_days  4+_days\n",
       "0     0.0     0.2       0.5      0.8"
      ]
     },
     "execution_count": 25,
     "metadata": {},
     "output_type": "execute_result"
    }
   ],
   "source": [
    "telework_daily_rates"
   ]
  },
  {
   "cell_type": "markdown",
   "id": "sufficient-obligation",
   "metadata": {},
   "source": [
    "## Telework as an Option"
   ]
  },
  {
   "cell_type": "code",
   "execution_count": 26,
   "id": "lightweight-blast",
   "metadata": {},
   "outputs": [],
   "source": [
    "def find_index(array, value):\n",
    "    \"\"\"\n",
    "    Returns the index where value is first found in array. If value is not found, returns NaN\n",
    "    \n",
    "    Parameters:\n",
    "    ------------\n",
    "    - array: n-dimensional array. Array of shape (n,m)\n",
    "    - value: 1d-array of shape (m,)\n",
    "    \"\"\"\n",
    "    \n",
    "    not_found = True\n",
    "    i = 0\n",
    "    while not_found:\n",
    "        try: \n",
    "            comparison = array[i,:] == value\n",
    "        except IndexError:\n",
    "            return np.nan\n",
    "        if comparison.all():\n",
    "            not_found = False\n",
    "        else:\n",
    "            i += 1\n",
    "    return i"
   ]
  },
  {
   "cell_type": "code",
   "execution_count": 63,
   "id": "parental-honduras",
   "metadata": {},
   "outputs": [],
   "source": [
    "def find_rate(rates, array):\n",
    "    \"The df has the categories, and find the category combination in array and returns its index\"\n",
    "\n",
    "    index = []\n",
    "    for cat in np.array(rates.drop(columns = 'rate')):\n",
    "        i = find_index(category, cat)\n",
    "        index.append(i)\n",
    "    return index"
   ]
  },
  {
   "cell_type": "code",
   "execution_count": 53,
   "id": "secure-stockholm",
   "metadata": {},
   "outputs": [],
   "source": [
    "choosers = persons_merge[persons_merge.ptype.isin([1,2])]"
   ]
  },
  {
   "cell_type": "code",
   "execution_count": 54,
   "id": "congressional-chair",
   "metadata": {},
   "outputs": [],
   "source": [
    "#persons_merge_annotate\n",
    "age_category = pd.cut(choosers.age, [-np.inf,16,25,50,np.inf], labels = [0,1,2,3]).astype(int)\n",
    "income_category = pd.cut(choosers.income, [-np.inf,75000,150000,np.inf], labels = [0,1,2]).astype(int)\n",
    "\n",
    "choosers.insert(choosers.shape[1], 'age_category', age_category)\n",
    "choosers.insert(choosers.shape[1], 'income_category', income_category)\n"
   ]
  },
  {
   "cell_type": "code",
   "execution_count": 55,
   "id": "atomic-setting",
   "metadata": {},
   "outputs": [],
   "source": [
    "# Processing\n",
    "telework_rate_categories = ['age_category', 'income_category']\n",
    "category, category_index = np.unique(choosers[telework_rate_categories].to_numpy(), axis=0, return_inverse=True)\n",
    "choosers.insert(choosers.shape[1], 'telework_option_category', category_index)"
   ]
  },
  {
   "cell_type": "code",
   "execution_count": 66,
   "id": "experienced-burden",
   "metadata": {},
   "outputs": [],
   "source": [
    "corresponding_category = find_rate(telework_option_rates, category)"
   ]
  },
  {
   "cell_type": "code",
   "execution_count": 72,
   "id": "younger-finland",
   "metadata": {},
   "outputs": [],
   "source": [
    "telework_option_rates.insert(0, 'telework_option_category', corresponding_category)"
   ]
  },
  {
   "cell_type": "code",
   "execution_count": 73,
   "id": "special-aluminum",
   "metadata": {},
   "outputs": [
    {
     "data": {
      "text/html": [
       "<div>\n",
       "<style scoped>\n",
       "    .dataframe tbody tr th:only-of-type {\n",
       "        vertical-align: middle;\n",
       "    }\n",
       "\n",
       "    .dataframe tbody tr th {\n",
       "        vertical-align: top;\n",
       "    }\n",
       "\n",
       "    .dataframe thead th {\n",
       "        text-align: right;\n",
       "    }\n",
       "</style>\n",
       "<table border=\"1\" class=\"dataframe\">\n",
       "  <thead>\n",
       "    <tr style=\"text-align: right;\">\n",
       "      <th></th>\n",
       "      <th>telework_option_category</th>\n",
       "      <th>age_category</th>\n",
       "      <th>income_category</th>\n",
       "      <th>rate</th>\n",
       "    </tr>\n",
       "  </thead>\n",
       "  <tbody>\n",
       "    <tr>\n",
       "      <th>0</th>\n",
       "      <td>NaN</td>\n",
       "      <td>0</td>\n",
       "      <td>0</td>\n",
       "      <td>0.217527</td>\n",
       "    </tr>\n",
       "    <tr>\n",
       "      <th>1</th>\n",
       "      <td>NaN</td>\n",
       "      <td>0</td>\n",
       "      <td>1</td>\n",
       "      <td>0.609129</td>\n",
       "    </tr>\n",
       "    <tr>\n",
       "      <th>2</th>\n",
       "      <td>NaN</td>\n",
       "      <td>0</td>\n",
       "      <td>2</td>\n",
       "      <td>0.635800</td>\n",
       "    </tr>\n",
       "    <tr>\n",
       "      <th>3</th>\n",
       "      <td>0.0</td>\n",
       "      <td>1</td>\n",
       "      <td>0</td>\n",
       "      <td>0.513270</td>\n",
       "    </tr>\n",
       "    <tr>\n",
       "      <th>4</th>\n",
       "      <td>1.0</td>\n",
       "      <td>1</td>\n",
       "      <td>1</td>\n",
       "      <td>0.179913</td>\n",
       "    </tr>\n",
       "    <tr>\n",
       "      <th>5</th>\n",
       "      <td>NaN</td>\n",
       "      <td>1</td>\n",
       "      <td>2</td>\n",
       "      <td>0.312453</td>\n",
       "    </tr>\n",
       "    <tr>\n",
       "      <th>6</th>\n",
       "      <td>2.0</td>\n",
       "      <td>2</td>\n",
       "      <td>0</td>\n",
       "      <td>0.217232</td>\n",
       "    </tr>\n",
       "    <tr>\n",
       "      <th>7</th>\n",
       "      <td>3.0</td>\n",
       "      <td>2</td>\n",
       "      <td>1</td>\n",
       "      <td>0.243565</td>\n",
       "    </tr>\n",
       "    <tr>\n",
       "      <th>8</th>\n",
       "      <td>4.0</td>\n",
       "      <td>2</td>\n",
       "      <td>2</td>\n",
       "      <td>0.399214</td>\n",
       "    </tr>\n",
       "    <tr>\n",
       "      <th>9</th>\n",
       "      <td>5.0</td>\n",
       "      <td>3</td>\n",
       "      <td>0</td>\n",
       "      <td>0.465064</td>\n",
       "    </tr>\n",
       "    <tr>\n",
       "      <th>10</th>\n",
       "      <td>6.0</td>\n",
       "      <td>3</td>\n",
       "      <td>1</td>\n",
       "      <td>0.888597</td>\n",
       "    </tr>\n",
       "    <tr>\n",
       "      <th>11</th>\n",
       "      <td>7.0</td>\n",
       "      <td>3</td>\n",
       "      <td>2</td>\n",
       "      <td>0.498130</td>\n",
       "    </tr>\n",
       "  </tbody>\n",
       "</table>\n",
       "</div>"
      ],
      "text/plain": [
       "    telework_option_category  age_category  income_category      rate\n",
       "0                        NaN             0                0  0.217527\n",
       "1                        NaN             0                1  0.609129\n",
       "2                        NaN             0                2  0.635800\n",
       "3                        0.0             1                0  0.513270\n",
       "4                        1.0             1                1  0.179913\n",
       "5                        NaN             1                2  0.312453\n",
       "6                        2.0             2                0  0.217232\n",
       "7                        3.0             2                1  0.243565\n",
       "8                        4.0             2                2  0.399214\n",
       "9                        5.0             3                0  0.465064\n",
       "10                       6.0             3                1  0.888597\n",
       "11                       7.0             3                2  0.498130"
      ]
     },
     "execution_count": 73,
     "metadata": {},
     "output_type": "execute_result"
    }
   ],
   "source": [
    "telework_option_rates"
   ]
  },
  {
   "cell_type": "code",
   "execution_count": 75,
   "id": "seven-siemens",
   "metadata": {},
   "outputs": [],
   "source": [
    "rate_dict = telework_option_rates.set_index('telework_option_category')['rate']#.to_dict()"
   ]
  },
  {
   "cell_type": "code",
   "execution_count": 76,
   "id": "ancient-glucose",
   "metadata": {},
   "outputs": [
    {
     "data": {
      "text/plain": [
       "telework_option_category\n",
       "NaN    0.217527\n",
       "NaN    0.609129\n",
       "NaN    0.635800\n",
       "0.0    0.513270\n",
       "1.0    0.179913\n",
       "NaN    0.312453\n",
       "2.0    0.217232\n",
       "3.0    0.243565\n",
       "4.0    0.399214\n",
       "5.0    0.465064\n",
       "6.0    0.888597\n",
       "7.0    0.498130\n",
       "Name: rate, dtype: float64"
      ]
     },
     "execution_count": 76,
     "metadata": {},
     "output_type": "execute_result"
    }
   ],
   "source": [
    "rate_dict"
   ]
  },
  {
   "cell_type": "code",
   "execution_count": null,
   "id": "southeast-neutral",
   "metadata": {},
   "outputs": [],
   "source": [
    "persons_merge"
   ]
  },
  {
   "cell_type": "code",
   "execution_count": 81,
   "id": "female-reporter",
   "metadata": {},
   "outputs": [],
   "source": [
    "# choosers['telework_probs'] = choosers['telework_option_category'].replace(rate_dict)\n",
    "choosers.insert(choosers.shape[1], 'telework_option_probs', choosers['telework_option_category'].replace(rate_dict))"
   ]
  },
  {
   "cell_type": "code",
   "execution_count": null,
   "id": "neutral-dover",
   "metadata": {},
   "outputs": [],
   "source": [
    "1 - persons_merge['telework_probs']"
   ]
  },
  {
   "cell_type": "code",
   "execution_count": null,
   "id": "engaging-picking",
   "metadata": {},
   "outputs": [],
   "source": [
    "# Simulation\n",
    "trace_label = 'telework'\n",
    "probs = persons_merge[['telework_probs']]\n",
    "probs.insert(0,'0', 1 - probs.telework_probs)\n",
    "\n",
    "choices, rands = logit.make_choices(probs, trace_label=trace_label)"
   ]
  },
  {
   "cell_type": "code",
   "execution_count": null,
   "id": "presidential-israel",
   "metadata": {},
   "outputs": [],
   "source": [
    "# Simulation Result. Who telecommutes today. \n",
    "persons['telework'] = choices.reindex(persons.index).fillna(0).astype(bool)"
   ]
  },
  {
   "cell_type": "code",
   "execution_count": null,
   "id": "baking-finger",
   "metadata": {},
   "outputs": [],
   "source": [
    "#Change ptype to 4 (non-workers which makes mandatory trips unaveilable)\n",
    "new_ptype = persons['ptype'].mask(persons.telework, 4)"
   ]
  },
  {
   "cell_type": "code",
   "execution_count": null,
   "id": "connected-novel",
   "metadata": {},
   "outputs": [],
   "source": [
    "@inject.step()\n",
    "def telework(\n",
    "        persons_merged, persons, households,\n",
    "        skim_dict, skim_stack,\n",
    "        chunk_size, trace_hh_id, locutor):\n",
    "    \n",
    "    \"\"\"\n",
    "\n",
    "    \"\"\"\n",
    "\n",
    "    trace_label = 'telework'\n",
    "    model_settings_file_name = 'telework.yaml'\n",
    "\n",
    "    choosers = persons_merged.to_frame()\n",
    "    choosers = choosers[choosers.workplace_taz > -1] # Add filter that choosers are only workers\n",
    "    \n",
    "    logger.info(\"Running %s with %d persons\", trace_label, len(choosers))\n",
    "\n",
    "    model_settings = config.read_model_settings(model_settings_file_name)\n",
    "#     constants = config.get_model_constants(model_settings)\n",
    "\n",
    "    # - preprocessor\n",
    "    \n",
    "    add_rate_to_chooser()\n",
    "    get_chooser_and_rates() #add probability of telecommuting and the compliment as well. \n",
    "    \n",
    "#     preprocessor_settings = model_settings.get('preprocessor', None)\n",
    "#     if preprocessor_settings:\n",
    "\n",
    "#         locals_d = {}\n",
    "#         if constants is not None:\n",
    "#             locals_d.update(constants)\n",
    "\n",
    "#         expressions.assign_columns(\n",
    "#             df=choosers,\n",
    "#             model_settings=preprocessor_settings,\n",
    "#             locals_dict=locals_d,\n",
    "#             trace_label=trace_label)\n",
    "\n",
    "#     model_spec = simulate.read_model_spec(file_name=model_settings['SPEC'])\n",
    "#     coefficients_df = simulate.read_model_coefficients(model_settings)\n",
    "#     model_spec = simulate.eval_coefficients(model_spec, coefficients_df, estimator)\n",
    "\n",
    "#     nest_spec = config.get_logit_model_settings(model_settings)\n",
    "\n",
    "\n",
    "        ## FIX ME - This is way to complex function. I should just get the simulator because I have the\n",
    "        ## probability ready (as the rate) \n",
    "#     choices = simulate.simple_simulate(\n",
    "#         choosers=choosers,\n",
    "#         spec=model_spec,\n",
    "#         nest_spec=nest_spec,\n",
    "#         locals_d=constants,\n",
    "#         chunk_size=chunk_size,\n",
    "#         trace_label=trace_label,\n",
    "#         trace_choice_name='telework',\n",
    "#         estimator=estimator)\n",
    "\n",
    "    probs = #This hsoudl be a dataframe (row are users, columns are choices)\n",
    "    choices, rands = logit.make_choices(probs, trace_label=trace_label)\n",
    "\n",
    "    free_parking_alt = model_settings['FREE_PARKING_ALT']\n",
    "    choices = (choices == free_parking_alt)\n",
    "\n",
    "    persons = persons.to_frame()\n",
    "    persons['telework'] = choices.reindex(persons.index).fillna(0).astype(bool)\n",
    "\n",
    "    pipeline.replace_table(\"persons\", persons)\n",
    "\n",
    "    tracing.print_summary('telework', persons.telework, value_counts=True)\n",
    "\n",
    "    if trace_hh_id:\n",
    "        tracing.trace_df(persons,\n",
    "                         label=trace_label,\n",
    "                         warn_if_empty=True)"
   ]
  }
 ],
 "metadata": {
  "kernelspec": {
   "display_name": "Python 3",
   "language": "python",
   "name": "python3"
  },
  "language_info": {
   "codemirror_mode": {
    "name": "ipython",
    "version": 3
   },
   "file_extension": ".py",
   "mimetype": "text/x-python",
   "name": "python",
   "nbconvert_exporter": "python",
   "pygments_lexer": "ipython3",
   "version": "3.9.2"
  }
 },
 "nbformat": 4,
 "nbformat_minor": 5
}
