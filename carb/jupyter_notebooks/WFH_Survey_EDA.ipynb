{
 "cells": [
  {
   "cell_type": "code",
   "execution_count": 96,
   "id": "50079433",
   "metadata": {},
   "outputs": [],
   "source": [
    "import pandas as pd \n",
    "import numpy as np \n",
    "import matplotlib.pyplot as plt \n",
    "import seaborn as sns\n",
    "\n",
    "pd.options.mode.chained_assignment = None\n",
    "\n",
    "import os\n",
    "os.chdir('../')\n",
    "from utils import bootsratp\n",
    "os.chdir('jupyter_notebooks')"
   ]
  },
  {
   "cell_type": "code",
   "execution_count": 86,
   "id": "6935e34c",
   "metadata": {},
   "outputs": [],
   "source": [
    "df = pd.read_csv('wfh_survey/WFHdata_March22.csv')"
   ]
  },
  {
   "cell_type": "code",
   "execution_count": 3,
   "id": "1e5b283f",
   "metadata": {},
   "outputs": [
    {
     "data": {
      "text/plain": [
       "2022m1     5834\n",
       "2022m2     5543\n",
       "2021m12    4533\n",
       "2021m8     4501\n",
       "2020m8     4337\n",
       "2021m7     4276\n",
       "2022m3     4200\n",
       "2021m11    4196\n",
       "2021m6     4191\n",
       "2021m5     4183\n",
       "2021m4     4176\n",
       "2020m12    4097\n",
       "2021m10    4084\n",
       "2021m9     4043\n",
       "2021m1     3939\n",
       "2020m5     2954\n",
       "2021m2     2424\n",
       "2020m11    2330\n",
       "2020m10    2247\n",
       "2020m9     2174\n",
       "2020m7     2140\n",
       "2021m3     1955\n",
       "Name: date, dtype: int64"
      ]
     },
     "execution_count": 3,
     "metadata": {},
     "output_type": "execute_result"
    }
   ],
   "source": [
    "# date \"YYYYmM - survey wave\"\n",
    "df.date.value_counts(dropna = False)"
   ]
  },
  {
   "cell_type": "code",
   "execution_count": 4,
   "id": "dc44ee2e",
   "metadata": {},
   "outputs": [
    {
     "data": {
      "text/plain": [
       "0         $50k to $100k\n",
       "1          $20k to $50k\n",
       "2          $20k to $50k\n",
       "3        $100k to $150k\n",
       "4                $150k+\n",
       "              ...      \n",
       "82352     $50k to $100k\n",
       "82353      $20k to $50k\n",
       "82354      $20k to $50k\n",
       "82355     $50k to $100k\n",
       "82356      $20k to $50k\n",
       "Name: incomebin, Length: 82357, dtype: object"
      ]
     },
     "execution_count": 4,
     "metadata": {},
     "output_type": "execute_result"
    }
   ],
   "source": [
    "# income \"2019 Earnings, $ Thousand\"\n",
    "df.income.value_counts()\n",
    "\n",
    "#Income seems to be approximated\n",
    "\n",
    "#incomebin \"2019 Earnings, $ Thousand - categorical (coarse), string form\"\n",
    "#Strings of actual income bins lower and upper bound. \n",
    "df.incomebin"
   ]
  },
  {
   "cell_type": "markdown",
   "id": "ff4d0a4b",
   "metadata": {},
   "source": [
    "- Income categories (coarse and fine)\n",
    "- iincomebin 1 \"$20k to $50k\"\n",
    "- iincomebin 2 \"$50k to $100k\"\n",
    "- iincomebin 3 \"$100k to $150k\"\n",
    "- iincomebin 4 \"$150k+\""
   ]
  },
  {
   "cell_type": "code",
   "execution_count": 5,
   "id": "9fc722c8",
   "metadata": {},
   "outputs": [
    {
     "data": {
      "text/plain": [
       "35    28244\n",
       "45    20521\n",
       "57    20000\n",
       "25    13592\n",
       "Name: age_quant, dtype: int64"
      ]
     },
     "execution_count": 5,
     "metadata": {},
     "output_type": "execute_result"
    }
   ],
   "source": [
    "#age_quant \"Age in years\"\n",
    "df.age_quant.value_counts()"
   ]
  },
  {
   "cell_type": "code",
   "execution_count": 6,
   "id": "9a273eb6",
   "metadata": {},
   "outputs": [
    {
     "data": {
      "text/plain": [
       "3    28244\n",
       "4    20521\n",
       "5    20000\n",
       "2    13592\n",
       "Name: agebin, dtype: int64"
      ]
     },
     "execution_count": 6,
     "metadata": {},
     "output_type": "execute_result"
    }
   ],
   "source": [
    "# agebin \"Age - categorical bins\"\n",
    "df.agebin.value_counts()"
   ]
  },
  {
   "cell_type": "markdown",
   "id": "3b8c0677",
   "metadata": {},
   "source": [
    "It seems that age in binned, but I'm not sure about the limits of the bins "
   ]
  },
  {
   "cell_type": "code",
   "execution_count": 7,
   "id": "08b0f390",
   "metadata": {},
   "outputs": [
    {
     "data": {
      "text/plain": [
       "16    25516\n",
       "14    20196\n",
       "18    18304\n",
       "12    15011\n",
       "21     2234\n",
       "10     1096\n",
       "Name: educ_years, dtype: int64"
      ]
     },
     "execution_count": 7,
     "metadata": {},
     "output_type": "execute_result"
    }
   ],
   "source": [
    "# educ_years \"Years of education\"\n",
    "df.educ_years.value_counts()"
   ]
  },
  {
   "cell_type": "code",
   "execution_count": 8,
   "id": "3332a3de",
   "metadata": {},
   "outputs": [
    {
     "data": {
      "text/plain": [
       "4    25516\n",
       "3    20196\n",
       "5    18304\n",
       "2    15011\n",
       "6     2234\n",
       "1     1096\n",
       "Name: education, dtype: int64"
      ]
     },
     "execution_count": 8,
     "metadata": {},
     "output_type": "execute_result"
    }
   ],
   "source": [
    "# education \"Education - categorical\"\n",
    "df.education.value_counts() ## It also seems to be binned but not sure what the bins mean"
   ]
  },
  {
   "cell_type": "code",
   "execution_count": 9,
   "id": "757f95b5",
   "metadata": {},
   "outputs": [
    {
     "data": {
      "text/plain": [
       "4    25516\n",
       "5    20538\n",
       "3    20196\n",
       "2    15011\n",
       "1     1096\n",
       "Name: education_s, dtype: int64"
      ]
     },
     "execution_count": 9,
     "metadata": {},
     "output_type": "execute_result"
    }
   ],
   "source": [
    "df.education_s.value_counts()"
   ]
  },
  {
   "cell_type": "markdown",
   "id": "f5106194",
   "metadata": {},
   "source": [
    "§ Education (there are two similar variables)\n",
    "education 1 \"Less than high-school graduation\"\n",
    "education 2 \"High-school graduation\"\n",
    "education 3 \"1 to 3-years of college\"\n",
    "education 4 \"4 years of college degree\"\n",
    "education 5 \"Masters or Professional Degree\"\n",
    "education 6 \"PhD\"\n",
    "education 1 \"Less than high-school degree\"\n",
    "education 2 \"High-school degree\"\n",
    "education 3 \"1 to 3-years of college\"\n",
    "education 4 \"4-year college degree\"\n",
    "education 5 \"Graduate degree\""
   ]
  },
  {
   "cell_type": "code",
   "execution_count": 10,
   "id": "22b225d1",
   "metadata": {},
   "outputs": [
    {
     "data": {
      "text/plain": [
       "0      50246\n",
       "100    32111\n",
       "Name: wfhcovid, dtype: int64"
      ]
     },
     "execution_count": 10,
     "metadata": {},
     "output_type": "execute_result"
    }
   ],
   "source": [
    "# wfhcovid \"100 x 1(WFH this week, i.e. during COVID)\"\n",
    "df.wfhcovid.value_counts(dropna = False)"
   ]
  },
  {
   "cell_type": "code",
   "execution_count": 11,
   "id": "ade566f3",
   "metadata": {},
   "outputs": [
    {
     "data": {
      "text/plain": [
       "100.0    52641\n",
       "0.0      24622\n",
       "NaN       5094\n",
       "Name: wfhcovid_ever, dtype: int64"
      ]
     },
     "execution_count": 11,
     "metadata": {},
     "output_type": "execute_result"
    }
   ],
   "source": [
    "# wfhcovid_ever \"100 x 1(Ever WFH during COVID)\"\n",
    "df.wfhcovid_ever.value_counts(dropna = False)"
   ]
  },
  {
   "cell_type": "code",
   "execution_count": null,
   "id": "756e5459",
   "metadata": {},
   "outputs": [],
   "source": []
  },
  {
   "cell_type": "code",
   "execution_count": 12,
   "id": "4faa9fa6",
   "metadata": {
    "scrolled": true
   },
   "outputs": [],
   "source": [
    "#income_cat"
   ]
  },
  {
   "cell_type": "code",
   "execution_count": 13,
   "id": "f171903a",
   "metadata": {},
   "outputs": [
    {
     "data": {
      "text/plain": [
       "6.0     11158\n",
       "11.0    10869\n",
       "3.0      8142\n",
       "5.0      7349\n",
       "13.0     6109\n",
       "9.0      5776\n",
       "4.0      5676\n",
       "8.0      5531\n",
       "7.0      4635\n",
       "17.0     4352\n",
       "14.0     3396\n",
       "2.0      1898\n",
       "1.0      1403\n",
       "12.0     1328\n",
       "15.0     1305\n",
       "18.0     1278\n",
       "16.0     1100\n",
       "10.0      557\n",
       "NaN       495\n",
       "Name: work_industry, dtype: int64"
      ]
     },
     "execution_count": 13,
     "metadata": {},
     "output_type": "execute_result"
    }
   ],
   "source": [
    "# work_industry \"Industry of current or most recent job\"\n",
    "df.work_industry.value_counts(dropna=False)"
   ]
  },
  {
   "cell_type": "markdown",
   "id": "a6ff319c",
   "metadata": {},
   "source": [
    "### Industry of current job\n",
    "- work_industry 1 \"Agriculture\",\n",
    "- work_industry 2 \"Arts & Entertainment\"\n",
    "- work_industry 3 \"Finance & Insurance\"\n",
    "- work_industry 4 \"Construction\"\n",
    "- work_industry 5 \"Education\"\n",
    "- work_industry 6 \"Health Care & Social Assistance\"\n",
    "- work_industry 7 \"Hospitality & Food Services\"\n",
    "- work_industry 8 \"Information\"\n",
    "- work_industry 9 \"Manufacturing\"\n",
    "- work_industry 10 \"Mining\"\n",
    "- work_industry 11 \"Professional & Business Services\"\n",
    "- work_industry 12 \"Real Estate\"\n",
    "- work_industry 13 \"Retail Trade\"\n",
    "- work_industry 14 \"Transportation and Warehousing\"\n",
    "work_industry 15 \"Utilities\"\n",
    "- work_industry 16 \"Wholesale Trade\"\n",
    "- work_industry 17 \"Government\"\n",
    "- work_industry 18 \"Other\""
   ]
  },
  {
   "cell_type": "code",
   "execution_count": 14,
   "id": "20dc5740",
   "metadata": {},
   "outputs": [
    {
     "data": {
      "text/plain": [
       "0        12.0\n",
       "1        10.0\n",
       "2         5.0\n",
       "3        12.0\n",
       "4         1.0\n",
       "         ... \n",
       "82352     8.0\n",
       "82353    12.0\n",
       "82354     6.0\n",
       "82355     4.0\n",
       "82356     7.0\n",
       "Name: occupation, Length: 82357, dtype: float64"
      ]
     },
     "execution_count": 14,
     "metadata": {},
     "output_type": "execute_result"
    }
   ],
   "source": [
    "df.occupation"
   ]
  },
  {
   "cell_type": "code",
   "execution_count": 15,
   "id": "f8a0f97e",
   "metadata": {},
   "outputs": [
    {
     "data": {
      "text/plain": [
       "1.0    2375\n",
       "5.0     925\n",
       "2.0     725\n",
       "3.0     490\n",
       "4.0     486\n",
       "Name: wfh_able, dtype: int64"
      ]
     },
     "execution_count": 15,
     "metadata": {},
     "output_type": "execute_result"
    }
   ],
   "source": [
    "df.wfh_able.value_counts(dropna = True)"
   ]
  },
  {
   "cell_type": "code",
   "execution_count": 16,
   "id": "00ead35d",
   "metadata": {},
   "outputs": [
    {
     "ename": "AttributeError",
     "evalue": "'DataFrame' object has no attribute 'wfh_able_equal'",
     "output_type": "error",
     "traceback": [
      "\u001b[0;31m---------------------------------------------------------------------------\u001b[0m",
      "\u001b[0;31mAttributeError\u001b[0m                            Traceback (most recent call last)",
      "\u001b[0;32m<ipython-input-16-6484d9ad5c02>\u001b[0m in \u001b[0;36m<module>\u001b[0;34m\u001b[0m\n\u001b[0;32m----> 1\u001b[0;31m \u001b[0mdf\u001b[0m\u001b[0;34m.\u001b[0m\u001b[0mwfh_able_equal\u001b[0m\u001b[0;34m.\u001b[0m\u001b[0mvalue_counts\u001b[0m\u001b[0;34m\u001b[0m\u001b[0;34m\u001b[0m\u001b[0m\n\u001b[0m",
      "\u001b[0;32m~/anaconda3/envs/asimtest/lib/python3.8/site-packages/pandas/core/generic.py\u001b[0m in \u001b[0;36m__getattr__\u001b[0;34m(self, name)\u001b[0m\n\u001b[1;32m   5463\u001b[0m             \u001b[0;32mif\u001b[0m \u001b[0mself\u001b[0m\u001b[0;34m.\u001b[0m\u001b[0m_info_axis\u001b[0m\u001b[0;34m.\u001b[0m\u001b[0m_can_hold_identifiers_and_holds_name\u001b[0m\u001b[0;34m(\u001b[0m\u001b[0mname\u001b[0m\u001b[0;34m)\u001b[0m\u001b[0;34m:\u001b[0m\u001b[0;34m\u001b[0m\u001b[0;34m\u001b[0m\u001b[0m\n\u001b[1;32m   5464\u001b[0m                 \u001b[0;32mreturn\u001b[0m \u001b[0mself\u001b[0m\u001b[0;34m[\u001b[0m\u001b[0mname\u001b[0m\u001b[0;34m]\u001b[0m\u001b[0;34m\u001b[0m\u001b[0;34m\u001b[0m\u001b[0m\n\u001b[0;32m-> 5465\u001b[0;31m             \u001b[0;32mreturn\u001b[0m \u001b[0mobject\u001b[0m\u001b[0;34m.\u001b[0m\u001b[0m__getattribute__\u001b[0m\u001b[0;34m(\u001b[0m\u001b[0mself\u001b[0m\u001b[0;34m,\u001b[0m \u001b[0mname\u001b[0m\u001b[0;34m)\u001b[0m\u001b[0;34m\u001b[0m\u001b[0;34m\u001b[0m\u001b[0m\n\u001b[0m\u001b[1;32m   5466\u001b[0m \u001b[0;34m\u001b[0m\u001b[0m\n\u001b[1;32m   5467\u001b[0m     \u001b[0;32mdef\u001b[0m \u001b[0m__setattr__\u001b[0m\u001b[0;34m(\u001b[0m\u001b[0mself\u001b[0m\u001b[0;34m,\u001b[0m \u001b[0mname\u001b[0m\u001b[0;34m:\u001b[0m \u001b[0mstr\u001b[0m\u001b[0;34m,\u001b[0m \u001b[0mvalue\u001b[0m\u001b[0;34m)\u001b[0m \u001b[0;34m->\u001b[0m \u001b[0;32mNone\u001b[0m\u001b[0;34m:\u001b[0m\u001b[0;34m\u001b[0m\u001b[0;34m\u001b[0m\u001b[0m\n",
      "\u001b[0;31mAttributeError\u001b[0m: 'DataFrame' object has no attribute 'wfh_able_equal'"
     ]
    }
   ],
   "source": [
    "df.wfh_able_equal.value_counts"
   ]
  },
  {
   "cell_type": "markdown",
   "id": "1091bc38",
   "metadata": {},
   "source": [
    "## WFH - Option \n",
    "\n",
    "There seems to be three main questions that may help me undertand WFH as an option \n",
    "\n",
    "\n",
    "**worksite_option**: Do you currently have the option to work at more than one employer worksite?\n",
    "- worksite_option 1 \"Yes\"\n",
    "- worksite_option 2 \"No\"\n",
    "\n",
    "**wfh_able**: Ability to work from home. Note: wfh_able is based on a question asked prior to August\n",
    "2020. \n",
    "\n",
    "- wfh_able 1 \"Completely, 100%+ efficient\"\n",
    "- wfh_able 2 \"Mostly, 80% to 90% efficient\"\n",
    "- wfh_able 3 \"Partly, 50% to 70% efficient\"\n",
    "- wfh_able 4 \"Barely, less than 50% efficient\"\n",
    "- wfh_able 5 \"No, I cannot do my job at home\"\n",
    "\n",
    "**wfh_able_qual:** wfh_able_qual is based on a question asked from November 2020\n",
    "- wfh_able_qual 1 \"No\"\n",
    "- wfh_able_qual 2 \"Yes\""
   ]
  },
  {
   "cell_type": "code",
   "execution_count": 17,
   "id": "2e6460bf",
   "metadata": {},
   "outputs": [
    {
     "data": {
      "text/plain": [
       "NaN    64599\n",
       "2.0     9376\n",
       "1.0     8382\n",
       "Name: worksite_option, dtype: int64"
      ]
     },
     "execution_count": 17,
     "metadata": {},
     "output_type": "execute_result"
    }
   ],
   "source": [
    "df.worksite_option.value_counts(dropna = False)"
   ]
  },
  {
   "cell_type": "code",
   "execution_count": 18,
   "id": "c26d262f",
   "metadata": {},
   "outputs": [
    {
     "data": {
      "text/plain": [
       "NaN    77356\n",
       "1.0     2375\n",
       "5.0      925\n",
       "2.0      725\n",
       "3.0      490\n",
       "4.0      486\n",
       "Name: wfh_able, dtype: int64"
      ]
     },
     "execution_count": 18,
     "metadata": {},
     "output_type": "execute_result"
    }
   ],
   "source": [
    "df.wfh_able.value_counts(dropna= False)"
   ]
  },
  {
   "cell_type": "code",
   "execution_count": 19,
   "id": "9cbd464c",
   "metadata": {},
   "outputs": [
    {
     "data": {
      "text/plain": [
       "NaN    61189\n",
       "2.0    13824\n",
       "1.0     7344\n",
       "Name: wfh_able_qual, dtype: int64"
      ]
     },
     "execution_count": 19,
     "metadata": {},
     "output_type": "execute_result"
    }
   ],
   "source": [
    "df.wfh_able_qual.value_counts(dropna = False)"
   ]
  },
  {
   "cell_type": "code",
   "execution_count": 20,
   "id": "cc96f78b",
   "metadata": {},
   "outputs": [
    {
     "data": {
      "text/plain": [
       "0      50246\n",
       "100    32111\n",
       "Name: wfhcovid, dtype: int64"
      ]
     },
     "execution_count": 20,
     "metadata": {},
     "output_type": "execute_result"
    }
   ],
   "source": [
    "df.wfhcovid.value_counts(dropna = False)"
   ]
  },
  {
   "cell_type": "markdown",
   "id": "5de56dd7",
   "metadata": {},
   "source": [
    "The dataset only ahve a few people ansering this question. I wonder why this is the case. For the worksite option and able_qual, there seems to be the same people out. **wfh_able** have more people out. This seems to be a less objective question. "
   ]
  },
  {
   "cell_type": "code",
   "execution_count": 21,
   "id": "bbdaaeff",
   "metadata": {},
   "outputs": [
    {
     "data": {
      "text/html": [
       "<div>\n",
       "<style scoped>\n",
       "    .dataframe tbody tr th:only-of-type {\n",
       "        vertical-align: middle;\n",
       "    }\n",
       "\n",
       "    .dataframe tbody tr th {\n",
       "        vertical-align: top;\n",
       "    }\n",
       "\n",
       "    .dataframe thead th {\n",
       "        text-align: right;\n",
       "    }\n",
       "</style>\n",
       "<table border=\"1\" class=\"dataframe\">\n",
       "  <thead>\n",
       "    <tr style=\"text-align: right;\">\n",
       "      <th></th>\n",
       "      <th></th>\n",
       "      <th></th>\n",
       "      <th>person</th>\n",
       "      <th>icratio100</th>\n",
       "    </tr>\n",
       "    <tr>\n",
       "      <th>date</th>\n",
       "      <th>wfh_able_qual_v1</th>\n",
       "      <th>wfhcovid_v1</th>\n",
       "      <th></th>\n",
       "      <th></th>\n",
       "    </tr>\n",
       "  </thead>\n",
       "  <tbody>\n",
       "    <tr>\n",
       "      <th rowspan=\"4\" valign=\"top\">2020m10</th>\n",
       "      <th rowspan=\"2\" valign=\"top\">no</th>\n",
       "      <th>no</th>\n",
       "      <td>587</td>\n",
       "      <td>0.809088</td>\n",
       "    </tr>\n",
       "    <tr>\n",
       "      <th>yes</th>\n",
       "      <td>104</td>\n",
       "      <td>0.127061</td>\n",
       "    </tr>\n",
       "    <tr>\n",
       "      <th rowspan=\"2\" valign=\"top\">yes</th>\n",
       "      <th>no</th>\n",
       "      <td>906</td>\n",
       "      <td>1.135101</td>\n",
       "    </tr>\n",
       "    <tr>\n",
       "      <th>yes</th>\n",
       "      <td>650</td>\n",
       "      <td>0.825772</td>\n",
       "    </tr>\n",
       "    <tr>\n",
       "      <th rowspan=\"4\" valign=\"top\">2020m11</th>\n",
       "      <th rowspan=\"2\" valign=\"top\">no</th>\n",
       "      <th>no</th>\n",
       "      <td>661</td>\n",
       "      <td>0.895073</td>\n",
       "    </tr>\n",
       "    <tr>\n",
       "      <th>yes</th>\n",
       "      <td>133</td>\n",
       "      <td>0.174006</td>\n",
       "    </tr>\n",
       "    <tr>\n",
       "      <th rowspan=\"2\" valign=\"top\">yes</th>\n",
       "      <th>no</th>\n",
       "      <td>649</td>\n",
       "      <td>0.811173</td>\n",
       "    </tr>\n",
       "    <tr>\n",
       "      <th>yes</th>\n",
       "      <td>887</td>\n",
       "      <td>1.155529</td>\n",
       "    </tr>\n",
       "    <tr>\n",
       "      <th rowspan=\"4\" valign=\"top\">2020m12</th>\n",
       "      <th rowspan=\"2\" valign=\"top\">no</th>\n",
       "      <th>no</th>\n",
       "      <td>1237</td>\n",
       "      <td>1.838349</td>\n",
       "    </tr>\n",
       "    <tr>\n",
       "      <th>yes</th>\n",
       "      <td>239</td>\n",
       "      <td>0.324535</td>\n",
       "    </tr>\n",
       "    <tr>\n",
       "      <th rowspan=\"2\" valign=\"top\">yes</th>\n",
       "      <th>no</th>\n",
       "      <td>1083</td>\n",
       "      <td>1.506396</td>\n",
       "    </tr>\n",
       "    <tr>\n",
       "      <th>yes</th>\n",
       "      <td>1538</td>\n",
       "      <td>2.074909</td>\n",
       "    </tr>\n",
       "    <tr>\n",
       "      <th rowspan=\"2\" valign=\"top\">2020m5</th>\n",
       "      <th rowspan=\"2\" valign=\"top\">-1.0</th>\n",
       "      <th>no</th>\n",
       "      <td>1473</td>\n",
       "      <td>2.296291</td>\n",
       "    </tr>\n",
       "    <tr>\n",
       "      <th>yes</th>\n",
       "      <td>1481</td>\n",
       "      <td>2.208851</td>\n",
       "    </tr>\n",
       "    <tr>\n",
       "      <th rowspan=\"2\" valign=\"top\">2020m7</th>\n",
       "      <th rowspan=\"2\" valign=\"top\">-1.0</th>\n",
       "      <th>no</th>\n",
       "      <td>1169</td>\n",
       "      <td>1.450088</td>\n",
       "    </tr>\n",
       "    <tr>\n",
       "      <th>yes</th>\n",
       "      <td>971</td>\n",
       "      <td>1.104027</td>\n",
       "    </tr>\n",
       "    <tr>\n",
       "      <th rowspan=\"2\" valign=\"top\">2020m8</th>\n",
       "      <th rowspan=\"2\" valign=\"top\">-1.0</th>\n",
       "      <th>no</th>\n",
       "      <td>2534</td>\n",
       "      <td>3.603326</td>\n",
       "    </tr>\n",
       "    <tr>\n",
       "      <th>yes</th>\n",
       "      <td>1803</td>\n",
       "      <td>2.229170</td>\n",
       "    </tr>\n",
       "    <tr>\n",
       "      <th rowspan=\"2\" valign=\"top\">2020m9</th>\n",
       "      <th rowspan=\"2\" valign=\"top\">-1.0</th>\n",
       "      <th>no</th>\n",
       "      <td>1385</td>\n",
       "      <td>1.718155</td>\n",
       "    </tr>\n",
       "    <tr>\n",
       "      <th>yes</th>\n",
       "      <td>789</td>\n",
       "      <td>1.029879</td>\n",
       "    </tr>\n",
       "    <tr>\n",
       "      <th rowspan=\"4\" valign=\"top\">2021m1</th>\n",
       "      <th rowspan=\"2\" valign=\"top\">no</th>\n",
       "      <th>no</th>\n",
       "      <td>1138</td>\n",
       "      <td>1.781784</td>\n",
       "    </tr>\n",
       "    <tr>\n",
       "      <th>yes</th>\n",
       "      <td>225</td>\n",
       "      <td>0.323126</td>\n",
       "    </tr>\n",
       "    <tr>\n",
       "      <th rowspan=\"2\" valign=\"top\">yes</th>\n",
       "      <th>no</th>\n",
       "      <td>1058</td>\n",
       "      <td>1.493529</td>\n",
       "    </tr>\n",
       "    <tr>\n",
       "      <th>yes</th>\n",
       "      <td>1518</td>\n",
       "      <td>2.078022</td>\n",
       "    </tr>\n",
       "    <tr>\n",
       "      <th rowspan=\"2\" valign=\"top\">2021m10</th>\n",
       "      <th rowspan=\"2\" valign=\"top\">-1.0</th>\n",
       "      <th>no</th>\n",
       "      <td>2524</td>\n",
       "      <td>2.834185</td>\n",
       "    </tr>\n",
       "    <tr>\n",
       "      <th>yes</th>\n",
       "      <td>1560</td>\n",
       "      <td>1.742422</td>\n",
       "    </tr>\n",
       "    <tr>\n",
       "      <th rowspan=\"2\" valign=\"top\">2021m11</th>\n",
       "      <th rowspan=\"2\" valign=\"top\">-1.0</th>\n",
       "      <th>no</th>\n",
       "      <td>2536</td>\n",
       "      <td>3.156354</td>\n",
       "    </tr>\n",
       "    <tr>\n",
       "      <th>yes</th>\n",
       "      <td>1660</td>\n",
       "      <td>2.123878</td>\n",
       "    </tr>\n",
       "    <tr>\n",
       "      <th rowspan=\"2\" valign=\"top\">2021m12</th>\n",
       "      <th rowspan=\"2\" valign=\"top\">-1.0</th>\n",
       "      <th>no</th>\n",
       "      <td>2755</td>\n",
       "      <td>3.471771</td>\n",
       "    </tr>\n",
       "    <tr>\n",
       "      <th>yes</th>\n",
       "      <td>1778</td>\n",
       "      <td>2.087311</td>\n",
       "    </tr>\n",
       "    <tr>\n",
       "      <th rowspan=\"4\" valign=\"top\">2021m2</th>\n",
       "      <th rowspan=\"2\" valign=\"top\">no</th>\n",
       "      <th>no</th>\n",
       "      <td>738</td>\n",
       "      <td>1.180780</td>\n",
       "    </tr>\n",
       "    <tr>\n",
       "      <th>yes</th>\n",
       "      <td>117</td>\n",
       "      <td>0.147349</td>\n",
       "    </tr>\n",
       "    <tr>\n",
       "      <th rowspan=\"2\" valign=\"top\">yes</th>\n",
       "      <th>no</th>\n",
       "      <td>888</td>\n",
       "      <td>1.184517</td>\n",
       "    </tr>\n",
       "    <tr>\n",
       "      <th>yes</th>\n",
       "      <td>681</td>\n",
       "      <td>0.881502</td>\n",
       "    </tr>\n",
       "    <tr>\n",
       "      <th rowspan=\"4\" valign=\"top\">2021m3</th>\n",
       "      <th rowspan=\"2\" valign=\"top\">no</th>\n",
       "      <th>no</th>\n",
       "      <td>547</td>\n",
       "      <td>0.853622</td>\n",
       "    </tr>\n",
       "    <tr>\n",
       "      <th>yes</th>\n",
       "      <td>90</td>\n",
       "      <td>0.111697</td>\n",
       "    </tr>\n",
       "    <tr>\n",
       "      <th rowspan=\"2\" valign=\"top\">yes</th>\n",
       "      <th>no</th>\n",
       "      <td>569</td>\n",
       "      <td>0.726801</td>\n",
       "    </tr>\n",
       "    <tr>\n",
       "      <th>yes</th>\n",
       "      <td>749</td>\n",
       "      <td>0.938324</td>\n",
       "    </tr>\n",
       "    <tr>\n",
       "      <th rowspan=\"4\" valign=\"top\">2021m4</th>\n",
       "      <th rowspan=\"2\" valign=\"top\">no</th>\n",
       "      <th>no</th>\n",
       "      <td>1305</td>\n",
       "      <td>1.764783</td>\n",
       "    </tr>\n",
       "    <tr>\n",
       "      <th>yes</th>\n",
       "      <td>223</td>\n",
       "      <td>0.279719</td>\n",
       "    </tr>\n",
       "    <tr>\n",
       "      <th rowspan=\"2\" valign=\"top\">yes</th>\n",
       "      <th>no</th>\n",
       "      <td>1104</td>\n",
       "      <td>1.411771</td>\n",
       "    </tr>\n",
       "    <tr>\n",
       "      <th>yes</th>\n",
       "      <td>1544</td>\n",
       "      <td>1.966335</td>\n",
       "    </tr>\n",
       "    <tr>\n",
       "      <th rowspan=\"2\" valign=\"top\">2021m5</th>\n",
       "      <th rowspan=\"2\" valign=\"top\">-1.0</th>\n",
       "      <th>no</th>\n",
       "      <td>2579</td>\n",
       "      <td>3.226386</td>\n",
       "    </tr>\n",
       "    <tr>\n",
       "      <th>yes</th>\n",
       "      <td>1604</td>\n",
       "      <td>2.075141</td>\n",
       "    </tr>\n",
       "    <tr>\n",
       "      <th rowspan=\"2\" valign=\"top\">2021m6</th>\n",
       "      <th rowspan=\"2\" valign=\"top\">-1.0</th>\n",
       "      <th>no</th>\n",
       "      <td>2622</td>\n",
       "      <td>3.109815</td>\n",
       "    </tr>\n",
       "    <tr>\n",
       "      <th>yes</th>\n",
       "      <td>1569</td>\n",
       "      <td>1.870488</td>\n",
       "    </tr>\n",
       "    <tr>\n",
       "      <th rowspan=\"2\" valign=\"top\">2021m7</th>\n",
       "      <th rowspan=\"2\" valign=\"top\">-1.0</th>\n",
       "      <th>no</th>\n",
       "      <td>2683</td>\n",
       "      <td>3.243535</td>\n",
       "    </tr>\n",
       "    <tr>\n",
       "      <th>yes</th>\n",
       "      <td>1593</td>\n",
       "      <td>2.081554</td>\n",
       "    </tr>\n",
       "    <tr>\n",
       "      <th rowspan=\"2\" valign=\"top\">2021m8</th>\n",
       "      <th rowspan=\"2\" valign=\"top\">-1.0</th>\n",
       "      <th>no</th>\n",
       "      <td>2886</td>\n",
       "      <td>3.191148</td>\n",
       "    </tr>\n",
       "    <tr>\n",
       "      <th>yes</th>\n",
       "      <td>1615</td>\n",
       "      <td>1.802930</td>\n",
       "    </tr>\n",
       "    <tr>\n",
       "      <th rowspan=\"2\" valign=\"top\">2021m9</th>\n",
       "      <th rowspan=\"2\" valign=\"top\">-1.0</th>\n",
       "      <th>no</th>\n",
       "      <td>2498</td>\n",
       "      <td>2.822288</td>\n",
       "    </tr>\n",
       "    <tr>\n",
       "      <th>yes</th>\n",
       "      <td>1545</td>\n",
       "      <td>1.625607</td>\n",
       "    </tr>\n",
       "    <tr>\n",
       "      <th rowspan=\"2\" valign=\"top\">2022m1</th>\n",
       "      <th rowspan=\"2\" valign=\"top\">-1.0</th>\n",
       "      <th>no</th>\n",
       "      <td>3796</td>\n",
       "      <td>2.338612</td>\n",
       "    </tr>\n",
       "    <tr>\n",
       "      <th>yes</th>\n",
       "      <td>2038</td>\n",
       "      <td>1.218007</td>\n",
       "    </tr>\n",
       "    <tr>\n",
       "      <th rowspan=\"2\" valign=\"top\">2022m2</th>\n",
       "      <th rowspan=\"2\" valign=\"top\">-1.0</th>\n",
       "      <th>no</th>\n",
       "      <td>3662</td>\n",
       "      <td>4.244047</td>\n",
       "    </tr>\n",
       "    <tr>\n",
       "      <th>yes</th>\n",
       "      <td>1881</td>\n",
       "      <td>2.228001</td>\n",
       "    </tr>\n",
       "    <tr>\n",
       "      <th rowspan=\"2\" valign=\"top\">2022m3</th>\n",
       "      <th rowspan=\"2\" valign=\"top\">-1.0</th>\n",
       "      <th>no</th>\n",
       "      <td>2674</td>\n",
       "      <td>3.175022</td>\n",
       "    </tr>\n",
       "    <tr>\n",
       "      <th>yes</th>\n",
       "      <td>1526</td>\n",
       "      <td>1.891055</td>\n",
       "    </tr>\n",
       "  </tbody>\n",
       "</table>\n",
       "</div>"
      ],
      "text/plain": [
       "                                      person  icratio100\n",
       "date    wfh_able_qual_v1 wfhcovid_v1                    \n",
       "2020m10 no               no              587    0.809088\n",
       "                         yes             104    0.127061\n",
       "        yes              no              906    1.135101\n",
       "                         yes             650    0.825772\n",
       "2020m11 no               no              661    0.895073\n",
       "                         yes             133    0.174006\n",
       "        yes              no              649    0.811173\n",
       "                         yes             887    1.155529\n",
       "2020m12 no               no             1237    1.838349\n",
       "                         yes             239    0.324535\n",
       "        yes              no             1083    1.506396\n",
       "                         yes            1538    2.074909\n",
       "2020m5  -1.0             no             1473    2.296291\n",
       "                         yes            1481    2.208851\n",
       "2020m7  -1.0             no             1169    1.450088\n",
       "                         yes             971    1.104027\n",
       "2020m8  -1.0             no             2534    3.603326\n",
       "                         yes            1803    2.229170\n",
       "2020m9  -1.0             no             1385    1.718155\n",
       "                         yes             789    1.029879\n",
       "2021m1  no               no             1138    1.781784\n",
       "                         yes             225    0.323126\n",
       "        yes              no             1058    1.493529\n",
       "                         yes            1518    2.078022\n",
       "2021m10 -1.0             no             2524    2.834185\n",
       "                         yes            1560    1.742422\n",
       "2021m11 -1.0             no             2536    3.156354\n",
       "                         yes            1660    2.123878\n",
       "2021m12 -1.0             no             2755    3.471771\n",
       "                         yes            1778    2.087311\n",
       "2021m2  no               no              738    1.180780\n",
       "                         yes             117    0.147349\n",
       "        yes              no              888    1.184517\n",
       "                         yes             681    0.881502\n",
       "2021m3  no               no              547    0.853622\n",
       "                         yes              90    0.111697\n",
       "        yes              no              569    0.726801\n",
       "                         yes             749    0.938324\n",
       "2021m4  no               no             1305    1.764783\n",
       "                         yes             223    0.279719\n",
       "        yes              no             1104    1.411771\n",
       "                         yes            1544    1.966335\n",
       "2021m5  -1.0             no             2579    3.226386\n",
       "                         yes            1604    2.075141\n",
       "2021m6  -1.0             no             2622    3.109815\n",
       "                         yes            1569    1.870488\n",
       "2021m7  -1.0             no             2683    3.243535\n",
       "                         yes            1593    2.081554\n",
       "2021m8  -1.0             no             2886    3.191148\n",
       "                         yes            1615    1.802930\n",
       "2021m9  -1.0             no             2498    2.822288\n",
       "                         yes            1545    1.625607\n",
       "2022m1  -1.0             no             3796    2.338612\n",
       "                         yes            2038    1.218007\n",
       "2022m2  -1.0             no             3662    4.244047\n",
       "                         yes            1881    2.228001\n",
       "2022m3  -1.0             no             2674    3.175022\n",
       "                         yes            1526    1.891055"
      ]
     },
     "execution_count": 21,
     "metadata": {},
     "output_type": "execute_result"
    }
   ],
   "source": [
    "df['worksite_option_v1'] = df.worksite_option.fillna(-1)\n",
    "df['wfh_able_qual_v1'] = df.wfh_able_qual.fillna(-1).replace({1 : 'no', 2 : 'yes'})\n",
    "df['wfhcovid_v1'] = df.wfhcovid.replace({0 : 'no', 100 : 'yes'})\n",
    "df['person'] = 1\n",
    "df.groupby(['date','wfh_able_qual_v1', 'wfhcovid_v1'])[['person', 'icratio100']].sum()"
   ]
  },
  {
   "cell_type": "markdown",
   "id": "cc72bb0f",
   "metadata": {},
   "source": [
    "It seems like work form home \"ability\" is only asked in certain surveys waves, not in all of them. "
   ]
  },
  {
   "cell_type": "markdown",
   "id": "04919787",
   "metadata": {},
   "source": [
    "# Initial Filters\n",
    "\n",
    "- Only pacific region \n",
    "- Don't use Sept2020 to March 2021 because there is a missing category. Likely to reduce \"other\" category "
   ]
  },
  {
   "cell_type": "code",
   "execution_count": 22,
   "id": "64a5b96e",
   "metadata": {},
   "outputs": [
    {
     "name": "stdout",
     "output_type": "stream",
     "text": [
      " Only Pacific Census Division: 13870 (16.84% of total observations)\n"
     ]
    }
   ],
   "source": [
    "total_obs = len(df)\n",
    "df_0 = df[df.censusdivision== 9]\n",
    "obs_0 = len(df_0)\n",
    "print(\" Only Pacific Census Division: {} ({:.2f}% of total observations)\".format(obs_0,100*obs_0/total_obs))"
   ]
  },
  {
   "cell_type": "code",
   "execution_count": 24,
   "id": "f941f14c",
   "metadata": {},
   "outputs": [
    {
     "name": "stdout",
     "output_type": "stream",
     "text": [
      "Observations after dropping 09/20 - 03/21: 10615 (76.53%)\n"
     ]
    }
   ],
   "source": [
    "#Eliminating Sept 2020 to March 2021 because they did not include an important job sector variables.\n",
    "to_drop_dates = ['2020m9','2020m10','2020m11','2020m12','2021m1','2021m2','2021m3']\n",
    "df_1 = df_0[~df_0['date'].isin(to_drop_dates)]\n",
    "\n",
    "obs_1 = len(df_1)\n",
    "\n",
    "# percentage_dropped = (dropped_observations/obs)*100\n",
    "\n",
    "print(\"Observations after dropping 09/20 - 03/21: {} ({:.2f}%)\".format(obs_1,100*obs_1/obs_0))"
   ]
  },
  {
   "cell_type": "markdown",
   "id": "c48212f7",
   "metadata": {},
   "source": [
    "## WFH Option - Future \n",
    "\n",
    "This seems to be a better qusetion to define what might happen in the future. \n",
    "\n",
    "wfh_days_postCOVID_boss_ty \"After COVID, in 2022 and later, how many days a week will\n",
    "that typical employee work on business premises? - categorical\"\n",
    "§ wfh_days_postCOVID_boss_ty_ss \"After COVID, in 2022 and later, how many days a week\n",
    "will that typical employee work on business premises? - caterogical bundling together rarely\n",
    "and never\""
   ]
  },
  {
   "cell_type": "markdown",
   "id": "ad595148",
   "metadata": {},
   "source": [
    "Employer planned post-COVID working from home days.\n",
    "\n",
    "1. wfh_days_postCOVID_boss \"Employer's planned number of paid WFH days after COVID - categorical\"\n",
    "- wfh_days_postCOVID_boss 1 \"Never\"\n",
    "- wfh_days_postCOVID_boss 2 \"Rarely\"\n",
    "- wfh_days_postCOVID_boss 3 \"1 day per week\"\n",
    "- wfh_days_postCOVID_boss 4 \"2 days per week\"\n",
    "- wfh_days_postCOVID_boss 5 \"3 days per week\"\n",
    "- wfh_days_postCOVID_boss 6 \"4 days per week\"\n",
    "- wfh_days_postCOVID_boss 7 \"5 day per week\"\n",
    "- wfh_days_postCOVID_boss 8 \"No clear plans from employer\"\n",
    "- wfh_days_postCOVID_boss 9 \"No employer\"\n",
    "\n",
    "2. wfh_days_postCOVID_boss_ss \"Employer's planned number of paid WFH days after COVID – categorical, bundling together rarely and never\". Note: The graphs in the paper use wfh_days_postCOVID_boss_ss, our preferred variable, instead of wfh_days_postCOVID_boss\n",
    "- wfh_days_postCOVID_boss_ss 1 \"Rarely or never\"\n",
    "- wfh_days_postCOVID_boss_ss 2 \"1 day per week\"\n",
    "- wfh_days_postCOVID_boss_ss 3 \"2 days per week\"\n",
    "- wfh_days_postCOVID_boss_ss 4 \"3 days per week\"\n",
    "- wfh_days_postCOVID_boss_ss 5 \"4 days per week\"\n",
    "- wfh_days_postCOVID_boss_ss 6 \"5 day per week\"\n",
    "- wfh_days_postCOVID_boss_ss 7 \"No clear plans from employer\"\n",
    "- wfh_days_postCOVID_boss_ss 8 \"No employer\"\n",
    "\n",
    "§\n",
    "\n",
    "Authors of the survey prefer to use \"wfh_days_postCOVID_boss_ss\". We will use it as well"
   ]
  },
  {
   "cell_type": "code",
   "execution_count": 25,
   "id": "822d5fe1",
   "metadata": {},
   "outputs": [],
   "source": [
    "# df.groupby(['date','wfh_days_postCOVID_boss_ss'])[['person', 'icratio100']].sum()#.tail(50)"
   ]
  },
  {
   "cell_type": "code",
   "execution_count": 26,
   "id": "987786e2",
   "metadata": {},
   "outputs": [],
   "source": [
    "# df['wfh_days_postCOVID_boss_ss'].value_counts(dropna = False)"
   ]
  },
  {
   "cell_type": "code",
   "execution_count": 29,
   "id": "e7bacdd3",
   "metadata": {},
   "outputs": [],
   "source": [
    "replace_dict = {7:np.nan, 8:np.nan, 3.: 0, 6.: 0,  4.: 0,  5.: 0, 2.: 0 } # 0 is option, 1 is no option\n",
    "\n",
    "df_1['wfh_not_option'] = df_1['wfh_days_postCOVID_boss_ss'].replace(replace_dict)#.value_counts(dropna=False)\n",
    "df_2 = df_1.dropna(subset = ['wfh_not_option'])\n",
    "df_2['wfh_option'] = (~df_2['wfh_not_option'].astype(bool)).astype(int)"
   ]
  },
  {
   "cell_type": "code",
   "execution_count": 30,
   "id": "2336ecac",
   "metadata": {},
   "outputs": [
    {
     "data": {
      "text/html": [
       "<div>\n",
       "<style scoped>\n",
       "    .dataframe tbody tr th:only-of-type {\n",
       "        vertical-align: middle;\n",
       "    }\n",
       "\n",
       "    .dataframe tbody tr th {\n",
       "        vertical-align: top;\n",
       "    }\n",
       "\n",
       "    .dataframe thead th {\n",
       "        text-align: right;\n",
       "    }\n",
       "</style>\n",
       "<table border=\"1\" class=\"dataframe\">\n",
       "  <thead>\n",
       "    <tr style=\"text-align: right;\">\n",
       "      <th></th>\n",
       "      <th>cratio100</th>\n",
       "      <th>icratio100</th>\n",
       "      <th>cratio100_2021m3</th>\n",
       "      <th>icratio100_2021m3</th>\n",
       "      <th>cratio100_nw</th>\n",
       "      <th>icratio100_nw</th>\n",
       "      <th>date</th>\n",
       "      <th>income</th>\n",
       "      <th>age_quant</th>\n",
       "      <th>agebin</th>\n",
       "      <th>...</th>\n",
       "      <th>freq_nonwork_walk</th>\n",
       "      <th>worktime_nonremoteable_pct</th>\n",
       "      <th>workstatus_current_d</th>\n",
       "      <th>income_year</th>\n",
       "      <th>worksite_option_v1</th>\n",
       "      <th>wfh_able_qual_v1</th>\n",
       "      <th>wfhcovid_v1</th>\n",
       "      <th>person</th>\n",
       "      <th>wfh_not_option</th>\n",
       "      <th>wfh_option</th>\n",
       "    </tr>\n",
       "  </thead>\n",
       "  <tbody>\n",
       "    <tr>\n",
       "      <th>1</th>\n",
       "      <td>0.001410</td>\n",
       "      <td>0.001107</td>\n",
       "      <td>NaN</td>\n",
       "      <td>NaN</td>\n",
       "      <td>0.001370</td>\n",
       "      <td>0.001092</td>\n",
       "      <td>2021m6</td>\n",
       "      <td>45.0</td>\n",
       "      <td>45</td>\n",
       "      <td>4</td>\n",
       "      <td>...</td>\n",
       "      <td>NaN</td>\n",
       "      <td>NaN</td>\n",
       "      <td>NaN</td>\n",
       "      <td>2019</td>\n",
       "      <td>-1.0</td>\n",
       "      <td>-1.0</td>\n",
       "      <td>no</td>\n",
       "      <td>1</td>\n",
       "      <td>1.0</td>\n",
       "      <td>0</td>\n",
       "    </tr>\n",
       "    <tr>\n",
       "      <th>2</th>\n",
       "      <td>0.001984</td>\n",
       "      <td>0.000865</td>\n",
       "      <td>NaN</td>\n",
       "      <td>NaN</td>\n",
       "      <td>0.001926</td>\n",
       "      <td>0.000853</td>\n",
       "      <td>2021m11</td>\n",
       "      <td>25.0</td>\n",
       "      <td>35</td>\n",
       "      <td>3</td>\n",
       "      <td>...</td>\n",
       "      <td>NaN</td>\n",
       "      <td>NaN</td>\n",
       "      <td>NaN</td>\n",
       "      <td>2019</td>\n",
       "      <td>1.0</td>\n",
       "      <td>-1.0</td>\n",
       "      <td>no</td>\n",
       "      <td>1</td>\n",
       "      <td>0.0</td>\n",
       "      <td>1</td>\n",
       "    </tr>\n",
       "    <tr>\n",
       "      <th>5</th>\n",
       "      <td>0.000587</td>\n",
       "      <td>0.001407</td>\n",
       "      <td>NaN</td>\n",
       "      <td>NaN</td>\n",
       "      <td>0.000570</td>\n",
       "      <td>0.001387</td>\n",
       "      <td>2021m11</td>\n",
       "      <td>137.5</td>\n",
       "      <td>45</td>\n",
       "      <td>4</td>\n",
       "      <td>...</td>\n",
       "      <td>NaN</td>\n",
       "      <td>NaN</td>\n",
       "      <td>NaN</td>\n",
       "      <td>2019</td>\n",
       "      <td>1.0</td>\n",
       "      <td>-1.0</td>\n",
       "      <td>yes</td>\n",
       "      <td>1</td>\n",
       "      <td>0.0</td>\n",
       "      <td>1</td>\n",
       "    </tr>\n",
       "    <tr>\n",
       "      <th>6</th>\n",
       "      <td>0.003813</td>\n",
       "      <td>0.002992</td>\n",
       "      <td>NaN</td>\n",
       "      <td>NaN</td>\n",
       "      <td>0.003703</td>\n",
       "      <td>0.002952</td>\n",
       "      <td>2021m9</td>\n",
       "      <td>45.0</td>\n",
       "      <td>45</td>\n",
       "      <td>4</td>\n",
       "      <td>...</td>\n",
       "      <td>NaN</td>\n",
       "      <td>NaN</td>\n",
       "      <td>NaN</td>\n",
       "      <td>2019</td>\n",
       "      <td>-1.0</td>\n",
       "      <td>-1.0</td>\n",
       "      <td>no</td>\n",
       "      <td>1</td>\n",
       "      <td>1.0</td>\n",
       "      <td>0</td>\n",
       "    </tr>\n",
       "    <tr>\n",
       "      <th>8</th>\n",
       "      <td>0.000587</td>\n",
       "      <td>0.001407</td>\n",
       "      <td>NaN</td>\n",
       "      <td>NaN</td>\n",
       "      <td>0.000570</td>\n",
       "      <td>0.001387</td>\n",
       "      <td>2021m11</td>\n",
       "      <td>137.5</td>\n",
       "      <td>45</td>\n",
       "      <td>4</td>\n",
       "      <td>...</td>\n",
       "      <td>NaN</td>\n",
       "      <td>NaN</td>\n",
       "      <td>NaN</td>\n",
       "      <td>2019</td>\n",
       "      <td>1.0</td>\n",
       "      <td>-1.0</td>\n",
       "      <td>yes</td>\n",
       "      <td>1</td>\n",
       "      <td>0.0</td>\n",
       "      <td>1</td>\n",
       "    </tr>\n",
       "    <tr>\n",
       "      <th>...</th>\n",
       "      <td>...</td>\n",
       "      <td>...</td>\n",
       "      <td>...</td>\n",
       "      <td>...</td>\n",
       "      <td>...</td>\n",
       "      <td>...</td>\n",
       "      <td>...</td>\n",
       "      <td>...</td>\n",
       "      <td>...</td>\n",
       "      <td>...</td>\n",
       "      <td>...</td>\n",
       "      <td>...</td>\n",
       "      <td>...</td>\n",
       "      <td>...</td>\n",
       "      <td>...</td>\n",
       "      <td>...</td>\n",
       "      <td>...</td>\n",
       "      <td>...</td>\n",
       "      <td>...</td>\n",
       "      <td>...</td>\n",
       "      <td>...</td>\n",
       "    </tr>\n",
       "    <tr>\n",
       "      <th>80590</th>\n",
       "      <td>0.001715</td>\n",
       "      <td>0.001047</td>\n",
       "      <td>NaN</td>\n",
       "      <td>NaN</td>\n",
       "      <td>0.001666</td>\n",
       "      <td>0.001033</td>\n",
       "      <td>2021m6</td>\n",
       "      <td>35.0</td>\n",
       "      <td>57</td>\n",
       "      <td>5</td>\n",
       "      <td>...</td>\n",
       "      <td>NaN</td>\n",
       "      <td>NaN</td>\n",
       "      <td>NaN</td>\n",
       "      <td>2019</td>\n",
       "      <td>-1.0</td>\n",
       "      <td>-1.0</td>\n",
       "      <td>no</td>\n",
       "      <td>1</td>\n",
       "      <td>1.0</td>\n",
       "      <td>0</td>\n",
       "    </tr>\n",
       "    <tr>\n",
       "      <th>80591</th>\n",
       "      <td>0.000707</td>\n",
       "      <td>0.001110</td>\n",
       "      <td>NaN</td>\n",
       "      <td>NaN</td>\n",
       "      <td>0.000686</td>\n",
       "      <td>0.001095</td>\n",
       "      <td>2022m2</td>\n",
       "      <td>90.0</td>\n",
       "      <td>45</td>\n",
       "      <td>4</td>\n",
       "      <td>...</td>\n",
       "      <td>NaN</td>\n",
       "      <td>NaN</td>\n",
       "      <td>NaN</td>\n",
       "      <td>2021</td>\n",
       "      <td>2.0</td>\n",
       "      <td>-1.0</td>\n",
       "      <td>no</td>\n",
       "      <td>1</td>\n",
       "      <td>1.0</td>\n",
       "      <td>0</td>\n",
       "    </tr>\n",
       "    <tr>\n",
       "      <th>80593</th>\n",
       "      <td>0.001718</td>\n",
       "      <td>0.001348</td>\n",
       "      <td>0.004778</td>\n",
       "      <td>0.003407</td>\n",
       "      <td>0.001668</td>\n",
       "      <td>0.001330</td>\n",
       "      <td>2020m8</td>\n",
       "      <td>45.0</td>\n",
       "      <td>45</td>\n",
       "      <td>4</td>\n",
       "      <td>...</td>\n",
       "      <td>NaN</td>\n",
       "      <td>NaN</td>\n",
       "      <td>2.0</td>\n",
       "      <td>2019</td>\n",
       "      <td>-1.0</td>\n",
       "      <td>-1.0</td>\n",
       "      <td>yes</td>\n",
       "      <td>1</td>\n",
       "      <td>1.0</td>\n",
       "      <td>0</td>\n",
       "    </tr>\n",
       "    <tr>\n",
       "      <th>80594</th>\n",
       "      <td>0.000587</td>\n",
       "      <td>0.001407</td>\n",
       "      <td>NaN</td>\n",
       "      <td>NaN</td>\n",
       "      <td>0.000570</td>\n",
       "      <td>0.001387</td>\n",
       "      <td>2021m11</td>\n",
       "      <td>137.5</td>\n",
       "      <td>45</td>\n",
       "      <td>4</td>\n",
       "      <td>...</td>\n",
       "      <td>NaN</td>\n",
       "      <td>NaN</td>\n",
       "      <td>NaN</td>\n",
       "      <td>2019</td>\n",
       "      <td>2.0</td>\n",
       "      <td>-1.0</td>\n",
       "      <td>yes</td>\n",
       "      <td>1</td>\n",
       "      <td>0.0</td>\n",
       "      <td>1</td>\n",
       "    </tr>\n",
       "    <tr>\n",
       "      <th>80595</th>\n",
       "      <td>0.002119</td>\n",
       "      <td>0.000554</td>\n",
       "      <td>NaN</td>\n",
       "      <td>NaN</td>\n",
       "      <td>0.002057</td>\n",
       "      <td>0.000547</td>\n",
       "      <td>2021m5</td>\n",
       "      <td>15.0</td>\n",
       "      <td>25</td>\n",
       "      <td>2</td>\n",
       "      <td>...</td>\n",
       "      <td>NaN</td>\n",
       "      <td>NaN</td>\n",
       "      <td>NaN</td>\n",
       "      <td>2019</td>\n",
       "      <td>-1.0</td>\n",
       "      <td>-1.0</td>\n",
       "      <td>no</td>\n",
       "      <td>1</td>\n",
       "      <td>1.0</td>\n",
       "      <td>0</td>\n",
       "    </tr>\n",
       "  </tbody>\n",
       "</table>\n",
       "<p>7884 rows × 343 columns</p>\n",
       "</div>"
      ],
      "text/plain": [
       "       cratio100  icratio100  cratio100_2021m3  icratio100_2021m3  \\\n",
       "1       0.001410    0.001107               NaN                NaN   \n",
       "2       0.001984    0.000865               NaN                NaN   \n",
       "5       0.000587    0.001407               NaN                NaN   \n",
       "6       0.003813    0.002992               NaN                NaN   \n",
       "8       0.000587    0.001407               NaN                NaN   \n",
       "...          ...         ...               ...                ...   \n",
       "80590   0.001715    0.001047               NaN                NaN   \n",
       "80591   0.000707    0.001110               NaN                NaN   \n",
       "80593   0.001718    0.001348          0.004778           0.003407   \n",
       "80594   0.000587    0.001407               NaN                NaN   \n",
       "80595   0.002119    0.000554               NaN                NaN   \n",
       "\n",
       "       cratio100_nw  icratio100_nw     date  income  age_quant  agebin  ...  \\\n",
       "1          0.001370       0.001092   2021m6    45.0         45       4  ...   \n",
       "2          0.001926       0.000853  2021m11    25.0         35       3  ...   \n",
       "5          0.000570       0.001387  2021m11   137.5         45       4  ...   \n",
       "6          0.003703       0.002952   2021m9    45.0         45       4  ...   \n",
       "8          0.000570       0.001387  2021m11   137.5         45       4  ...   \n",
       "...             ...            ...      ...     ...        ...     ...  ...   \n",
       "80590      0.001666       0.001033   2021m6    35.0         57       5  ...   \n",
       "80591      0.000686       0.001095   2022m2    90.0         45       4  ...   \n",
       "80593      0.001668       0.001330   2020m8    45.0         45       4  ...   \n",
       "80594      0.000570       0.001387  2021m11   137.5         45       4  ...   \n",
       "80595      0.002057       0.000547   2021m5    15.0         25       2  ...   \n",
       "\n",
       "       freq_nonwork_walk  worktime_nonremoteable_pct  workstatus_current_d  \\\n",
       "1                    NaN                         NaN                   NaN   \n",
       "2                    NaN                         NaN                   NaN   \n",
       "5                    NaN                         NaN                   NaN   \n",
       "6                    NaN                         NaN                   NaN   \n",
       "8                    NaN                         NaN                   NaN   \n",
       "...                  ...                         ...                   ...   \n",
       "80590                NaN                         NaN                   NaN   \n",
       "80591                NaN                         NaN                   NaN   \n",
       "80593                NaN                         NaN                   2.0   \n",
       "80594                NaN                         NaN                   NaN   \n",
       "80595                NaN                         NaN                   NaN   \n",
       "\n",
       "       income_year  worksite_option_v1  wfh_able_qual_v1  wfhcovid_v1  person  \\\n",
       "1             2019                -1.0              -1.0           no       1   \n",
       "2             2019                 1.0              -1.0           no       1   \n",
       "5             2019                 1.0              -1.0          yes       1   \n",
       "6             2019                -1.0              -1.0           no       1   \n",
       "8             2019                 1.0              -1.0          yes       1   \n",
       "...            ...                 ...               ...          ...     ...   \n",
       "80590         2019                -1.0              -1.0           no       1   \n",
       "80591         2021                 2.0              -1.0           no       1   \n",
       "80593         2019                -1.0              -1.0          yes       1   \n",
       "80594         2019                 2.0              -1.0          yes       1   \n",
       "80595         2019                -1.0              -1.0           no       1   \n",
       "\n",
       "       wfh_not_option  wfh_option  \n",
       "1                 1.0           0  \n",
       "2                 0.0           1  \n",
       "5                 0.0           1  \n",
       "6                 1.0           0  \n",
       "8                 0.0           1  \n",
       "...               ...         ...  \n",
       "80590             1.0           0  \n",
       "80591             1.0           0  \n",
       "80593             1.0           0  \n",
       "80594             0.0           1  \n",
       "80595             1.0           0  \n",
       "\n",
       "[7884 rows x 343 columns]"
      ]
     },
     "execution_count": 30,
     "metadata": {},
     "output_type": "execute_result"
    }
   ],
   "source": [
    "df_2"
   ]
  },
  {
   "cell_type": "code",
   "execution_count": 34,
   "id": "f25abbb5",
   "metadata": {},
   "outputs": [
    {
     "name": "stdout",
     "output_type": "stream",
     "text": [
      "After dropping not employer, or not future plans, we remain with 7884 observations (74.27%)\n"
     ]
    }
   ],
   "source": [
    "obs = len(df_2)\n",
    "pct = 100*obs/len(df_1)\n",
    "print (\"After dropping not employer, or not future plans, we remain with {} observations ({:.2f}%)\".format(obs, pct))"
   ]
  },
  {
   "cell_type": "markdown",
   "id": "494c3719",
   "metadata": {},
   "source": [
    "## Job Sector variables"
   ]
  },
  {
   "cell_type": "markdown",
   "id": "94167ac9",
   "metadata": {},
   "source": [
    "I need to match this to a similar way NHTS does it. \n",
    "\n",
    "Occupation >> More likely to be useful for me. \n",
    "- (0) occupation 1 \"Armed Forces\",\n",
    "- (0) occupation 2 \"Construction and Extraction\"\n",
    "- (0) occupation 3 \"Farming, Fishing and Forestry\"\n",
    "- (0) occupation 4 \"Installation, Maintenance and Repair\"\n",
    "- (1) occupation 5 \"Management, Business and Financial\"\n",
    "- (0) occupation 6 \"Office and Administrative Support\"\n",
    "- (0) occupation 7 \"Production\"\n",
    "- (1) occupation 8 \"Professional and related\"\n",
    "- (0) occupation 9 \"Sales and related\"\n",
    "- (0) occupation 10 \"Service\"\n",
    "- (0) occupation 11 \"Transportation and material moving\"\n",
    "- (np.nan) occupation 12 \"Other\"\n",
    "\n",
    "NHTS Categories:\n",
    "- 0: Sales or Service, Clerical or Administrative Support, Manufacturing, Construction, Maintenance or farming\n",
    "- 1: Professional, Managerial or Technical\n",
    "\n",
    "\n",
    "## Don't use Sept2020 to March 2021 because there is a missing category. Likely to reduce \"other\" category"
   ]
  },
  {
   "cell_type": "code",
   "execution_count": 49,
   "id": "72c8b88f",
   "metadata": {},
   "outputs": [
    {
     "name": "stdout",
     "output_type": "stream",
     "text": [
      "after Dropping \"other\" job sectors, we remain with 6134 observations (77.80%)\n"
     ]
    }
   ],
   "source": [
    "nhts_dict = {1: 0, 2: 0, 3: 0, 4: 0, \n",
    "             5: 1, 6: 0, 7: 0, 8: 1, \n",
    "             9: 0, 10: 0, 11: 0, 12: np.nan, 13: np.nan}\n",
    "\n",
    "df_2.occupation.value_counts(dropna = False)\n",
    "df_2['job_sector'] = df_2.occupation.replace(nhts_dict)#.value_counts(dropna = False)\n",
    "\n",
    "## FOR NOW - LET'S DROP this categories and let's see re-evaluate if it is worth it to populate the category with people's ansnwers. \n",
    "df_3 = df_2.dropna(subset = ['job_sector'])\n",
    "\n",
    "pct = 100*len(df_3)/len(df_2)\n",
    "print ('after Dropping \"other\" job sectors, we remain with {} observations ({:.2f}%)'.format(len(df_3), pct))"
   ]
  },
  {
   "cell_type": "code",
   "execution_count": 39,
   "id": "bf272b76",
   "metadata": {},
   "outputs": [
    {
     "data": {
      "text/plain": [
       "array(['Carpenter ', 'Office management ', 'AUTOMOTIVE', 'Healthcare',\n",
       "       'Cook', 'Human resources', 'assistant', 'PCA',\n",
       "       'I make apps and other intellectual properties as well as contract work',\n",
       "       'it', 'Information technology ', 'Information technology',\n",
       "       'Computer software', 'It', 'Tour operations ', 'Manager',\n",
       "       'Employee', 'Software', 'IT', 'IT/Tecnologhy', 'Information on ',\n",
       "       'information technology', 'Technology ', 'CONSTURACTION',\n",
       "       'Employees', 'Automotif', 'IT manage', 'Information Technology ',\n",
       "       'Bangking', 'Food', 'Technology', 'technology', 'Teacher',\n",
       "       'Insurance', 'Accounting', 'Em', 'technology information', 'Te',\n",
       "       'Manager ', 'Information yang ', 'School district',\n",
       "       'Care provider', 'CEO', 'Human Resources', 'delivery', 'Md',\n",
       "       'Attorney ', 'Information and technology',\n",
       "       'Information Technology', 'trainer', 'technologu',\n",
       "       'Telecommunications', 'Technical Program Manager', 'Gas station ',\n",
       "       'shelter monitor', 'Store associate, packout', 'Law',\n",
       "       'Automotive ', 'Developer', 'Security guard ', 'Forklift',\n",
       "       'Programs Coordinator ', 'Technologist ', 'electrican',\n",
       "       'Scientist ', 'Student Ambassador', 'Property manager',\n",
       "       'Material Stocking', 'manager', 'Warehouse', 'Machinist',\n",
       "       'Telecommunications ', 'Uncertain ', 'Warehouse clerk',\n",
       "       'Food service', 'municipality ', 'Health',\n",
       "       'C level executive at Information Technology sector', 'Yard duty ',\n",
       "       'Medical', 'it/software. ', 'Nurse ', 'tecnology', 'Nurse',\n",
       "       'tcnology', 'Maintenance ', 'Maintenence ', 'Cna ',\n",
       "       'civil service', 'Water Distribution', 'Nurse assistant ',\n",
       "       'Optician ', 'medical assistant ', 'Rn', 'Hard labor',\n",
       "       'Not for profit organization', 'Street musician',\n",
       "       'Heavy equipment operator ', 'Caregiver', 'In home provider'],\n",
       "      dtype=object)"
      ]
     },
     "execution_count": 39,
     "metadata": {},
     "output_type": "execute_result"
    }
   ],
   "source": [
    "df_2.occupation_other.dropna().unique()[:100]"
   ]
  },
  {
   "cell_type": "code",
   "execution_count": 76,
   "id": "dc6aadcd",
   "metadata": {},
   "outputs": [
    {
     "name": "stdout",
     "output_type": "stream",
     "text": [
      "After dropping missing income, we remain with 6133 observations (99.98%)\n"
     ]
    }
   ],
   "source": [
    "#Income Variable\n",
    "df_3.income.sort_values().unique()#value_counts(dropna = False)\n",
    "income_dict = {2:0,  3:0,  4:0,  5:0,  6:0,  7:0,  8:1,  9:1, 10:1, 11:1, 12:2, 13:2, 14:2, 15:np.nan} #Page 19 - Varriable dict - v.april 2022\n",
    "df_3['income_category'] = df_3.income_cat.replace(income_dict)\n",
    "df_4 = df_3.dropna(subset = ['income_category'])\n",
    "\n",
    "pct = 100*len(df_4)/len(df_3)\n",
    "print ('After dropping missing income, we remain with {} observations ({:.2f}%)'.format(len(df_4), pct))"
   ]
  },
  {
   "cell_type": "code",
   "execution_count": 92,
   "id": "a47e7e96",
   "metadata": {},
   "outputs": [
    {
     "data": {
      "text/plain": [
       "1    4636\n",
       "0     844\n",
       "2     653\n",
       "Name: age_category, dtype: int64"
      ]
     },
     "execution_count": 92,
     "metadata": {},
     "output_type": "execute_result"
    }
   ],
   "source": [
    "#Age variable\n",
    "age_dict = {25:0, 35:1, 45:1,57:2}\n",
    "df_4['age_category'] = df.age_quant.replace(age_dict)\n",
    "df_4.age_category.value_counts()"
   ]
  },
  {
   "cell_type": "code",
   "execution_count": 94,
   "id": "8bd9f317",
   "metadata": {},
   "outputs": [
    {
     "data": {
      "text/html": [
       "<div>\n",
       "<style scoped>\n",
       "    .dataframe tbody tr th:only-of-type {\n",
       "        vertical-align: middle;\n",
       "    }\n",
       "\n",
       "    .dataframe tbody tr th {\n",
       "        vertical-align: top;\n",
       "    }\n",
       "\n",
       "    .dataframe thead th {\n",
       "        text-align: right;\n",
       "    }\n",
       "</style>\n",
       "<table border=\"1\" class=\"dataframe\">\n",
       "  <thead>\n",
       "    <tr style=\"text-align: right;\">\n",
       "      <th></th>\n",
       "      <th></th>\n",
       "      <th></th>\n",
       "      <th>wfh_option</th>\n",
       "    </tr>\n",
       "    <tr>\n",
       "      <th>job_sector</th>\n",
       "      <th>income_category</th>\n",
       "      <th>age_category</th>\n",
       "      <th></th>\n",
       "    </tr>\n",
       "  </thead>\n",
       "  <tbody>\n",
       "    <tr>\n",
       "      <th rowspan=\"9\" valign=\"top\">0.0</th>\n",
       "      <th rowspan=\"3\" valign=\"top\">0.0</th>\n",
       "      <th>0</th>\n",
       "      <td>0.567430</td>\n",
       "    </tr>\n",
       "    <tr>\n",
       "      <th>1</th>\n",
       "      <td>0.512225</td>\n",
       "    </tr>\n",
       "    <tr>\n",
       "      <th>2</th>\n",
       "      <td>0.264085</td>\n",
       "    </tr>\n",
       "    <tr>\n",
       "      <th rowspan=\"3\" valign=\"top\">1.0</th>\n",
       "      <th>0</th>\n",
       "      <td>0.818182</td>\n",
       "    </tr>\n",
       "    <tr>\n",
       "      <th>1</th>\n",
       "      <td>0.805858</td>\n",
       "    </tr>\n",
       "    <tr>\n",
       "      <th>2</th>\n",
       "      <td>0.396825</td>\n",
       "    </tr>\n",
       "    <tr>\n",
       "      <th rowspan=\"3\" valign=\"top\">2.0</th>\n",
       "      <th>0</th>\n",
       "      <td>0.836735</td>\n",
       "    </tr>\n",
       "    <tr>\n",
       "      <th>1</th>\n",
       "      <td>0.881902</td>\n",
       "    </tr>\n",
       "    <tr>\n",
       "      <th>2</th>\n",
       "      <td>0.687500</td>\n",
       "    </tr>\n",
       "    <tr>\n",
       "      <th rowspan=\"9\" valign=\"top\">1.0</th>\n",
       "      <th rowspan=\"3\" valign=\"top\">0.0</th>\n",
       "      <th>0</th>\n",
       "      <td>0.713115</td>\n",
       "    </tr>\n",
       "    <tr>\n",
       "      <th>1</th>\n",
       "      <td>0.683099</td>\n",
       "    </tr>\n",
       "    <tr>\n",
       "      <th>2</th>\n",
       "      <td>0.457143</td>\n",
       "    </tr>\n",
       "    <tr>\n",
       "      <th rowspan=\"3\" valign=\"top\">1.0</th>\n",
       "      <th>0</th>\n",
       "      <td>0.854369</td>\n",
       "    </tr>\n",
       "    <tr>\n",
       "      <th>1</th>\n",
       "      <td>0.865290</td>\n",
       "    </tr>\n",
       "    <tr>\n",
       "      <th>2</th>\n",
       "      <td>0.598131</td>\n",
       "    </tr>\n",
       "    <tr>\n",
       "      <th rowspan=\"3\" valign=\"top\">2.0</th>\n",
       "      <th>0</th>\n",
       "      <td>0.913043</td>\n",
       "    </tr>\n",
       "    <tr>\n",
       "      <th>1</th>\n",
       "      <td>0.888060</td>\n",
       "    </tr>\n",
       "    <tr>\n",
       "      <th>2</th>\n",
       "      <td>0.794118</td>\n",
       "    </tr>\n",
       "  </tbody>\n",
       "</table>\n",
       "</div>"
      ],
      "text/plain": [
       "                                         wfh_option\n",
       "job_sector income_category age_category            \n",
       "0.0        0.0             0               0.567430\n",
       "                           1               0.512225\n",
       "                           2               0.264085\n",
       "           1.0             0               0.818182\n",
       "                           1               0.805858\n",
       "                           2               0.396825\n",
       "           2.0             0               0.836735\n",
       "                           1               0.881902\n",
       "                           2               0.687500\n",
       "1.0        0.0             0               0.713115\n",
       "                           1               0.683099\n",
       "                           2               0.457143\n",
       "           1.0             0               0.854369\n",
       "                           1               0.865290\n",
       "                           2               0.598131\n",
       "           2.0             0               0.913043\n",
       "                           1               0.888060\n",
       "                           2               0.794118"
      ]
     },
     "execution_count": 94,
     "metadata": {},
     "output_type": "execute_result"
    }
   ],
   "source": [
    "df_4.groupby(['job_sector','income_category','age_category']).agg({'wfh_option':'mean'})"
   ]
  },
  {
   "cell_type": "code",
   "execution_count": 134,
   "id": "02307aa3",
   "metadata": {},
   "outputs": [
    {
     "data": {
      "text/html": [
       "<div>\n",
       "<style scoped>\n",
       "    .dataframe tbody tr th:only-of-type {\n",
       "        vertical-align: middle;\n",
       "    }\n",
       "\n",
       "    .dataframe tbody tr th {\n",
       "        vertical-align: top;\n",
       "    }\n",
       "\n",
       "    .dataframe thead th {\n",
       "        text-align: right;\n",
       "    }\n",
       "</style>\n",
       "<table border=\"1\" class=\"dataframe\">\n",
       "  <thead>\n",
       "    <tr style=\"text-align: right;\">\n",
       "      <th></th>\n",
       "      <th></th>\n",
       "      <th></th>\n",
       "      <th>mean</th>\n",
       "      <th>count</th>\n",
       "      <th>lower_bound</th>\n",
       "      <th>upper_bound</th>\n",
       "    </tr>\n",
       "    <tr>\n",
       "      <th>job_sector</th>\n",
       "      <th>income_category</th>\n",
       "      <th>age_category</th>\n",
       "      <th></th>\n",
       "      <th></th>\n",
       "      <th></th>\n",
       "      <th></th>\n",
       "    </tr>\n",
       "  </thead>\n",
       "  <tbody>\n",
       "    <tr>\n",
       "      <th rowspan=\"9\" valign=\"top\">0.0</th>\n",
       "      <th rowspan=\"3\" valign=\"top\">0.0</th>\n",
       "      <th>0</th>\n",
       "      <td>0.559449</td>\n",
       "      <td>181</td>\n",
       "      <td>0.487480</td>\n",
       "      <td>0.631418</td>\n",
       "    </tr>\n",
       "    <tr>\n",
       "      <th>1</th>\n",
       "      <td>0.544181</td>\n",
       "      <td>435</td>\n",
       "      <td>0.495966</td>\n",
       "      <td>0.592396</td>\n",
       "    </tr>\n",
       "    <tr>\n",
       "      <th>2</th>\n",
       "      <td>0.240708</td>\n",
       "      <td>134</td>\n",
       "      <td>0.165886</td>\n",
       "      <td>0.315529</td>\n",
       "    </tr>\n",
       "    <tr>\n",
       "      <th rowspan=\"3\" valign=\"top\">1.0</th>\n",
       "      <th>0</th>\n",
       "      <td>0.810148</td>\n",
       "      <td>64</td>\n",
       "      <td>0.712382</td>\n",
       "      <td>0.907914</td>\n",
       "    </tr>\n",
       "    <tr>\n",
       "      <th>1</th>\n",
       "      <td>0.835947</td>\n",
       "      <td>622</td>\n",
       "      <td>0.806908</td>\n",
       "      <td>0.864985</td>\n",
       "    </tr>\n",
       "    <tr>\n",
       "      <th>2</th>\n",
       "      <td>0.364863</td>\n",
       "      <td>47</td>\n",
       "      <td>0.227667</td>\n",
       "      <td>0.502059</td>\n",
       "    </tr>\n",
       "    <tr>\n",
       "      <th rowspan=\"3\" valign=\"top\">2.0</th>\n",
       "      <th>0</th>\n",
       "      <td>0.958442</td>\n",
       "      <td>24</td>\n",
       "      <td>0.877630</td>\n",
       "      <td>1.039253</td>\n",
       "    </tr>\n",
       "    <tr>\n",
       "      <th>1</th>\n",
       "      <td>0.914969</td>\n",
       "      <td>376</td>\n",
       "      <td>0.886409</td>\n",
       "      <td>0.943528</td>\n",
       "    </tr>\n",
       "    <tr>\n",
       "      <th>2</th>\n",
       "      <td>0.852071</td>\n",
       "      <td>7</td>\n",
       "      <td>0.561843</td>\n",
       "      <td>1.142298</td>\n",
       "    </tr>\n",
       "    <tr>\n",
       "      <th rowspan=\"9\" valign=\"top\">1.0</th>\n",
       "      <th rowspan=\"3\" valign=\"top\">0.0</th>\n",
       "      <th>0</th>\n",
       "      <td>0.756572</td>\n",
       "      <td>61</td>\n",
       "      <td>0.650743</td>\n",
       "      <td>0.862401</td>\n",
       "    </tr>\n",
       "    <tr>\n",
       "      <th>1</th>\n",
       "      <td>0.712661</td>\n",
       "      <td>149</td>\n",
       "      <td>0.636578</td>\n",
       "      <td>0.788743</td>\n",
       "    </tr>\n",
       "    <tr>\n",
       "      <th>2</th>\n",
       "      <td>0.429745</td>\n",
       "      <td>28</td>\n",
       "      <td>0.244933</td>\n",
       "      <td>0.614557</td>\n",
       "    </tr>\n",
       "    <tr>\n",
       "      <th rowspan=\"3\" valign=\"top\">1.0</th>\n",
       "      <th>0</th>\n",
       "      <td>0.843571</td>\n",
       "      <td>52</td>\n",
       "      <td>0.744536</td>\n",
       "      <td>0.942606</td>\n",
       "    </tr>\n",
       "    <tr>\n",
       "      <th>1</th>\n",
       "      <td>0.878881</td>\n",
       "      <td>589</td>\n",
       "      <td>0.851593</td>\n",
       "      <td>0.906170</td>\n",
       "    </tr>\n",
       "    <tr>\n",
       "      <th>2</th>\n",
       "      <td>0.660838</td>\n",
       "      <td>44</td>\n",
       "      <td>0.524419</td>\n",
       "      <td>0.797257</td>\n",
       "    </tr>\n",
       "    <tr>\n",
       "      <th rowspan=\"3\" valign=\"top\">2.0</th>\n",
       "      <th>0</th>\n",
       "      <td>0.886574</td>\n",
       "      <td>9</td>\n",
       "      <td>0.667169</td>\n",
       "      <td>1.105978</td>\n",
       "    </tr>\n",
       "    <tr>\n",
       "      <th>1</th>\n",
       "      <td>0.904902</td>\n",
       "      <td>403</td>\n",
       "      <td>0.877295</td>\n",
       "      <td>0.932509</td>\n",
       "    </tr>\n",
       "    <tr>\n",
       "      <th>2</th>\n",
       "      <td>0.926987</td>\n",
       "      <td>14</td>\n",
       "      <td>0.781996</td>\n",
       "      <td>1.071977</td>\n",
       "    </tr>\n",
       "  </tbody>\n",
       "</table>\n",
       "</div>"
      ],
      "text/plain": [
       "                                             mean  count  lower_bound  \\\n",
       "job_sector income_category age_category                                 \n",
       "0.0        0.0             0             0.559449    181     0.487480   \n",
       "                           1             0.544181    435     0.495966   \n",
       "                           2             0.240708    134     0.165886   \n",
       "           1.0             0             0.810148     64     0.712382   \n",
       "                           1             0.835947    622     0.806908   \n",
       "                           2             0.364863     47     0.227667   \n",
       "           2.0             0             0.958442     24     0.877630   \n",
       "                           1             0.914969    376     0.886409   \n",
       "                           2             0.852071      7     0.561843   \n",
       "1.0        0.0             0             0.756572     61     0.650743   \n",
       "                           1             0.712661    149     0.636578   \n",
       "                           2             0.429745     28     0.244933   \n",
       "           1.0             0             0.843571     52     0.744536   \n",
       "                           1             0.878881    589     0.851593   \n",
       "                           2             0.660838     44     0.524419   \n",
       "           2.0             0             0.886574      9     0.667169   \n",
       "                           1             0.904902    403     0.877295   \n",
       "                           2             0.926987     14     0.781996   \n",
       "\n",
       "                                         upper_bound  \n",
       "job_sector income_category age_category               \n",
       "0.0        0.0             0                0.631418  \n",
       "                           1                0.592396  \n",
       "                           2                0.315529  \n",
       "           1.0             0                0.907914  \n",
       "                           1                0.864985  \n",
       "                           2                0.502059  \n",
       "           2.0             0                1.039253  \n",
       "                           1                0.943528  \n",
       "                           2                1.142298  \n",
       "1.0        0.0             0                0.862401  \n",
       "                           1                0.788743  \n",
       "                           2                0.614557  \n",
       "           1.0             0                0.942606  \n",
       "                           1                0.906170  \n",
       "                           2                0.797257  \n",
       "           2.0             0                1.105978  \n",
       "                           1                0.932509  \n",
       "                           2                1.071977  "
      ]
     },
     "execution_count": 134,
     "metadata": {},
     "output_type": "execute_result"
    }
   ],
   "source": [
    "df_5 = df_4[df_4.date.isin(['2021m10','2021m11','2021m12','2022m1','2022m2','2022m3'])]\n",
    "a = bootsratp(df_5, 'wfh_option', ['job_sector','income_category','age_category'], func = 'mean')\n",
    "a"
   ]
  },
  {
   "cell_type": "code",
   "execution_count": 136,
   "id": "05713318",
   "metadata": {},
   "outputs": [
    {
     "data": {
      "text/plain": [
       "array([0.55944865, 0.54418113, 0.24070783, 0.81014812, 0.83594666,\n",
       "       0.36486326, 0.9584415 , 0.91496858, 0.85207056, 0.75657179,\n",
       "       0.71266085, 0.42974517, 0.8435708 , 0.87888144, 0.66083816,\n",
       "       0.88657353, 0.90490189, 0.92698655])"
      ]
     },
     "execution_count": 136,
     "metadata": {},
     "output_type": "execute_result"
    }
   ],
   "source": [
    "a['mean'].values"
   ]
  },
  {
   "cell_type": "markdown",
   "id": "763a7989",
   "metadata": {},
   "source": [
    "## WFH - Weekly frequencies\n",
    "\n",
    "2. wfh_days_postCOVID_boss_ss \"Employer's planned number of paid WFH days after COVID – categorical, bundling together rarely and never\". Note: The graphs in the paper use wfh_days_postCOVID_boss_ss, our preferred variable, instead of wfh_days_postCOVID_boss\n",
    "- wfh_days_postCOVID_boss_ss 1 \"Rarely or never\"\n",
    "- wfh_days_postCOVID_boss_ss 2 \"1 day per week\"\n",
    "- wfh_days_postCOVID_boss_ss 3 \"2 days per week\"\n",
    "- wfh_days_postCOVID_boss_ss 4 \"3 days per week\"\n",
    "- wfh_days_postCOVID_boss_ss 5 \"4 days per week\"\n",
    "- wfh_days_postCOVID_boss_ss 6 \"5 day per week\"\n",
    "- wfh_days_postCOVID_boss_ss 7 \"No clear plans from employer\"\n",
    "- wfh_days_postCOVID_boss_ss 8 \"No employer\""
   ]
  },
  {
   "cell_type": "code",
   "execution_count": 137,
   "id": "887cc9e3",
   "metadata": {},
   "outputs": [
    {
     "data": {
      "text/plain": [
       "3.0    0.488269\n",
       "2.0    0.420307\n",
       "1.0    0.091424\n",
       "Name: wfh_days_postCOVID_boss_ss, dtype: float64"
      ]
     },
     "execution_count": 137,
     "metadata": {},
     "output_type": "execute_result"
    }
   ],
   "source": [
    "dict_wfh_days = {1:0, 2:1, 3:2, 4:2, 5:3, 6:3}\n",
    "df_6 = df_5[df_5.wfh_option != 0]\n",
    "df_6['wfh_days_postCOVID_boss_ss'].replace(dict_wfh_days).value_counts(normalize = True)"
   ]
  },
  {
   "cell_type": "code",
   "execution_count": 138,
   "id": "2c574123",
   "metadata": {},
   "outputs": [
    {
     "data": {
      "text/plain": [
       "3    0.476942\n",
       "2    0.411003\n",
       "1    0.073220\n",
       "0    0.038835\n",
       "Name: wfh_days_postCOVID_ss, dtype: float64"
      ]
     },
     "execution_count": 138,
     "metadata": {},
     "output_type": "execute_result"
    }
   ],
   "source": [
    "dict_wfh_days = {1:0, 2:1, 3:2, 4:2, 5:3, 6:3}\n",
    "\n",
    "df_6['wfh_days_postCOVID_ss'].replace(dict_wfh_days).value_counts(normalize = True)"
   ]
  },
  {
   "cell_type": "code",
   "execution_count": 117,
   "id": "5d1b0612",
   "metadata": {},
   "outputs": [
    {
     "data": {
      "text/plain": [
       "array(['2021m6', '2021m11', '2021m4', '2021m12', '2022m3', '2021m8',\n",
       "       '2022m2', '2022m1', '2021m5', '2021m7', '2021m10', '2021m9',\n",
       "       '2020m7'], dtype=object)"
      ]
     },
     "execution_count": 117,
     "metadata": {},
     "output_type": "execute_result"
    }
   ],
   "source": [
    "df_4.date.unique()"
   ]
  },
  {
   "cell_type": "code",
   "execution_count": 128,
   "id": "6eb85c0d",
   "metadata": {},
   "outputs": [
    {
     "data": {
      "text/plain": [
       "<AxesSubplot:ylabel='Frequency'>"
      ]
     },
     "execution_count": 128,
     "metadata": {},
     "output_type": "execute_result"
    },
    {
     "data": {
      "image/png": "[encoded data removed]",
      "text/plain": [
       "<Figure size 432x288 with 1 Axes>"
      ]
     },
     "metadata": {
      "needs_background": "light"
     },
     "output_type": "display_data"
    }
   ],
   "source": [
    "# df_5 = df_4[df_4.date == '2022m1']\n",
    "\n",
    "df_5[df_5.wfh_option != 0]['wfh_days_postCOVID_ss'].plot.hist()"
   ]
  },
  {
   "cell_type": "code",
   "execution_count": 129,
   "id": "3e8dafab",
   "metadata": {},
   "outputs": [
    {
     "data": {
      "text/plain": [
       "array(['2020m10', '2020m11', '2020m12', '2020m5', '2020m7', '2020m8',\n",
       "       '2020m9', '2021m1', '2021m10', '2021m11', '2021m12', '2021m2',\n",
       "       '2021m3', '2021m4', '2021m5', '2021m6', '2021m7', '2021m8',\n",
       "       '2021m9', '2022m1', '2022m2', '2022m3'], dtype=object)"
      ]
     },
     "execution_count": 129,
     "metadata": {},
     "output_type": "execute_result"
    }
   ],
   "source": [
    "np.sort(df.date.unique())"
   ]
  },
  {
   "cell_type": "code",
   "execution_count": null,
   "id": "5a133fb5",
   "metadata": {},
   "outputs": [],
   "source": []
  }
 ],
 "metadata": {
  "kernelspec": {
   "display_name": "Python 3",
   "language": "python",
   "name": "python3"
  },
  "language_info": {
   "codemirror_mode": {
    "name": "ipython",
    "version": 3
   },
   "file_extension": ".py",
   "mimetype": "text/x-python",
   "name": "python",
   "nbconvert_exporter": "python",
   "pygments_lexer": "ipython3",
   "version": "3.8.10"
  }
 },
 "nbformat": 4,
 "nbformat_minor": 5
}
