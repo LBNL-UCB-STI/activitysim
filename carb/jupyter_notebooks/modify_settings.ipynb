{
 "cells": [
  {
   "cell_type": "code",
   "execution_count": 2,
   "id": "military-stock",
   "metadata": {},
   "outputs": [],
   "source": [
    "import pandas as pd \n",
    "import numpy as np\n",
    "import yaml\n",
    "import openmatrix as omx\n",
    "import geopandas as gpd"
   ]
  },
  {
   "cell_type": "code",
   "execution_count": null,
   "id": "quality-groove",
   "metadata": {},
   "outputs": [],
   "source": [
    "# Upload Tour Mode Choice configs file \n",
    "tmd = pd.read_csv('bay_area_base/configs/configs/tour_mode_choice.csv', index_col = 'Label')"
   ]
  },
  {
   "cell_type": "code",
   "execution_count": null,
   "id": "descending-punishment",
   "metadata": {},
   "outputs": [],
   "source": [
    "to_modify = tmd[tmd.Description.str.contains('wait').fillna(False)].Expression"
   ]
  },
  {
   "cell_type": "code",
   "execution_count": null,
   "id": "super-theology",
   "metadata": {},
   "outputs": [],
   "source": [
    "a = to_modify.str.split(']')[0]"
   ]
  },
  {
   "cell_type": "code",
   "execution_count": null,
   "id": "meaning-calibration",
   "metadata": {},
   "outputs": [],
   "source": [
    "factor = 1.25\n",
    "modified = [a[i] + ']*' + str(factor) for i in range(len(a) - 1)]\n",
    "\"\".join(modified + [a[-1]])"
   ]
  },
  {
   "cell_type": "code",
   "execution_count": null,
   "id": "posted-brook",
   "metadata": {},
   "outputs": [],
   "source": [
    "def add_factor(iterable, factor):\n",
    "    modified = [iterable[i] + ']*' + str(factor) for i in range(len(iterable) - 1)]\n",
    "    return \"\".join(modified + [iterable[-1]])"
   ]
  },
  {
   "cell_type": "code",
   "execution_count": null,
   "id": "effective-causing",
   "metadata": {},
   "outputs": [],
   "source": [
    "to_modify.str.split(']').apply(lambda s: add_factor(s, 1.25) )[8]"
   ]
  },
  {
   "cell_type": "code",
   "execution_count": null,
   "id": "tutorial-school",
   "metadata": {},
   "outputs": [],
   "source": [
    "\"\".join(modified + [a[-1]])"
   ]
  },
  {
   "cell_type": "code",
   "execution_count": null,
   "id": "abandoned-motel",
   "metadata": {},
   "outputs": [],
   "source": [
    "factor = 0.7\n",
    "modified = (to_modify + '*' + str(factor))"
   ]
  },
  {
   "cell_type": "code",
   "execution_count": null,
   "id": "incident-hometown",
   "metadata": {},
   "outputs": [],
   "source": [
    "tmd.loc[to_modify.index, 'Expression'] = modified"
   ]
  },
  {
   "cell_type": "code",
   "execution_count": null,
   "id": "upset-guitar",
   "metadata": {},
   "outputs": [],
   "source": [
    "tmd.iloc[87,]['Expression']"
   ]
  },
  {
   "cell_type": "code",
   "execution_count": null,
   "id": "former-daily",
   "metadata": {},
   "outputs": [],
   "source": [
    "def add_factor(iterable, factor):\n",
    "    modified = [iterable[i] + ']*' + str(factor) for i in range(len(iterable) - 1)]\n",
    "    return \"\".join(modified + [iterable[-1]])\n",
    "\n",
    "def add_number(iterable, number):\n",
    "    modified = [iterable[i] + ']+' + str(number) for i in range(len(iterable) - 1)]\n",
    "    return \"\".join(modified + [iterable[-1]])\n",
    "\n",
    "# def modify_transit_wait_time(factor):\n",
    "    \n",
    "#     #Tour mode choie\n",
    "#     tour_mode_choice = pd.read_csv('bay_area_base/configs/configs/tour_mode_choice.csv', index_col = 'Label')\n",
    "#     to_modify = tour_mode_choice[tour_mode_choice.Description.str.contains('wait', \n",
    "#                                                                           regex = True).fillna(False)].Expression\n",
    "#     modified = to_modify.str.split(']').apply(lambda s: add_factor(s, factor))\n",
    "#     tour_mode_choice.loc[to_modify.index, 'Expression'] = modified\n",
    "    \n",
    "#     #Trip Mode Choice \n",
    "#     trip_mode_choice = pd.read_csv('bay_area_base/configs/configs/trip_mode_choice.csv')\n",
    "#     to_modify = trip_mode_choice[trip_mode_choice.Description.str.contains('wait', \n",
    "#                                                                        regex = True).fillna(False)].Expression\n",
    "#     modified = to_modify.str.split(']').apply(lambda s: add_factor(s, factor))\n",
    "#     trip_mode_choice.loc[to_modify.index, 'Expression'] = modified\n",
    "#     return tour_mode_choice, trip_mode_choice"
   ]
  },
  {
   "cell_type": "code",
   "execution_count": null,
   "id": "neutral-lying",
   "metadata": {},
   "outputs": [],
   "source": [
    "# def modify_transit_in_vehicle_time(regex_expression, factor):\n",
    "#     #Tour mode choie\n",
    "#     tour_mode_choice = pd.read_csv('bay_area_base/configs/configs/tour_mode_choice.csv', index_col = 'Label')\n",
    "#     to_modify = tour_mode_choice[tour_mode_choice.Description.str.contains('_[A-Z]{3}\\s-\\sIn-vehicle\\stime', \n",
    "#                                                                           regex = True).fillna(False)].Expression\n",
    "#     modified = to_modify.str.split(']').apply(lambda s: add_factor(s, factor))\n",
    "#     tour_mode_choice.loc[to_modify.index, 'Expression'] = modified\n",
    "    \n",
    "#     #Trip Mode Choice \n",
    "#     trip_mode_choice = pd.read_csv('bay_area_base/configs/configs/trip_mode_choice.csv')\n",
    "#     to_modify = trip_mode_choice[trip_mode_choice.Description.str.match('_[A-Z]{3}\\s-\\sIn-vehicle\\stime', \n",
    "#                                                                        regex = True).fillna(False)].Expression\n",
    "#     modified = to_modify.str.split(']').apply(lambda s: add_factor(s, factor))\n",
    "#     trip_mode_choice.loc[to_modify.index, 'Expression'] = modified\n",
    "#     return tour_mode_choice, trip_mode_choice"
   ]
  },
  {
   "cell_type": "code",
   "execution_count": null,
   "id": "civic-macedonia",
   "metadata": {},
   "outputs": [],
   "source": [
    "a, b = modify_transit_wait_time(1.5)"
   ]
  },
  {
   "cell_type": "code",
   "execution_count": null,
   "id": "convertible-major",
   "metadata": {},
   "outputs": [],
   "source": [
    "def modify_mode_choice_configs(regex_expression, factor = None, number = None):\n",
    "    #Tour mode choie\n",
    "    tour_mode_choice = pd.read_csv('bay_area_base/configs/configs/tour_mode_choice.csv', index_col = 'Label')\n",
    "    trip_mode_choice = pd.read_csv('bay_area_base/configs/configs/trip_mode_choice.csv')\n",
    "    \n",
    "    tour_to_modify = tour_mode_choice[tour_mode_choice.Description.str.contains(regex_expression, \n",
    "                                                                          regex = True).fillna(False)].Expression\n",
    "    trip_to_modify = trip_mode_choice[trip_mode_choice.Description.str.contains(regex_expression, \n",
    "                                                                       regex = True).fillna(False)].Expression\n",
    "    \n",
    "    if factor: \n",
    "        tour_modified = tour_to_modify.str.split(']').apply(lambda s: add_factor(s, factor))\n",
    "        trip_modified = trip_to_modify.str.split(']').apply(lambda s: add_factor(s, factor))\n",
    "    elif number:\n",
    "        tour_modified = tour_to_modify.str.split(']').apply(lambda s: add_number(s, number))\n",
    "        trip_modified = trip_to_modify.str.split(']').apply(lambda s: add_number(s, number))\n",
    "    \n",
    "#     modified = to_modify.str.split(']').apply(lambda s: add_factor(s, factor))\n",
    "    tour_mode_choice.loc[tour_to_modify.index, 'Expression'] = tour_modified\n",
    "    trip_mode_choice.loc[trip_to_modify.index, 'Expression'] = trip_modified\n",
    "    \n",
    "#     #Trip Mode Choice \n",
    "#     trip_mode_choice = pd.read_csv('bay_area_base/configs/configs/trip_mode_choice.csv')\n",
    "#     to_modify = trip_mode_choice[trip_mode_choice.Description.str.contains(regex_expression, \n",
    "#                                                                        regex = True).fillna(False)].Expression\n",
    "#     modified = to_modify.str.split(']').apply(lambda s: add_factor(s, factor))\n",
    "#     trip_mode_choice.loc[to_modify.index, 'Expression'] = modified\n",
    "    return tour_mode_choice, trip_mode_choice"
   ]
  },
  {
   "cell_type": "code",
   "execution_count": null,
   "id": "imperial-essay",
   "metadata": {},
   "outputs": [],
   "source": [
    "# Modify Transit Waiting times \n",
    "a, b = modify_mode_choice_configs('wait', factor = 1.5)\n",
    "a.iloc[86,]['Expression']"
   ]
  },
  {
   "cell_type": "code",
   "execution_count": null,
   "id": "beautiful-reproduction",
   "metadata": {},
   "outputs": [],
   "source": [
    "# Modify Transit Travel Times \n",
    "a, b = modify_mode_choice_configs('_[A-Z]{3}\\s-\\sIn-vehicle\\stime', factor =1.5)\n",
    "a.iloc[130,]['Expression']"
   ]
  },
  {
   "cell_type": "code",
   "execution_count": null,
   "id": "guided-assets",
   "metadata": {},
   "outputs": [],
   "source": [
    "# Modify Transit Fares\n",
    "a, b = modify_mode_choice_configs('_[A-Z]{3}\\s-\\sFare', factor =1.5)\n",
    "a.iloc[92,]['Expression']"
   ]
  },
  {
   "cell_type": "code",
   "execution_count": 3,
   "id": "secondary-proposition",
   "metadata": {},
   "outputs": [],
   "source": [
    "def read_yaml(path):\n",
    "#     logging.debug('Modifying settings.yaml file')\n",
    "    a_yaml_file = open(path)\n",
    "    return yaml.load(a_yaml_file, Loader=yaml.FullLoader)\n",
    "\n",
    "def save_yaml(path, settings):\n",
    "    with open(path, 'w') as outfile:\n",
    "        yaml.dump(settings, outfile, default_flow_style=False)"
   ]
  },
  {
   "cell_type": "code",
   "execution_count": null,
   "id": "latest-observer",
   "metadata": {},
   "outputs": [],
   "source": [
    "def modify_mode_choice_constants(tour_mode_choic_settings_path, variable, factor = None, number = None):\n",
    "    \n",
    "    settings = read_yaml(tour_mode_choic_settings_path)\n",
    "    constants = settings['CONSTANTS']\n",
    "\n",
    "    for value in variable:\n",
    "        if type(constants[value]) is float:\n",
    "            if factor:\n",
    "                constants[value] *= factor\n",
    "            elif number:\n",
    "                constants[value] += number\n",
    "        \n",
    "        elif type(constants[value]) is dict:\n",
    "            if factor:\n",
    "                my_dict = constants[value].update((x, y*factor) for x, y in constants[value].items())\n",
    "            elif number:\n",
    "                my_dict = constants[value].update((x, y+number) for x, y in constants[value].items())\n",
    "\n",
    "    return settings\n",
    "    "
   ]
  },
  {
   "cell_type": "code",
   "execution_count": null,
   "id": "massive-comfort",
   "metadata": {},
   "outputs": [],
   "source": [
    "tour_mode_choic_settings_path = 'bay_area_base/configs/configs/tour_mode_choice.yaml'\n",
    "\n",
    "# Modify Shared TNC Price\n",
    "tnc_price = ['TNC_single_baseFare', 'TNC_single_costPerMile',\n",
    "             'TNC_single_costPerMinute','TNC_single_costMinimum',\n",
    "             'TNC_shared_baseFare', 'TNC_shared_costPerMile',\n",
    "             'TNC_shared_costPerMinute', 'TNC_shared_costMinimum']\n",
    "new_settings = modify_mode_choice_constants(tour_mode_choic_settings_path, 0.5, tnc_price)"
   ]
  },
  {
   "cell_type": "code",
   "execution_count": null,
   "id": "downtown-element",
   "metadata": {},
   "outputs": [],
   "source": [
    "# Modify Shared TNC Waiting times\n",
    "tnc_price = ['TNC_single_waitTime_mean', 'TNC_shared_waitTime_mean']\n",
    "new_settings = modify_mode_choice_constants(tour_mode_choic_settings_path, 0.5, tnc_price)"
   ]
  },
  {
   "cell_type": "code",
   "execution_count": null,
   "id": "sunset-puzzle",
   "metadata": {},
   "outputs": [],
   "source": [
    "# Pricing - Manage HOV Lanes\n",
    "a, b = modify_mode_choice_configs('Value toll', factor = 1.5)\n",
    "a.iloc[44,]['Expression']"
   ]
  },
  {
   "cell_type": "code",
   "execution_count": null,
   "id": "commercial-arthritis",
   "metadata": {},
   "outputs": [],
   "source": [
    "# VMT Fees\n",
    "cost_per_mile = ['costPerMile']\n",
    "factor = (18.29 + 5)/18.29\n",
    "new_settings = modify_mode_choice_constants(tour_mode_choic_settings_path, factor, cost_per_mile)"
   ]
  },
  {
   "cell_type": "code",
   "execution_count": null,
   "id": "retained-lingerie",
   "metadata": {},
   "outputs": [],
   "source": [
    "# Pricing -- Flat-rate toll (Brigde)\n",
    "a, b = modify_mode_choice_configs('Bridge toll', number = 100)\n",
    "a.iloc[10,]['Expression']"
   ]
  },
  {
   "cell_type": "code",
   "execution_count": null,
   "id": "robust-quality",
   "metadata": {},
   "outputs": [],
   "source": [
    "new_settings"
   ]
  },
  {
   "cell_type": "code",
   "execution_count": null,
   "id": "relative-allen",
   "metadata": {},
   "outputs": [],
   "source": [
    "skims_path = 'bay_area_base/data/skims.omx'\n",
    "skims = omx.open_file(skims_path,'r')"
   ]
  },
  {
   "cell_type": "code",
   "execution_count": null,
   "id": "korean-windsor",
   "metadata": {},
   "outputs": [],
   "source": [
    "toll = np.array(skims['SOVTOLL_BTOLL__PM'])"
   ]
  },
  {
   "cell_type": "code",
   "execution_count": null,
   "id": "general-hollywood",
   "metadata": {},
   "outputs": [],
   "source": [
    "# for i in range(1454):\n",
    "#     print ('toll sum:{} --Iteration {}'.format(toll[i,:].sum(), i))"
   ]
  },
  {
   "cell_type": "code",
   "execution_count": null,
   "id": "needed-technical",
   "metadata": {},
   "outputs": [],
   "source": [
    "taz_bay = gpd.read_file('taz_shapefiles/Transportation_Analysis_Zones.shp')"
   ]
  },
  {
   "cell_type": "code",
   "execution_count": null,
   "id": "minus-timber",
   "metadata": {},
   "outputs": [],
   "source": [
    "taz_bay.sort_values('taz1454', inplace = True)"
   ]
  },
  {
   "cell_type": "code",
   "execution_count": null,
   "id": "beginning-success",
   "metadata": {},
   "outputs": [],
   "source": [
    "taz_bay.columns"
   ]
  },
  {
   "cell_type": "code",
   "execution_count": null,
   "id": "pregnant-father",
   "metadata": {},
   "outputs": [],
   "source": [
    "taz_bay[taz_bay.county == 'San Francisco']#.plot(columns = 'district')\n",
    "\n",
    "sf = taz_bay[taz_bay.county == 'San Francisco']"
   ]
  },
  {
   "cell_type": "code",
   "execution_count": null,
   "id": "champion-remove",
   "metadata": {},
   "outputs": [],
   "source": [
    "sf.plot(column = 'district', figsize = (10,10), legend = True)"
   ]
  },
  {
   "cell_type": "code",
   "execution_count": null,
   "id": "governing-covering",
   "metadata": {},
   "outputs": [],
   "source": [
    "sf.plot()"
   ]
  },
  {
   "cell_type": "code",
   "execution_count": null,
   "id": "senior-synthesis",
   "metadata": {},
   "outputs": [],
   "source": [
    "taz_bay['toll'] = toll[1400,:][:1454]\n",
    "taz_bay.plot(column = 'toll', figsize = (10,10), legend = True);"
   ]
  },
  {
   "cell_type": "code",
   "execution_count": 19,
   "id": "alpine-gabriel",
   "metadata": {},
   "outputs": [
    {
     "data": {
      "text/plain": [
       "{'policies': {'transit_fare': {'scenarios': {'free_transit': 0.0,\n",
       "    '75%_reduction': 0.25,\n",
       "    '50%_reduction': 0.5,\n",
       "    '25%_reduction': 0.75,\n",
       "    'current_fare': 1.0,\n",
       "    '25%_increase': 1.25,\n",
       "    '50%_increase': 1.5},\n",
       "   'replace': False,\n",
       "   'regex': '[A-Z]{3}\\\\s-\\\\sFare',\n",
       "   'chage_type': 'product'},\n",
       "  'transit_frequency': {'scenarios': {'150%_Increased': 1.5,\n",
       "    '125%_Increased': 1.25,\n",
       "    'Current_waiting_times': 1.0,\n",
       "    '25%_Reduction': 0.75,\n",
       "    '50%_Reduction': 0.5},\n",
       "   'replace': False,\n",
       "   'regex': 'wait',\n",
       "   'chage_type': 'product'},\n",
       "  'transit_operations': {'scenarios': {'Current_in-vehicle_times': 1.0,\n",
       "    '5%_Reduction': 0.95,\n",
       "    '10%_Reduction': 0.9,\n",
       "    '15%_Reduction': 0.85,\n",
       "    '20%_Reduction': 0.8},\n",
       "   'replace': False,\n",
       "   'regex': '_[A-Z]{3}\\\\s-\\\\sIn-vehicle\\\\stime',\n",
       "   'chage_type': 'product'},\n",
       "  'shared_tnc_price': {'scenarios': {'50%_Reduction': 0.5,\n",
       "    '25%_Reduction': 0.75,\n",
       "    'Current_Fare': 1.0,\n",
       "    '25%_Increase': 1.25,\n",
       "    '50%_Increase': 1.5},\n",
       "   'replace': False,\n",
       "   'chage_type': 'product',\n",
       "   'variables': ['TNC_single_baseFare',\n",
       "    'TNC_single_costPerMile',\n",
       "    'TNC_single_costPerMinute',\n",
       "    'TNC_single_costMinimum',\n",
       "    'TNC_shared_baseFare',\n",
       "    'TNC_shared_costPerMile',\n",
       "    'TNC_shared_costPerMinute',\n",
       "    'TNC_shared_costMinimum']},\n",
       "  'shared_tnc_waiting_times': {'scenarios': {'50%_Reduction': 0.5,\n",
       "    '25%_Reduction': 0.75,\n",
       "    'Current_Fare': 1.0,\n",
       "    '25%_Increase': 1.25,\n",
       "    '50%_Increase': 1.5},\n",
       "   'replace': False,\n",
       "   'chage_type': 'product',\n",
       "   'variables': ['TNC_single_waitTime_mean', 'TNC_shared_waitTime_mean']},\n",
       "  'tolls': {'scenarios': {'Current_Toll_Price': 0,\n",
       "    '$1_Increase': 100,\n",
       "    '$3_Increase': 300,\n",
       "    '$5_Increase': 300},\n",
       "   'replace': False,\n",
       "   'regex': 'Bridge toll',\n",
       "   'chage_type': 'summation'},\n",
       "  'VMT_fees': {'scenarios': {'Current_Toll_Price': 0,\n",
       "    '2_cents': 2,\n",
       "    '5_cents': 5,\n",
       "    '10_cents': 10},\n",
       "   'replace': False,\n",
       "   'chage_type': 'summation',\n",
       "   'variables': ['costPerMile']},\n",
       "  'hov_lanes': {'scenarios': {'25%_Increase': 1.25,\n",
       "    'Current_Price': 0,\n",
       "    '25%_Reduction': 0.75},\n",
       "   'replace': False,\n",
       "   'chage_type': 'product',\n",
       "   'regex': 'Value toll'}},\n",
       " 'asim_settings': {'households_sample_size': 100,\n",
       "  'num_processes': 2,\n",
       "  'chunk_size': 10000000000},\n",
       " 'carb_mode_mapping': {'DRIVEALONEFREE': 'Drive Alone',\n",
       "  'DRIVEALONEPAY': 'Drive Alone',\n",
       "  'SHARED2FREE': 'Shared Ride',\n",
       "  'SHARED3FREE': 'Shared Ride',\n",
       "  'SHARED2PAY': 'Shared Ride',\n",
       "  'SHARED3PAY': 'Shared Ride',\n",
       "  'WALK': 'Walk',\n",
       "  'BIKE': 'Bike',\n",
       "  'WALK_HVY': 'Public Transit',\n",
       "  'WALK_LOC': 'Public Transit',\n",
       "  'WALK_EXP': 'Public Transit',\n",
       "  'WALK_COM': 'Public Transit',\n",
       "  'WALK_LRF': 'Public Transit',\n",
       "  'DRIVE_HVY': 'Public Transit',\n",
       "  'DRIVE_LOC': 'Public Transit',\n",
       "  'DRIVE_EXP': 'Public Transit',\n",
       "  'DRIVE_COM': 'Public Transit',\n",
       "  'DRIVE_LRF': 'Public Transit',\n",
       "  'TNC_SINGLE': 'TNC - Ride Alone',\n",
       "  'TNC_SHARED': 'TNC - Pooled',\n",
       "  'TAXI': 'TNC - Ride Alone'},\n",
       " 'mode_index_mapping': {'DRIVEALONEFREE': 0,\n",
       "  'DRIVEALONEPAY': 1,\n",
       "  'SHARED2FREE': 2,\n",
       "  'SHARED3FREE': 3,\n",
       "  'SHARED2PAY': 4,\n",
       "  'SHARED3PAY': 5,\n",
       "  'WALK': 6,\n",
       "  'BIKE': 7,\n",
       "  'WALK_HVY': 8,\n",
       "  'WALK_LOC': 9,\n",
       "  'WALK_EXP': 10,\n",
       "  'WALK_COM': 11,\n",
       "  'WALK_LRF': 12,\n",
       "  'DRIVE_HVY': 13,\n",
       "  'DRIVE_LOC': 14,\n",
       "  'DRIVE_EXP': 15,\n",
       "  'DRIVE_COM': 16,\n",
       "  'DRIVE_LRF': 17,\n",
       "  'TNC_SINGLE': 0,\n",
       "  'TNC_SHARED': 0,\n",
       "  'TAXI': 0},\n",
       " 'driving_access_mode_index_mapping': {'DRIVEALONEFREE': 5,\n",
       "  'DRIVEALONEPAY': 5,\n",
       "  'SHARED2FREE': 5,\n",
       "  'SHARED3FREE': 5,\n",
       "  'SHARED2PAY': 5,\n",
       "  'SHARED3PAY': 5,\n",
       "  'WALK': 5,\n",
       "  'BIKE': 5,\n",
       "  'WALK_HVY': 5,\n",
       "  'WALK_LOC': 5,\n",
       "  'WALK_EXP': 5,\n",
       "  'WALK_COM': 5,\n",
       "  'WALK_LRF': 5,\n",
       "  'DRIVE_HVY': 0,\n",
       "  'DRIVE_LOC': 1,\n",
       "  'DRIVE_EXP': 2,\n",
       "  'DRIVE_COM': 3,\n",
       "  'DRIVE_LRF': 4,\n",
       "  'TNC_SINGLE': 5,\n",
       "  'TNC_SHARED': 5,\n",
       "  'TAXI': 5},\n",
       " 'commute_mapping': {'work': 'commute',\n",
       "  'atwork': 'commute',\n",
       "  'eatout': 'non_commute',\n",
       "  'othdiscr': 'non_commute',\n",
       "  'social': 'non_commute',\n",
       "  'school': 'commute',\n",
       "  'othmaint': 'non_commute',\n",
       "  'escort': 'non_commute',\n",
       "  'shopping': 'non_commute',\n",
       "  'univ': 'commute'}}"
      ]
     },
     "execution_count": 19,
     "metadata": {},
     "output_type": "execute_result"
    }
   ],
   "source": [
    "read_yaml('policies.yaml')"
   ]
  },
  {
   "cell_type": "code",
   "execution_count": null,
   "id": "thousand-execution",
   "metadata": {},
   "outputs": [],
   "source": []
  }
 ],
 "metadata": {
  "kernelspec": {
   "display_name": "Python 3",
   "language": "python",
   "name": "python3"
  },
  "language_info": {
   "codemirror_mode": {
    "name": "ipython",
    "version": 3
   },
   "file_extension": ".py",
   "mimetype": "text/x-python",
   "name": "python",
   "nbconvert_exporter": "python",
   "pygments_lexer": "ipython3",
   "version": "3.9.2"
  }
 },
 "nbformat": 4,
 "nbformat_minor": 5
}
