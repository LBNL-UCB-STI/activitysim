{
 "cells": [
  {
   "cell_type": "code",
   "execution_count": 1,
   "id": "charged-skiing",
   "metadata": {},
   "outputs": [],
   "source": [
    "import warnings\n",
    "warnings.filterwarnings('ignore')\n",
    "\n",
    "import pandas as pd \n",
    "import numpy as np \n",
    "import matplotlib.pyplot as plt\n",
    "import seaborn as sns \n",
    "\n",
    "# from urbansim_templates import modelmanager\n",
    "# from urbansim_templates.models import BinaryLogitStep\n",
    "# import orca"
   ]
  },
  {
   "cell_type": "code",
   "execution_count": 2,
   "id": "compound-liabilities",
   "metadata": {},
   "outputs": [
    {
     "name": "stdout",
     "output_type": "stream",
     "text": [
      "Bar area household sample size: 3248\n",
      "Bar area persons sample size: 6772\n",
      "Bar area weighted persons sample size: 6937089.0\n"
     ]
    }
   ],
   "source": [
    "## Load raw data \n",
    "persons = pd.read_csv('NHTS_2017_data/perpub.csv')\n",
    "households = pd.read_csv('NHTS_2017_data/hhpub.csv')\n",
    "\n",
    "## Bay area households \n",
    "ba_filter = households['HH_CBSA'].isin(['41860','41940'])\n",
    "households = households[ba_filter]\n",
    "print ('Bar area household sample size:', ba_filter.sum())\n",
    "\n",
    "## Avoid duplicated columns (to preserve column name in future merge)\n",
    "cols_to_use = persons.columns.difference(households.columns)\n",
    "cols_to_use = list(cols_to_use)\n",
    "cols_to_use.insert(0,'HOUSEID')\n",
    "\n",
    "## Merge persons and households tables \n",
    "persons = persons[cols_to_use].merge(households, how = 'right', on = 'HOUSEID')\n",
    "population = np.round(persons['WTPERFIN'].sum(), 0)\n",
    "\n",
    "print ('Bar area persons sample size:', persons.shape[0])\n",
    "print ('Bar area weighted persons sample size:', population)"
   ]
  },
  {
   "cell_type": "code",
   "execution_count": 3,
   "id": "established-hardwood",
   "metadata": {},
   "outputs": [
    {
     "name": "stdout",
     "output_type": "stream",
     "text": [
      "Job sector model has 3132 observations\n"
     ]
    }
   ],
   "source": [
    "## Initial data cleaning \n",
    "no_sector = persons['OCCAT'].isin([-9, -8, -7, -1, 97])\n",
    "\n",
    "print ('Job sector model has {} observations'.format(no_sector.sum()))\n",
    "\n",
    "sector_name = {1: 'Sales or service', 2:'Clerical or administrative support', \n",
    "               3:'Manufacturing, construction, maintenance, or farming', \n",
    "               4:'Professional, managerial, or technical'}"
   ]
  },
  {
   "cell_type": "code",
   "execution_count": 4,
   "id": "incident-cancer",
   "metadata": {},
   "outputs": [],
   "source": [
    "## THIS DID NOT WORKED \n",
    "# orca.add_table('workers', persons[no_sector])\n",
    "# persons.columns[:100]\n",
    "# m = BinaryLogitStep()\n",
    "# m.name = 'job-sector'\n",
    "# m.tables = 'workers'\n",
    "# m.model_expression = 'OCCAT ~ R_AGE_IMP'\n",
    "# m.fit()"
   ]
  },
  {
   "cell_type": "code",
   "execution_count": 5,
   "id": "expired-baltimore",
   "metadata": {},
   "outputs": [],
   "source": [
    "workers = persons[~no_sector]\n",
    "dependent_variable = 'OCCAT'"
   ]
  },
  {
   "cell_type": "code",
   "execution_count": 7,
   "id": "de75a44c",
   "metadata": {},
   "outputs": [
    {
     "name": "stdout",
     "output_type": "stream",
     "text": [
      "3.6.13\n"
     ]
    }
   ],
   "source": [
    "from platform import python_version\n",
    "\n",
    "print(python_version())"
   ]
  },
  {
   "cell_type": "code",
   "execution_count": null,
   "id": "366e4536",
   "metadata": {},
   "outputs": [],
   "source": []
  },
  {
   "cell_type": "code",
   "execution_count": 14,
   "id": "698ac8d1",
   "metadata": {},
   "outputs": [
    {
     "ename": "ModuleNotFoundError",
     "evalue": "No module named 'biogeme'",
     "output_type": "error",
     "traceback": [
      "\u001b[0;31m---------------------------------------------------------------------------\u001b[0m",
      "\u001b[0;31mModuleNotFoundError\u001b[0m                       Traceback (most recent call last)",
      "\u001b[0;32m<ipython-input-14-fbc29ae2fdbe>\u001b[0m in \u001b[0;36m<module>\u001b[0;34m()\u001b[0m\n\u001b[1;32m      1\u001b[0m \u001b[0;32mimport\u001b[0m \u001b[0mpandas\u001b[0m \u001b[0;32mas\u001b[0m \u001b[0mpd\u001b[0m\u001b[0;34m\u001b[0m\u001b[0;34m\u001b[0m\u001b[0m\n\u001b[0;32m----> 2\u001b[0;31m \u001b[0;32mimport\u001b[0m \u001b[0mbiogeme\u001b[0m\u001b[0;34m.\u001b[0m\u001b[0mdatabase\u001b[0m \u001b[0;32mas\u001b[0m \u001b[0mdb\u001b[0m\u001b[0;34m\u001b[0m\u001b[0;34m\u001b[0m\u001b[0m\n\u001b[0m\u001b[1;32m      3\u001b[0m \u001b[0;32mimport\u001b[0m \u001b[0mbiogeme\u001b[0m\u001b[0;34m.\u001b[0m\u001b[0mbiogeme\u001b[0m \u001b[0;32mas\u001b[0m \u001b[0mbio\u001b[0m\u001b[0;34m\u001b[0m\u001b[0;34m\u001b[0m\u001b[0m\n\u001b[1;32m      4\u001b[0m \u001b[0;32mimport\u001b[0m \u001b[0mbiogeme\u001b[0m\u001b[0;34m.\u001b[0m\u001b[0mmodels\u001b[0m \u001b[0;32mas\u001b[0m \u001b[0mmodels\u001b[0m\u001b[0;34m\u001b[0m\u001b[0;34m\u001b[0m\u001b[0m\n\u001b[1;32m      5\u001b[0m \u001b[0;32mfrom\u001b[0m \u001b[0mbiogeme\u001b[0m\u001b[0;34m.\u001b[0m\u001b[0mexpressions\u001b[0m \u001b[0;32mimport\u001b[0m \u001b[0mBeta\u001b[0m\u001b[0;34m\u001b[0m\u001b[0;34m\u001b[0m\u001b[0m\n",
      "\u001b[0;31mModuleNotFoundError\u001b[0m: No module named 'biogeme'"
     ]
    }
   ],
   "source": [
    "import pandas as pd\n",
    "import biogeme.database as db\n",
    "import biogeme.biogeme as bio\n",
    "import biogeme.models as models\n",
    "from biogeme.expressions import Beta"
   ]
  },
  {
   "cell_type": "code",
   "execution_count": null,
   "id": "e8a875c4",
   "metadata": {},
   "outputs": [],
   "source": []
  }
 ],
 "metadata": {
  "kernelspec": {
   "display_name": "Python 3",
   "language": "python",
   "name": "python3"
  },
  "language_info": {
   "codemirror_mode": {
    "name": "ipython",
    "version": 3
   },
   "file_extension": ".py",
   "mimetype": "text/x-python",
   "name": "python",
   "nbconvert_exporter": "python",
   "pygments_lexer": "ipython3",
   "version": "3.6.13"
  }
 },
 "nbformat": 4,
 "nbformat_minor": 5
}
