{
 "cells": [
  {
   "cell_type": "code",
   "execution_count": 49,
   "metadata": {},
   "outputs": [],
   "source": [
    "import numpy as np \n",
    "import pandas as pd \n",
    "import orca \n",
    "\n",
    "from sklearn.model_selection import KFold, train_test_split\n",
    "from statsmodels.discrete.discrete_model import MNLogit"
   ]
  },
  {
   "cell_type": "code",
   "execution_count": 55,
   "metadata": {},
   "outputs": [
    {
     "name": "stdout",
     "output_type": "stream",
     "text": [
      "Number of Households:  10000\n",
      "Number of Persons:  24932\n",
      "Number of tours:  31487\n",
      "Number of trips:  80350\n"
     ]
    }
   ],
   "source": [
    "hdf = pd.HDFStore('output/pipeline.h5')\n",
    "pp = hdf['/persons/trip_mode_choice']\n",
    "hh = hdf['/households/trip_mode_choice']\n",
    "tours = hdf['/tours/trip_mode_choice']\n",
    "trips = hdf['/trips/trip_mode_choice']\n",
    "acc = hdf['/accessibility/trip_mode_choice']\n",
    "lu = hdf['/land_use/trip_mode_choice']\n",
    "\n",
    "print ('Number of Households: ',hh.shape[0])\n",
    "print ('Number of Persons: ',pp.shape[0])\n",
    "print ('Number of tours: ',tours.shape[0])\n",
    "print ('Number of trips: ',trips.shape[0])"
   ]
  },
  {
   "cell_type": "code",
   "execution_count": 274,
   "metadata": {},
   "outputs": [],
   "source": [
    "def simulation(probs):\n",
    "    rands = np.random.rand(len(probs),1,)\n",
    "    probs_arr = probs.values.cumsum(axis=1) - rands\n",
    "    choices = np.argmax(probs_arr > 0.0, axis=1)\n",
    "    choices = pd.Series(choices, index=probs.index)\n",
    "    return choices"
   ]
  },
  {
   "cell_type": "code",
   "execution_count": 56,
   "metadata": {},
   "outputs": [],
   "source": [
    "# Need to merge land use and accessibilities here "
   ]
  },
  {
   "cell_type": "code",
   "execution_count": 57,
   "metadata": {},
   "outputs": [],
   "source": [
    "hh_merge = hh.merge(acc, how = 'inner', left_on = 'TAZ', right_index = True).\\\n",
    "              merge(lu, how = 'inner', left_on = 'TAZ', right_index = True)"
   ]
  },
  {
   "cell_type": "code",
   "execution_count": 58,
   "metadata": {},
   "outputs": [
    {
     "data": {
      "text/plain": [
       "Index(['serialno', 'hhsize', 'VEHICL', 'income', 'race_of_head', 'age_of_head',\n",
       "       'num_workers', 'children', 'tenure', 'recent_mover', 'block_id', 'TAZ',\n",
       "       'HHT', 'chunk_id', 'income_in_thousands', 'income_segment',\n",
       "       'median_value_of_time', 'hh_value_of_time', 'num_non_workers',\n",
       "       'num_drivers', 'num_adults', 'num_children', 'num_young_children',\n",
       "       'num_children_5_to_15', 'num_children_16_to_17', 'num_college_age',\n",
       "       'num_young_adults', 'non_family', 'family', 'home_is_urban',\n",
       "       'home_is_rural', 'auto_ownership', 'hh_work_auto_savings_ratio',\n",
       "       'num_under16_not_at_school', 'num_travel_active',\n",
       "       'num_travel_active_adults', 'num_travel_active_preschoolers',\n",
       "       'num_travel_active_children', 'num_travel_active_non_preschoolers',\n",
       "       'participates_in_jtf_model', 'joint_tour_frequency',\n",
       "       'num_hh_joint_tours', 'auPkRetail', 'auPkTotal', 'auOpRetail',\n",
       "       'auOpTotal', 'trPkRetail', 'trPkTotal', 'trOpRetail', 'trOpTotal',\n",
       "       'nmRetail', 'nmTotal', 'h3_id', 'geometry', 'area', 'TOTHH', 'HHPOP',\n",
       "       'EMPRES', 'HHINCQ1', 'HHINCQ2', 'HHINCQ3', 'HHINCQ4', 'AGE0004',\n",
       "       'AGE0519', 'AGE2044', 'AGE4564', 'AGE65P', 'AGE62P', 'SHPOP62P',\n",
       "       'TOTEMP', 'RETEMPN', 'FPSEMPN', 'HEREMPN', 'AGREMPN', 'MWTEMPN',\n",
       "       'OTHEMPN', 'TOTACRE', 'RESACRE', 'CIACRE', 'HSENROLL', 'TOPOLOGY',\n",
       "       'employment_density', 'pop_density', 'hh_density', 'hq1_density',\n",
       "       'PRKCST', 'OPRKCST', 'COLLFTE', 'COLLPTE', 'area_type', 'TERMINAL',\n",
       "       'county_id', 'household_density', 'density_index'],\n",
       "      dtype='object')"
      ]
     },
     "execution_count": 58,
     "metadata": {},
     "output_type": "execute_result"
    }
   ],
   "source": [
    "hh_merge.columns"
   ]
  },
  {
   "cell_type": "code",
   "execution_count": 59,
   "metadata": {},
   "outputs": [],
   "source": [
    "#Car ownership - Dependent varible\n",
    "hh_merge['cars'] = hh_merge.VEHICL.where(hh_merge.VEHICL < 4, 4)"
   ]
  },
  {
   "cell_type": "code",
   "execution_count": 60,
   "metadata": {},
   "outputs": [],
   "source": [
    "#Household-based variables \n",
    "hh_merge['num_drivers_2'] = hh_merge.num_drivers == 2\n",
    "hh_merge['num_drivers_3'] = hh_merge.num_drivers == 3\n",
    "hh_merge['num_drivers_4+'] = hh_merge.num_drivers > 3\n",
    "hh_merge['children_0_4'] = hh_merge.num_young_children > 0\n",
    "hh_merge['children_5_17'] = (hh_merge.num_children_5_to_15 + hh_merge.num_children_16_to_17)>0\n",
    "hh_merge['num_workes_3'] = hh_merge.num_workers.clip(upper = 3)\n",
    "hh_merge['income_30'] = hh_merge.income_in_thousands.clip(0,30)\n",
    "hh_merge['income_75'] = (hh_merge.income_in_thousands-30).clip(0,45)\n",
    "hh_merge['income_125'] = (hh_merge.income_in_thousands-75).clip(0,50)"
   ]
  },
  {
   "cell_type": "code",
   "execution_count": 61,
   "metadata": {},
   "outputs": [],
   "source": [
    "#Household and land_use-based variables \n",
    "hh_merge['density_10_0w'] = (hh_merge.num_workers == 0)*(hh_merge.density_index.clip(0,10))\n",
    "hh_merge['density_+10_0w'] = (hh_merge.num_workers == 0)*(hh_merge.density_index-10).clip(0)\n",
    "hh_merge['density_10_+1w'] = (hh_merge.num_workers > 0)*(hh_merge.density_index.clip(0,10))\n",
    "hh_merge['density_+10_+1w'] = (hh_merge.num_workers > 0)*(hh_merge.density_index-10).clip(0)\n",
    "hh_merge['constant'] = 1"
   ]
  },
  {
   "cell_type": "code",
   "execution_count": 172,
   "metadata": {},
   "outputs": [],
   "source": [
    "#Accessibility_based variables\n",
    "hh_merge['retail_0w_auto'] = (hh_merge.num_workers == 0)*(0.66*hh_merge.auPkRetail + 0.34*hh_merge.auOpRetail)\n",
    "hh_merge['retail_+1w_auto'] = (hh_merge.num_workers > 0)*(0.66*hh_merge.auPkRetail + 0.34*hh_merge.auOpRetail)\n",
    "hh_merge['retail_0w_transit'] = (hh_merge.num_workers == 0)*(0.66*hh_merge.trPkRetail + 0.34*hh_merge.trOpRetail)\n",
    "hh_merge['retail_+1w_transit'] = (hh_merge.num_workers > 0)*(0.66*hh_merge.trPkRetail + 0.34*hh_merge.trOpRetail)\n",
    "hh_merge['retail_0w_nm'] = (hh_merge.num_workers == 0)*hh_merge.nmRetail\n",
    "hh_merge['retail_+1w_nm'] = (hh_merge.num_workers > 0)*hh_merge.nmRetail\n",
    "hh_merge['auto_saving_work'] = np.where(hh_merge.num_workers > 0, \n",
    "                                  hh_merge.hh_work_auto_savings_ratio/hh_merge.num_workers, \n",
    "                                  0)"
   ]
  },
  {
   "cell_type": "code",
   "execution_count": 177,
   "metadata": {},
   "outputs": [],
   "source": [
    "variables = ['constant',\n",
    "             'num_drivers_2', 'num_drivers_3', 'num_drivers_4+', 'num_children_16_to_17',\n",
    "             'num_college_age', 'num_young_adults', 'children_0_4', 'children_5_17',\n",
    "             'num_workes_3', 'income_30', 'income_75', 'income_125', 'density_10_0w',\n",
    "#              'density_+10_0w', \n",
    "             'density_10_+1w', \n",
    "#              'density_+10_+1w',\n",
    "             'retail_0w_auto','retail_+1w_auto', \n",
    "#              'retail_0w_transit','retail_+1w_transit', \n",
    "             'retail_0w_nm', \n",
    "             'retail_+1w_nm',\n",
    "#              'auto_saving_work', \n",
    "             'cars'\n",
    "            ]"
   ]
  },
  {
   "cell_type": "markdown",
   "metadata": {},
   "source": [
    "# Train and test set"
   ]
  },
  {
   "cell_type": "code",
   "execution_count": 294,
   "metadata": {},
   "outputs": [],
   "source": [
    "#Splitting the data\n",
    "df = hh_merge[variables].astype(float)\n",
    "x = df.drop(['cars'], axis = 1)\n",
    "y = df.loc[:,'cars']\n",
    "X_train, X_test, y_train, y_test = train_test_split(x, y, test_size=0.33, random_state= 2348)"
   ]
  },
  {
   "cell_type": "markdown",
   "metadata": {},
   "source": [
    "## Multinomial Model "
   ]
  },
  {
   "cell_type": "code",
   "execution_count": 183,
   "metadata": {},
   "outputs": [
    {
     "name": "stdout",
     "output_type": "stream",
     "text": [
      "Optimization terminated successfully.\n",
      "         Current function value: 0.902357\n",
      "         Iterations 8\n"
     ]
    },
    {
     "data": {
      "text/plain": [
       "<bound method Summary.add_table_params of <class 'statsmodels.iolib.summary.Summary'>\n",
       "\"\"\"\n",
       "                          MNLogit Regression Results                          \n",
       "==============================================================================\n",
       "Dep. Variable:                   cars   No. Observations:                 6700\n",
       "Model:                        MNLogit   Df Residuals:                     6624\n",
       "Method:                           MLE   Df Model:                           72\n",
       "Date:                Thu, 28 May 2020   Pseudo R-squ.:                  0.2815\n",
       "Time:                        00:16:41   Log-Likelihood:                -6045.8\n",
       "converged:                       True   LL-Null:                       -8414.7\n",
       "Covariance Type:            nonrobust   LLR p-value:                     0.000\n",
       "=========================================================================================\n",
       "               cars=1       coef    std err          z      P>|z|      [0.025      0.975]\n",
       "-----------------------------------------------------------------------------------------\n",
       "constant                  3.0662      1.035      2.961      0.003       1.037       5.096\n",
       "num_drivers_2            -1.0223      0.175     -5.829      0.000      -1.366      -0.679\n",
       "num_drivers_3            -1.7141      0.360     -4.758      0.000      -2.420      -1.008\n",
       "num_drivers_4+           -1.2147      0.578     -2.103      0.035      -2.347      -0.083\n",
       "num_children_16_to_17     0.3536      0.426      0.830      0.407      -0.482       1.189\n",
       "num_college_age           0.5699      0.150      3.809      0.000       0.277       0.863\n",
       "num_young_adults          0.0812      0.125      0.650      0.516      -0.164       0.326\n",
       "children_0_4              0.1200      0.263      0.456      0.648      -0.395       0.636\n",
       "children_5_17             0.1390      0.224      0.620      0.535      -0.300       0.578\n",
       "num_workes_3             -0.4259      0.217     -1.963      0.050      -0.851      -0.001\n",
       "income_30                 0.0625      0.009      7.070      0.000       0.045       0.080\n",
       "income_75                 0.0146      0.007      1.980      0.048       0.000       0.029\n",
       "income_125               -0.0036      0.009     -0.409      0.682      -0.021       0.014\n",
       "density_10_0w             0.0504      0.054      0.933      0.351      -0.055       0.156\n",
       "density_10_+1w            0.0057      0.040      0.144      0.885      -0.072       0.083\n",
       "retail_0w_auto           -0.2063      0.124     -1.670      0.095      -0.448       0.036\n",
       "retail_+1w_auto          -0.0732      0.120     -0.611      0.541      -0.308       0.161\n",
       "retail_0w_nm             -0.1793      0.073     -2.456      0.014      -0.322      -0.036\n",
       "retail_+1w_nm            -0.2624      0.060     -4.365      0.000      -0.380      -0.145\n",
       "-----------------------------------------------------------------------------------------\n",
       "               cars=2       coef    std err          z      P>|z|      [0.025      0.975]\n",
       "-----------------------------------------------------------------------------------------\n",
       "constant                  2.1215      1.061      1.999      0.046       0.041       4.202\n",
       "num_drivers_2             1.3281      0.181      7.330      0.000       0.973       1.683\n",
       "num_drivers_3             0.6149      0.354      1.739      0.082      -0.078       1.308\n",
       "num_drivers_4+            0.6097      0.574      1.061      0.289      -0.516       1.736\n",
       "num_children_16_to_17    -0.0340      0.421     -0.081      0.936      -0.859       0.791\n",
       "num_college_age           0.4015      0.151      2.656      0.008       0.105       0.698\n",
       "num_young_adults         -0.1826      0.125     -1.463      0.143      -0.427       0.062\n",
       "children_0_4              0.3411      0.264      1.292      0.196      -0.176       0.858\n",
       "children_5_17             0.2337      0.227      1.029      0.303      -0.211       0.679\n",
       "num_workes_3              0.4054      0.211      1.921      0.055      -0.008       0.819\n",
       "income_30                 0.0591      0.010      5.993      0.000       0.040       0.078\n",
       "income_75                 0.0306      0.007      4.113      0.000       0.016       0.045\n",
       "income_125                0.0100      0.009      1.145      0.252      -0.007       0.027\n",
       "density_10_0w             0.0353      0.066      0.536      0.592      -0.094       0.164\n",
       "density_10_+1w           -0.0146      0.041     -0.355      0.723      -0.095       0.066\n",
       "retail_0w_auto           -0.3376      0.127     -2.667      0.008      -0.586      -0.089\n",
       "retail_+1w_auto          -0.2427      0.122     -1.988      0.047      -0.482      -0.003\n",
       "retail_0w_nm             -0.1545      0.084     -1.843      0.065      -0.319       0.010\n",
       "retail_+1w_nm            -0.3077      0.061     -5.033      0.000      -0.427      -0.188\n",
       "-----------------------------------------------------------------------------------------\n",
       "               cars=3       coef    std err          z      P>|z|      [0.025      0.975]\n",
       "-----------------------------------------------------------------------------------------\n",
       "constant                  1.8886      1.141      1.655      0.098      -0.348       4.126\n",
       "num_drivers_2             1.4565      0.251      5.808      0.000       0.965       1.948\n",
       "num_drivers_3             2.7704      0.395      7.019      0.000       1.997       3.544\n",
       "num_drivers_4+            2.8807      0.606      4.755      0.000       1.693       4.068\n",
       "num_children_16_to_17    -0.2606      0.434     -0.600      0.548      -1.112       0.590\n",
       "num_college_age           0.3491      0.159      2.190      0.029       0.037       0.662\n",
       "num_young_adults         -0.3278      0.135     -2.426      0.015      -0.593      -0.063\n",
       "children_0_4              0.3806      0.283      1.347      0.178      -0.173       0.935\n",
       "children_5_17            -0.0435      0.245     -0.178      0.859      -0.523       0.436\n",
       "num_workes_3              0.6988      0.219      3.189      0.001       0.269       1.128\n",
       "income_30                 0.0259      0.014      1.875      0.061      -0.001       0.053\n",
       "income_75                 0.0452      0.008      5.495      0.000       0.029       0.061\n",
       "income_125                0.0141      0.009      1.572      0.116      -0.003       0.032\n",
       "density_10_0w             0.0593      0.115      0.513      0.608      -0.167       0.286\n",
       "density_10_+1w           -0.0424      0.050     -0.851      0.395      -0.140       0.055\n",
       "retail_0w_auto           -0.4984      0.135     -3.680      0.000      -0.764      -0.233\n",
       "retail_+1w_auto          -0.4221      0.129     -3.276      0.001      -0.675      -0.170\n",
       "retail_0w_nm             -0.1987      0.132     -1.502      0.133      -0.458       0.061\n",
       "retail_+1w_nm            -0.3356      0.067     -4.994      0.000      -0.467      -0.204\n",
       "-----------------------------------------------------------------------------------------\n",
       "               cars=4       coef    std err          z      P>|z|      [0.025      0.975]\n",
       "-----------------------------------------------------------------------------------------\n",
       "constant                  2.3258      1.290      1.803      0.071      -0.203       4.854\n",
       "num_drivers_2             0.8820      0.340      2.598      0.009       0.217       1.547\n",
       "num_drivers_3             2.4191      0.462      5.235      0.000       1.513       3.325\n",
       "num_drivers_4+            3.8648      0.650      5.947      0.000       2.591       5.139\n",
       "num_children_16_to_17    -0.6395      0.457     -1.399      0.162      -1.536       0.257\n",
       "num_college_age           0.4845      0.162      2.999      0.003       0.168       0.801\n",
       "num_young_adults         -0.2348      0.154     -1.524      0.127      -0.537       0.067\n",
       "children_0_4              0.1015      0.325      0.312      0.755      -0.536       0.739\n",
       "children_5_17             0.3329      0.276      1.207      0.227      -0.208       0.873\n",
       "num_workes_3              0.4437      0.234      1.900      0.057      -0.014       0.902\n",
       "income_30                 0.0603      0.021      2.810      0.005       0.018       0.102\n",
       "income_75                 0.0345      0.010      3.487      0.000       0.015       0.054\n",
       "income_125                0.0303      0.010      3.166      0.002       0.012       0.049\n",
       "density_10_0w             0.0073      0.173      0.042      0.967      -0.333       0.347\n",
       "density_10_+1w           -0.0762      0.067     -1.135      0.257      -0.208       0.055\n",
       "retail_0w_auto           -0.7432      0.150     -4.954      0.000      -1.037      -0.449\n",
       "retail_+1w_auto          -0.6707      0.140     -4.788      0.000      -0.945      -0.396\n",
       "retail_0w_nm             -0.0770      0.190     -0.405      0.685      -0.449       0.295\n",
       "retail_+1w_nm            -0.2650      0.080     -3.311      0.001      -0.422      -0.108\n",
       "=========================================================================================\n",
       "\"\"\">"
      ]
     },
     "execution_count": 183,
     "metadata": {},
     "output_type": "execute_result"
    }
   ],
   "source": [
    "model = MNLogit(y_train, X_train)\n",
    "result = model.fit()\n",
    "result.summary().add_table_params"
   ]
  },
  {
   "cell_type": "code",
   "execution_count": 291,
   "metadata": {},
   "outputs": [
    {
     "name": "stdout",
     "output_type": "stream",
     "text": [
      "accuracy:  25.11940298507463\n"
     ]
    },
    {
     "data": {
      "text/html": [
       "<div>\n",
       "<style scoped>\n",
       "    .dataframe tbody tr th:only-of-type {\n",
       "        vertical-align: middle;\n",
       "    }\n",
       "\n",
       "    .dataframe tbody tr th {\n",
       "        vertical-align: top;\n",
       "    }\n",
       "\n",
       "    .dataframe thead th {\n",
       "        text-align: right;\n",
       "    }\n",
       "</style>\n",
       "<table border=\"1\" class=\"dataframe\">\n",
       "  <thead>\n",
       "    <tr style=\"text-align: right;\">\n",
       "      <th>col_0</th>\n",
       "      <th>0</th>\n",
       "      <th>1</th>\n",
       "      <th>2</th>\n",
       "      <th>3</th>\n",
       "      <th>4</th>\n",
       "    </tr>\n",
       "    <tr>\n",
       "      <th>cars</th>\n",
       "      <th></th>\n",
       "      <th></th>\n",
       "      <th></th>\n",
       "      <th></th>\n",
       "      <th></th>\n",
       "    </tr>\n",
       "  </thead>\n",
       "  <tbody>\n",
       "    <tr>\n",
       "      <th>0.0</th>\n",
       "      <td>13</td>\n",
       "      <td>58</td>\n",
       "      <td>24</td>\n",
       "      <td>8</td>\n",
       "      <td>2</td>\n",
       "    </tr>\n",
       "    <tr>\n",
       "      <th>1.0</th>\n",
       "      <td>66</td>\n",
       "      <td>678</td>\n",
       "      <td>326</td>\n",
       "      <td>69</td>\n",
       "      <td>22</td>\n",
       "    </tr>\n",
       "    <tr>\n",
       "      <th>2.0</th>\n",
       "      <td>35</td>\n",
       "      <td>322</td>\n",
       "      <td>842</td>\n",
       "      <td>189</td>\n",
       "      <td>64</td>\n",
       "    </tr>\n",
       "    <tr>\n",
       "      <th>3.0</th>\n",
       "      <td>4</td>\n",
       "      <td>48</td>\n",
       "      <td>194</td>\n",
       "      <td>124</td>\n",
       "      <td>46</td>\n",
       "    </tr>\n",
       "    <tr>\n",
       "      <th>4.0</th>\n",
       "      <td>2</td>\n",
       "      <td>16</td>\n",
       "      <td>71</td>\n",
       "      <td>51</td>\n",
       "      <td>26</td>\n",
       "    </tr>\n",
       "  </tbody>\n",
       "</table>\n",
       "</div>"
      ],
      "text/plain": [
       "col_0   0    1    2    3   4\n",
       "cars                        \n",
       "0.0    13   58   24    8   2\n",
       "1.0    66  678  326   69  22\n",
       "2.0    35  322  842  189  64\n",
       "3.0     4   48  194  124  46\n",
       "4.0     2   16   71   51  26"
      ]
     },
     "execution_count": 291,
     "metadata": {},
     "output_type": "execute_result"
    }
   ],
   "source": [
    "probs = result.predict(X_test)\n",
    "choices = simulation(probs)\n",
    "\n",
    "#Cross tab\n",
    "cross_tab = pd.crosstab( y_test, choices).round(decimals=3)\n",
    "accuracy = np.sum(np.diagonal(np.array(cross_tab)))/y_train.shape[0]\n",
    "print('accuracy: ',accuracy*100)\n",
    "cross_tab"
   ]
  },
  {
   "cell_type": "code",
   "execution_count": 292,
   "metadata": {},
   "outputs": [
    {
     "name": "stdout",
     "output_type": "stream",
     "text": [
      "5999\n",
      "2    1457\n",
      "1    1122\n",
      "3     441\n",
      "4     160\n",
      "0     120\n",
      "dtype: int64\n"
     ]
    }
   ],
   "source": [
    "print (choices.sum())\n",
    "print (choices.value_counts())"
   ]
  },
  {
   "cell_type": "code",
   "execution_count": 293,
   "metadata": {},
   "outputs": [
    {
     "name": "stdout",
     "output_type": "stream",
     "text": [
      "5977.0\n",
      "2.0    1452\n",
      "1.0    1161\n",
      "3.0     416\n",
      "4.0     166\n",
      "0.0     105\n",
      "Name: cars, dtype: int64\n"
     ]
    }
   ],
   "source": [
    "print (y_test.sum())\n",
    "print (y_test.value_counts())"
   ]
  },
  {
   "cell_type": "markdown",
   "metadata": {},
   "source": [
    "# Machine learning approach "
   ]
  },
  {
   "cell_type": "code",
   "execution_count": 307,
   "metadata": {},
   "outputs": [],
   "source": [
    "variables = ['hhsize','income', 'race_of_head', 'age_of_head',\n",
    "       'num_workers', 'children', 'tenure', 'recent_mover', \n",
    "       'HHT', 'income_in_thousands', 'income_segment',\n",
    "       'median_value_of_time', 'hh_value_of_time', 'num_non_workers',\n",
    "       'num_drivers', 'num_adults', 'num_children', 'num_young_children',\n",
    "       'num_children_5_to_15', 'num_children_16_to_17', 'num_college_age',\n",
    "       'num_young_adults', 'non_family', 'family', 'home_is_urban',\n",
    "       'home_is_rural', 'hh_work_auto_savings_ratio',\n",
    "       'num_under16_not_at_school', 'num_travel_active',\n",
    "       'num_travel_active_adults', 'num_travel_active_preschoolers',\n",
    "       'num_travel_active_children', 'num_travel_active_non_preschoolers',\n",
    "       'auPkRetail', 'auPkTotal', 'auOpRetail',\n",
    "       'auOpTotal', 'trPkRetail', 'trPkTotal', 'trOpRetail', 'trOpTotal',\n",
    "       'nmRetail', 'nmTotal', 'TOTHH', 'HHPOP',\n",
    "       'EMPRES', 'HHINCQ1', 'HHINCQ2', 'HHINCQ3', 'HHINCQ4', 'AGE0004',\n",
    "       'AGE0519', 'AGE2044', 'AGE4564', 'AGE65P', 'AGE62P', 'SHPOP62P',\n",
    "       'TOTEMP', 'RETEMPN', 'FPSEMPN', 'HEREMPN', 'AGREMPN', 'MWTEMPN',\n",
    "       'OTHEMPN', 'TOTACRE', 'RESACRE', 'CIACRE', 'HSENROLL', 'TOPOLOGY',\n",
    "       'employment_density', 'pop_density', 'hh_density', 'hq1_density',\n",
    "       'PRKCST', 'OPRKCST', 'COLLFTE', 'COLLPTE', 'area_type', 'household_density', 'density_index', 'cars']"
   ]
  },
  {
   "cell_type": "code",
   "execution_count": 339,
   "metadata": {},
   "outputs": [],
   "source": [
    "variables = ['hhsize','income', 'race_of_head', 'age_of_head',\n",
    "       'num_workers', 'children', 'tenure', 'recent_mover', \n",
    "       'HHT', 'income_in_thousands', 'income_segment',\n",
    "       'median_value_of_time', 'hh_value_of_time', 'num_non_workers',\n",
    "       'num_drivers', 'num_adults', 'num_children', 'num_young_children',\n",
    "       'num_children_5_to_15', 'cars','auPkRetail', 'auPkTotal', 'auOpRetail',\n",
    "       'auOpTotal', 'trPkRetail', 'trPkTotal', 'trOpRetail', 'trOpTotal']"
   ]
  },
  {
   "cell_type": "code",
   "execution_count": 340,
   "metadata": {},
   "outputs": [],
   "source": [
    "#Splitting the data\n",
    "df = hh_merge[variables].astype(float)\n",
    "x = df.drop(['cars'], axis = 1)\n",
    "y = df.loc[:,'cars']\n",
    "X_train, X_test, y_train, y_test = train_test_split(x, y, test_size=0.33, random_state= 2348)"
   ]
  },
  {
   "cell_type": "code",
   "execution_count": 341,
   "metadata": {},
   "outputs": [],
   "source": [
    "from sklearn.ensemble import GradientBoostingClassifier"
   ]
  },
  {
   "cell_type": "code",
   "execution_count": 342,
   "metadata": {},
   "outputs": [
    {
     "data": {
      "text/plain": [
       "0.6575757575757576"
      ]
     },
     "execution_count": 342,
     "metadata": {},
     "output_type": "execute_result"
    }
   ],
   "source": [
    "model = GradientBoostingClassifier(max_depth=3, n_estimators=100)\n",
    "model.fit(X_train, y_train)\n",
    "importances = model.feature_importances_\n",
    "pd.crosstab( y_test, model.predict(X_test))\n",
    "model.score(X_test, y_test)"
   ]
  },
  {
   "cell_type": "code",
   "execution_count": 344,
   "metadata": {},
   "outputs": [
    {
     "data": {
      "text/plain": [
       "<matplotlib.axes._subplots.AxesSubplot at 0x7f6b4e60d490>"
      ]
     },
     "execution_count": 344,
     "metadata": {},
     "output_type": "execute_result"
    },
    {
     "data": {
      "image/png": "[encoded data removed]",
      "text/plain": [
       "<Figure size 432x288 with 1 Axes>"
      ]
     },
     "metadata": {
      "needs_background": "light"
     },
     "output_type": "display_data"
    }
   ],
   "source": [
    "bb = pd.DataFrame({'importances':model.feature_importances_,\n",
    "                   'variables':X_train.columns}).sort_values(by = 'importances', ascending= True)\n",
    "\n",
    "bb[-20:].plot.barh(x = 'variables', y='importances', color ='lightsteelblue')#, figsize =(15,5) )\n",
    "# plt.yticks();#(fontsize = 10)"
   ]
  },
  {
   "cell_type": "code",
   "execution_count": 345,
   "metadata": {},
   "outputs": [
    {
     "data": {
      "text/html": [
       "<div>\n",
       "<style scoped>\n",
       "    .dataframe tbody tr th:only-of-type {\n",
       "        vertical-align: middle;\n",
       "    }\n",
       "\n",
       "    .dataframe tbody tr th {\n",
       "        vertical-align: top;\n",
       "    }\n",
       "\n",
       "    .dataframe thead th {\n",
       "        text-align: right;\n",
       "    }\n",
       "</style>\n",
       "<table border=\"1\" class=\"dataframe\">\n",
       "  <thead>\n",
       "    <tr style=\"text-align: right;\">\n",
       "      <th>col_0</th>\n",
       "      <th>0.0</th>\n",
       "      <th>1.0</th>\n",
       "      <th>2.0</th>\n",
       "      <th>3.0</th>\n",
       "      <th>4.0</th>\n",
       "    </tr>\n",
       "    <tr>\n",
       "      <th>cars</th>\n",
       "      <th></th>\n",
       "      <th></th>\n",
       "      <th></th>\n",
       "      <th></th>\n",
       "      <th></th>\n",
       "    </tr>\n",
       "  </thead>\n",
       "  <tbody>\n",
       "    <tr>\n",
       "      <th>0.0</th>\n",
       "      <td>18</td>\n",
       "      <td>68</td>\n",
       "      <td>18</td>\n",
       "      <td>0</td>\n",
       "      <td>1</td>\n",
       "    </tr>\n",
       "    <tr>\n",
       "      <th>1.0</th>\n",
       "      <td>24</td>\n",
       "      <td>849</td>\n",
       "      <td>258</td>\n",
       "      <td>25</td>\n",
       "      <td>5</td>\n",
       "    </tr>\n",
       "    <tr>\n",
       "      <th>2.0</th>\n",
       "      <td>5</td>\n",
       "      <td>227</td>\n",
       "      <td>1125</td>\n",
       "      <td>82</td>\n",
       "      <td>13</td>\n",
       "    </tr>\n",
       "    <tr>\n",
       "      <th>3.0</th>\n",
       "      <td>0</td>\n",
       "      <td>22</td>\n",
       "      <td>224</td>\n",
       "      <td>144</td>\n",
       "      <td>26</td>\n",
       "    </tr>\n",
       "    <tr>\n",
       "      <th>4.0</th>\n",
       "      <td>1</td>\n",
       "      <td>7</td>\n",
       "      <td>68</td>\n",
       "      <td>56</td>\n",
       "      <td>34</td>\n",
       "    </tr>\n",
       "  </tbody>\n",
       "</table>\n",
       "</div>"
      ],
      "text/plain": [
       "col_0  0.0  1.0   2.0  3.0  4.0\n",
       "cars                           \n",
       "0.0     18   68    18    0    1\n",
       "1.0     24  849   258   25    5\n",
       "2.0      5  227  1125   82   13\n",
       "3.0      0   22   224  144   26\n",
       "4.0      1    7    68   56   34"
      ]
     },
     "execution_count": 345,
     "metadata": {},
     "output_type": "execute_result"
    }
   ],
   "source": [
    "pd.crosstab( y_test, model.predict(X_test))"
   ]
  },
  {
   "cell_type": "code",
   "execution_count": 372,
   "metadata": {},
   "outputs": [
    {
     "data": {
      "text/plain": [
       "5796.0"
      ]
     },
     "execution_count": 372,
     "metadata": {},
     "output_type": "execute_result"
    }
   ],
   "source": [
    "model.predict(X_test).sum()"
   ]
  },
  {
   "cell_type": "code",
   "execution_count": 349,
   "metadata": {},
   "outputs": [],
   "source": [
    "probs = model.predict_proba(X_test)"
   ]
  },
  {
   "cell_type": "code",
   "execution_count": 353,
   "metadata": {},
   "outputs": [],
   "source": [
    "probs = pd.DataFrame(probs)"
   ]
  },
  {
   "cell_type": "code",
   "execution_count": 369,
   "metadata": {},
   "outputs": [
    {
     "name": "stdout",
     "output_type": "stream",
     "text": [
      "accuracy:  53.81818181818182\n"
     ]
    },
    {
     "data": {
      "text/html": [
       "<div>\n",
       "<style scoped>\n",
       "    .dataframe tbody tr th:only-of-type {\n",
       "        vertical-align: middle;\n",
       "    }\n",
       "\n",
       "    .dataframe tbody tr th {\n",
       "        vertical-align: top;\n",
       "    }\n",
       "\n",
       "    .dataframe thead th {\n",
       "        text-align: right;\n",
       "    }\n",
       "</style>\n",
       "<table border=\"1\" class=\"dataframe\">\n",
       "  <thead>\n",
       "    <tr style=\"text-align: right;\">\n",
       "      <th>col_0</th>\n",
       "      <th>0</th>\n",
       "      <th>1</th>\n",
       "      <th>2</th>\n",
       "      <th>3</th>\n",
       "      <th>4</th>\n",
       "    </tr>\n",
       "    <tr>\n",
       "      <th>row_0</th>\n",
       "      <th></th>\n",
       "      <th></th>\n",
       "      <th></th>\n",
       "      <th></th>\n",
       "      <th></th>\n",
       "    </tr>\n",
       "  </thead>\n",
       "  <tbody>\n",
       "    <tr>\n",
       "      <th>0.0</th>\n",
       "      <td>26</td>\n",
       "      <td>55</td>\n",
       "      <td>18</td>\n",
       "      <td>6</td>\n",
       "      <td>0</td>\n",
       "    </tr>\n",
       "    <tr>\n",
       "      <th>1.0</th>\n",
       "      <td>55</td>\n",
       "      <td>716</td>\n",
       "      <td>304</td>\n",
       "      <td>59</td>\n",
       "      <td>27</td>\n",
       "    </tr>\n",
       "    <tr>\n",
       "      <th>2.0</th>\n",
       "      <td>27</td>\n",
       "      <td>302</td>\n",
       "      <td>873</td>\n",
       "      <td>198</td>\n",
       "      <td>52</td>\n",
       "    </tr>\n",
       "    <tr>\n",
       "      <th>3.0</th>\n",
       "      <td>7</td>\n",
       "      <td>50</td>\n",
       "      <td>182</td>\n",
       "      <td>129</td>\n",
       "      <td>48</td>\n",
       "    </tr>\n",
       "    <tr>\n",
       "      <th>4.0</th>\n",
       "      <td>1</td>\n",
       "      <td>15</td>\n",
       "      <td>64</td>\n",
       "      <td>54</td>\n",
       "      <td>32</td>\n",
       "    </tr>\n",
       "  </tbody>\n",
       "</table>\n",
       "</div>"
      ],
      "text/plain": [
       "col_0   0    1    2    3   4\n",
       "row_0                       \n",
       "0.0    26   55   18    6   0\n",
       "1.0    55  716  304   59  27\n",
       "2.0    27  302  873  198  52\n",
       "3.0     7   50  182  129  48\n",
       "4.0     1   15   64   54  32"
      ]
     },
     "execution_count": 369,
     "metadata": {},
     "output_type": "execute_result"
    }
   ],
   "source": [
    "choices = simulation(probs)\n",
    "\n",
    "#Cross tab\n",
    "cross_tab = pd.crosstab(pd.Series(y_test.values), pd.Series(choices.values))\n",
    "accuracy = np.sum(np.diagonal(np.array(cross_tab)))/y_test.shape[0]\n",
    "print('accuracy: ',accuracy*100)\n",
    "cross_tab"
   ]
  },
  {
   "cell_type": "code",
   "execution_count": 370,
   "metadata": {},
   "outputs": [
    {
     "name": "stdout",
     "output_type": "stream",
     "text": [
      "5994\n",
      "2    1441\n",
      "1    1138\n",
      "3     446\n",
      "4     159\n",
      "0     116\n",
      "dtype: int64\n"
     ]
    }
   ],
   "source": [
    "print (choices.sum())\n",
    "print (choices.value_counts())"
   ]
  },
  {
   "cell_type": "code",
   "execution_count": 371,
   "metadata": {},
   "outputs": [
    {
     "name": "stdout",
     "output_type": "stream",
     "text": [
      "5977.0\n",
      "2.0    1452\n",
      "1.0    1161\n",
      "3.0     416\n",
      "4.0     166\n",
      "0.0     105\n",
      "Name: cars, dtype: int64\n"
     ]
    }
   ],
   "source": [
    "print (y_test.sum())\n",
    "print (y_test.value_counts())"
   ]
  },
  {
   "cell_type": "code",
   "execution_count": null,
   "metadata": {},
   "outputs": [],
   "source": []
  }
 ],
 "metadata": {
  "kernelspec": {
   "display_name": "Python 3",
   "language": "python",
   "name": "python3"
  },
  "language_info": {
   "codemirror_mode": {
    "name": "ipython",
    "version": 3
   },
   "file_extension": ".py",
   "mimetype": "text/x-python",
   "name": "python",
   "nbconvert_exporter": "python",
   "pygments_lexer": "ipython3",
   "version": "3.7.7"
  }
 },
 "nbformat": 4,
 "nbformat_minor": 4
}
