{
 "cells": [
  {
   "cell_type": "code",
   "execution_count": 1,
   "metadata": {},
   "outputs": [],
   "source": [
    "import numpy as np \n",
    "import pandas as pd \n",
    "import time\n",
    "import orca \n",
    "import matplotlib.pyplot as plt\n",
    "import seaborn as sns\n",
    "\n",
    "from sklearn.model_selection import KFold, train_test_split\n",
    "from statsmodels.discrete.discrete_model import MNLogit"
   ]
  },
  {
   "cell_type": "code",
   "execution_count": 2,
   "metadata": {},
   "outputs": [
    {
     "name": "stdout",
     "output_type": "stream",
     "text": [
      "Number of Households:  10000\n",
      "Number of Persons:  24932\n",
      "Number of tours:  31951\n",
      "Number of trips:  81773\n"
     ]
    }
   ],
   "source": [
    "hdf = pd.HDFStore('output/pipeline.h5')\n",
    "pp = hdf['/persons/trip_mode_choice']\n",
    "hh = hdf['/households/trip_mode_choice']\n",
    "tours = hdf['/tours/trip_mode_choice']\n",
    "trips = hdf['/trips/trip_mode_choice']\n",
    "acc = hdf['/accessibility/trip_mode_choice']\n",
    "lu = hdf['/land_use/trip_mode_choice']\n",
    "\n",
    "print ('Number of Households: ',hh.shape[0])\n",
    "print ('Number of Persons: ',pp.shape[0])\n",
    "print ('Number of tours: ',tours.shape[0])\n",
    "print ('Number of trips: ',trips.shape[0])"
   ]
  },
  {
   "cell_type": "code",
   "execution_count": 3,
   "metadata": {},
   "outputs": [],
   "source": [
    "def simulation(probs):\n",
    "    rands = np.random.rand(len(probs),1,)\n",
    "    probs_arr = probs.values.cumsum(axis=1) - rands\n",
    "    choices = np.argmax(probs_arr > 0.0, axis=1)\n",
    "    choices = pd.Series(choices, index=probs.index)\n",
    "    return choices"
   ]
  },
  {
   "cell_type": "code",
   "execution_count": 4,
   "metadata": {},
   "outputs": [],
   "source": [
    "def car_ownership_validation(hh):\n",
    "    ''' Validation tool for car ownership model\n",
    "    Input: Dataframe with columns VEHCL: Real number of vehicles, \n",
    "           and 'auto_ownership': predicted household car ownership. \n",
    "    Output: Plots of carownership by TAZ. \n",
    "    '''\n",
    "    # Auto ownership by TAZ \n",
    "    hh['0'] = hh['auto_ownership'] == 0\n",
    "    hh['1'] = hh['auto_ownership'] == 1\n",
    "    hh['2'] = hh['auto_ownership'] == 2\n",
    "    hh['3'] = hh['auto_ownership'] == 3\n",
    "    hh['4'] = hh['auto_ownership'] == 4\n",
    "\n",
    "    auto_asim = hh.groupby('TAZ').agg({'0': 'sum','1': 'sum','2': 'sum','3': 'sum','4': 'sum' })\n",
    "    auto_asim.reset_index(inplace = True)\n",
    "\n",
    "    auto_asim = pd.melt(auto_asim, id_vars=['TAZ'], value_vars=['0', '1', '2', '3', '4'])\n",
    "    \n",
    "    #VEHCL by TAZ \n",
    "    hh['0'] = hh['VEHICL'] == 0\n",
    "    hh['1'] = hh['VEHICL'] == 1\n",
    "    hh['2'] = hh['VEHICL'] == 2\n",
    "    hh['3'] = hh['VEHICL'] == 3\n",
    "    hh['4'] = hh['VEHICL'] >= 4\n",
    "\n",
    "    auto_tm1 = hh.groupby('TAZ').agg({'0': 'sum','1': 'sum','2': 'sum','3': 'sum','4': 'sum', })\n",
    "    auto_tm1.reset_index(inplace = True)\n",
    "\n",
    "    auto_tm1 = pd.melt(auto_tm1, id_vars=['TAZ'], value_vars=['0', '1', '2', '3', '4'])\n",
    "    \n",
    "    # Merge ativitysim and validation results in one table\n",
    "    auto = auto_asim.merge(auto_tm1, how = 'inner', on = ['TAZ', 'variable'], suffixes=('_asim', '_tm1'))\n",
    "    auto.columns = ['TAZ', 'Auto ownership', 'ActivitySim', 'MTC']\n",
    "    \n",
    "    #Plot\n",
    "    g = sns.lmplot('MTC','ActivitySim', auto,col = 'Auto ownership',sharex = False,sharey = False,\n",
    "               markers='o', height=5, aspect=0.8, x_jitter=.1, col_wrap=3,\n",
    "              scatter_kws={\"s\": 20, \"edgecolor\": 'k', \"alpha\": 0.5})\n",
    "\n",
    "    g.fig.suptitle(\"TAZ-to-TAZ Car ownerwhip \\n MTC vs ActivitySim\", y=1.05, fontsize = 15);"
   ]
  },
  {
   "cell_type": "code",
   "execution_count": 174,
   "metadata": {},
   "outputs": [],
   "source": [
    "def add_simulation_vars(households, accessibilities, land_use):\n",
    "    \n",
    "    #Merge accesibilities and land use variables \n",
    "    hh_merge = hh.merge(accessibilities, how = 'inner', left_on = 'TAZ', right_index = True).\\\n",
    "              merge(land_use, how = 'inner', left_on = 'TAZ', right_index = True)\n",
    "    \n",
    "    #Household-based variables \n",
    "    hh_merge['num_drivers_2'] = hh_merge.num_drivers == 2\n",
    "    hh_merge['num_drivers_3'] = hh_merge.num_drivers == 3\n",
    "    hh_merge['num_drivers_4+'] = hh_merge.num_drivers > 3\n",
    "    hh_merge['children_0_4'] = hh_merge.num_young_children > 0\n",
    "    hh_merge['children_5_17'] = (hh_merge.num_children_5_to_15 + hh_merge.num_children_16_to_17)>0\n",
    "    hh_merge['num_workes_3'] = hh_merge.num_workers.clip(upper = 3)\n",
    "    hh_merge['income_30'] = hh_merge.income_in_thousands.clip(0,30)\n",
    "    hh_merge['income_75'] = (hh_merge.income_in_thousands-30).clip(0,45)\n",
    "    hh_merge['income_125'] = (hh_merge.income_in_thousands-75).clip(0,50)\n",
    "    \n",
    "    #Household and land_use-based variables \n",
    "    hh_merge['density_10_0w'] = (hh_merge.num_workers == 0)*(hh_merge.density_index.clip(0,10))\n",
    "    hh_merge['density_+10_0w'] = (hh_merge.num_workers == 0)*(hh_merge.density_index-10).clip(0)\n",
    "    hh_merge['density_10_+1w'] = (hh_merge.num_workers > 0)*(hh_merge.density_index.clip(0,10))\n",
    "    hh_merge['density_+10_+1w'] = (hh_merge.num_workers > 0)*(hh_merge.density_index-10).clip(0)\n",
    "    hh_merge['constant'] = 1\n",
    "    \n",
    "    #Accessibility_based variables\n",
    "    hh_merge['retail_0w_auto'] = (hh_merge.num_workers == 0)*(0.66*hh_merge.auPkRetail + 0.34*hh_merge.auOpRetail)\n",
    "    hh_merge['retail_+1w_auto'] = (hh_merge.num_workers > 0)*(0.66*hh_merge.auPkRetail + 0.34*hh_merge.auOpRetail)\n",
    "    hh_merge['retail_0w_transit'] = (hh_merge.num_workers == 0)*(0.66*hh_merge.trPkRetail + 0.34*hh_merge.trOpRetail)\n",
    "    hh_merge['retail_+1w_transit'] = (hh_merge.num_workers > 0)*(0.66*hh_merge.trPkRetail + 0.34*hh_merge.trOpRetail)\n",
    "    hh_merge['retail_0w_nm'] = (hh_merge.num_workers == 0)*hh_merge.nmRetail\n",
    "    hh_merge['retail_+1w_nm'] = (hh_merge.num_workers > 0)*hh_merge.nmRetail\n",
    "    hh_merge['auto_saving_work'] = np.where(hh_merge.num_workers > 0, \n",
    "                                      hh_merge.hh_work_auto_savings_ratio/hh_merge.num_workers, \n",
    "                                      0)\n",
    "    \n",
    "    hh_merge['cars'] = hh_merge.VEHICL.where(hh_merge.VEHICL < 4, 4)\n",
    "    return hh_merge"
   ]
  },
  {
   "cell_type": "code",
   "execution_count": 178,
   "metadata": {},
   "outputs": [],
   "source": [
    "variables = ['constant',\n",
    "             'num_drivers_2', 'num_drivers_3', 'num_drivers_4+', 'num_children_16_to_17',\n",
    "             'num_college_age', 'num_young_adults', 'children_0_4', 'children_5_17',\n",
    "             'num_workes_3', 'income_30', 'income_75', 'income_125', 'density_10_0w',\n",
    "#              'density_+10_0w', \n",
    "             'density_10_+1w', \n",
    "#              'density_+10_+1w',\n",
    "             'retail_0w_auto','retail_+1w_auto', \n",
    "#              'retail_0w_transit','retail_+1w_transit', \n",
    "             'retail_0w_nm', \n",
    "             'retail_+1w_nm',\n",
    "#              'auto_saving_work', \n",
    "             'cars'\n",
    "            ]"
   ]
  },
  {
   "cell_type": "code",
   "execution_count": 179,
   "metadata": {},
   "outputs": [],
   "source": [
    "hh_merge = add_simulation_vars(hh, acc, lu) "
   ]
  },
  {
   "cell_type": "markdown",
   "metadata": {},
   "source": [
    "# Train and test set"
   ]
  },
  {
   "cell_type": "code",
   "execution_count": 180,
   "metadata": {},
   "outputs": [],
   "source": [
    "#Splitting the data\n",
    "df = hh_merge[variables].astype(float)\n",
    "x = df.drop(['cars'], axis = 1)\n",
    "y = df.loc[:,'cars']\n",
    "X_train, X_test, y_train, y_test = train_test_split(x, y, test_size=0.33, random_state= 2348)"
   ]
  },
  {
   "cell_type": "markdown",
   "metadata": {},
   "source": [
    "## Multinomial Model "
   ]
  },
  {
   "cell_type": "code",
   "execution_count": 181,
   "metadata": {},
   "outputs": [
    {
     "name": "stdout",
     "output_type": "stream",
     "text": [
      "Optimization terminated successfully.\n",
      "         Current function value: 0.897866\n",
      "         Iterations 8\n"
     ]
    },
    {
     "data": {
      "text/plain": [
       "<bound method Summary.add_table_params of <class 'statsmodels.iolib.summary.Summary'>\n",
       "\"\"\"\n",
       "                          MNLogit Regression Results                          \n",
       "==============================================================================\n",
       "Dep. Variable:                   cars   No. Observations:                 6700\n",
       "Model:                        MNLogit   Df Residuals:                     6624\n",
       "Method:                           MLE   Df Model:                           72\n",
       "Date:                Wed, 03 Jun 2020   Pseudo R-squ.:                  0.2821\n",
       "Time:                        01:50:50   Log-Likelihood:                -6015.7\n",
       "converged:                       True   LL-Null:                       -8379.8\n",
       "Covariance Type:            nonrobust   LLR p-value:                     0.000\n",
       "=========================================================================================\n",
       "               cars=1       coef    std err          z      P>|z|      [0.025      0.975]\n",
       "-----------------------------------------------------------------------------------------\n",
       "constant                  4.2694      1.095      3.899      0.000       2.123       6.415\n",
       "num_drivers_2            -1.0178      0.183     -5.550      0.000      -1.377      -0.658\n",
       "num_drivers_3            -1.7758      0.379     -4.683      0.000      -2.519      -1.033\n",
       "num_drivers_4+           -2.1275      0.536     -3.967      0.000      -3.179      -1.076\n",
       "num_children_16_to_17     0.8067      0.470      1.716      0.086      -0.115       1.728\n",
       "num_college_age           0.6246      0.152      4.111      0.000       0.327       0.922\n",
       "num_young_adults          0.3304      0.141      2.349      0.019       0.055       0.606\n",
       "children_0_4             -0.1706      0.270     -0.632      0.527      -0.699       0.358\n",
       "children_5_17             0.2815      0.242      1.163      0.245      -0.193       0.756\n",
       "num_workes_3             -0.3632      0.233     -1.559      0.119      -0.820       0.093\n",
       "income_30                 0.0567      0.009      6.273      0.000       0.039       0.074\n",
       "income_75                 0.0190      0.008      2.406      0.016       0.004       0.034\n",
       "income_125               -0.0052      0.009     -0.563      0.574      -0.023       0.013\n",
       "density_10_0w             0.0722      0.132      0.546      0.585      -0.187       0.331\n",
       "density_10_+1w           -0.0843      0.087     -0.971      0.332      -0.255       0.086\n",
       "retail_0w_auto           -0.3401      0.130     -2.613      0.009      -0.595      -0.085\n",
       "retail_+1w_auto          -0.2198      0.127     -1.730      0.084      -0.469       0.029\n",
       "retail_0w_nm             -0.1239      0.070     -1.770      0.077      -0.261       0.013\n",
       "retail_+1w_nm            -0.1627      0.061     -2.670      0.008      -0.282      -0.043\n",
       "-----------------------------------------------------------------------------------------\n",
       "               cars=2       coef    std err          z      P>|z|      [0.025      0.975]\n",
       "-----------------------------------------------------------------------------------------\n",
       "constant                  2.4333      1.121      2.170      0.030       0.235       4.631\n",
       "num_drivers_2             1.3715      0.188      7.276      0.000       1.002       1.741\n",
       "num_drivers_3             0.4755      0.375      1.268      0.205      -0.260       1.211\n",
       "num_drivers_4+           -0.3119      0.533     -0.585      0.558      -1.357       0.733\n",
       "num_children_16_to_17     0.3623      0.467      0.776      0.438      -0.553       1.278\n",
       "num_college_age           0.4331      0.154      2.816      0.005       0.132       0.735\n",
       "num_young_adults          0.0474      0.141      0.336      0.737      -0.229       0.324\n",
       "children_0_4              0.0522      0.272      0.192      0.848      -0.480       0.585\n",
       "children_5_17             0.3393      0.245      1.387      0.165      -0.140       0.819\n",
       "num_workes_3              0.4735      0.228      2.080      0.038       0.027       0.920\n",
       "income_30                 0.0530      0.010      5.299      0.000       0.033       0.073\n",
       "income_75                 0.0329      0.008      4.141      0.000       0.017       0.048\n",
       "income_125                0.0082      0.009      0.901      0.368      -0.010       0.026\n",
       "density_10_0w            -0.1411      0.185     -0.761      0.447      -0.505       0.222\n",
       "density_10_+1w           -0.0419      0.092     -0.457      0.647      -0.221       0.138\n",
       "retail_0w_auto           -0.3441      0.133     -2.580      0.010      -0.605      -0.083\n",
       "retail_+1w_auto          -0.2800      0.129     -2.164      0.030      -0.534      -0.026\n",
       "retail_0w_nm             -0.1298      0.081     -1.611      0.107      -0.288       0.028\n",
       "retail_+1w_nm            -0.2677      0.062     -4.325      0.000      -0.389      -0.146\n",
       "-----------------------------------------------------------------------------------------\n",
       "               cars=3       coef    std err          z      P>|z|      [0.025      0.975]\n",
       "-----------------------------------------------------------------------------------------\n",
       "constant                  1.8628      1.213      1.536      0.125      -0.515       4.240\n",
       "num_drivers_2             1.5993      0.265      6.031      0.000       1.080       2.119\n",
       "num_drivers_3             2.7242      0.420      6.487      0.000       1.901       3.547\n",
       "num_drivers_4+            1.9722      0.571      3.452      0.001       0.852       3.092\n",
       "num_children_16_to_17     0.0940      0.479      0.196      0.844      -0.844       1.032\n",
       "num_college_age           0.4229      0.162      2.612      0.009       0.106       0.740\n",
       "num_young_adults         -0.1227      0.151     -0.812      0.417      -0.419       0.173\n",
       "children_0_4              0.1061      0.290      0.365      0.715      -0.463       0.675\n",
       "children_5_17             0.0792      0.261      0.304      0.761      -0.432       0.590\n",
       "num_workes_3              0.7722      0.235      3.284      0.001       0.311       1.233\n",
       "income_30                 0.0344      0.014      2.379      0.017       0.006       0.063\n",
       "income_75                 0.0426      0.009      4.893      0.000       0.026       0.060\n",
       "income_125                0.0161      0.009      1.715      0.086      -0.002       0.034\n",
       "density_10_0w             0.3450      0.194      1.781      0.075      -0.035       0.725\n",
       "density_10_+1w           -0.1884      0.126     -1.494      0.135      -0.435       0.059\n",
       "retail_0w_auto           -0.5519      0.143     -3.863      0.000      -0.832      -0.272\n",
       "retail_+1w_auto          -0.4670      0.137     -3.419      0.001      -0.735      -0.199\n",
       "retail_0w_nm             -0.1760      0.116     -1.517      0.129      -0.403       0.051\n",
       "retail_+1w_nm            -0.3029      0.068     -4.479      0.000      -0.435      -0.170\n",
       "-----------------------------------------------------------------------------------------\n",
       "               cars=4       coef    std err          z      P>|z|      [0.025      0.975]\n",
       "-----------------------------------------------------------------------------------------\n",
       "constant                  2.4613      1.352      1.821      0.069      -0.188       5.111\n",
       "num_drivers_2             0.9498      0.342      2.780      0.005       0.280       1.619\n",
       "num_drivers_3             2.1948      0.479      4.581      0.000       1.256       3.134\n",
       "num_drivers_4+            2.8263      0.612      4.620      0.000       1.627       4.025\n",
       "num_children_16_to_17    -0.3612      0.497     -0.726      0.468      -1.336       0.614\n",
       "num_college_age           0.5639      0.164      3.430      0.001       0.242       0.886\n",
       "num_young_adults          0.0772      0.166      0.466      0.641      -0.248       0.402\n",
       "children_0_4             -0.3152      0.330     -0.956      0.339      -0.962       0.331\n",
       "children_5_17             0.4769      0.286      1.669      0.095      -0.083       1.037\n",
       "num_workes_3              0.5927      0.247      2.398      0.016       0.108       1.077\n",
       "income_30                 0.0555      0.022      2.548      0.011       0.013       0.098\n",
       "income_75                 0.0378      0.010      3.748      0.000       0.018       0.058\n",
       "income_125                0.0274      0.010      2.775      0.006       0.008       0.047\n",
       "density_10_0w             0.0621      0.396      0.157      0.875      -0.713       0.838\n",
       "density_10_+1w           -0.4574      0.205     -2.226      0.026      -0.860      -0.055\n",
       "retail_0w_auto           -0.7284      0.156     -4.682      0.000      -1.033      -0.424\n",
       "retail_+1w_auto          -0.6934      0.147     -4.724      0.000      -0.981      -0.406\n",
       "retail_0w_nm             -0.1792      0.179     -1.000      0.317      -0.530       0.172\n",
       "retail_+1w_nm            -0.2098      0.078     -2.672      0.008      -0.364      -0.056\n",
       "=========================================================================================\n",
       "\"\"\">"
      ]
     },
     "execution_count": 181,
     "metadata": {},
     "output_type": "execute_result"
    }
   ],
   "source": [
    "model = MNLogit(y_train, X_train)\n",
    "result = model.fit()\n",
    "result.summary().add_table_params"
   ]
  },
  {
   "cell_type": "markdown",
   "metadata": {},
   "source": [
    "## Model calibration "
   ]
  },
  {
   "cell_type": "markdown",
   "metadata": {},
   "source": [
    "For this part, I will try to recreate the model of the simulation, so I don't have to simulate everytime to try a new thing. Everytime I simulate I spent about 10 minutes, and I am sure I will want to do many trials before choosing the right option. \n",
    "\n",
    "To recreate the model I need: \n",
    "- Read auto_ownership_simulate.csv because this file contains the estimated parameters \n",
    "- Calculate variables needed for the model (This is almost done) \n",
    "- Cross product of variables and parameters to obtain utilities \n",
    "- Transform utilities in probabilities \n",
    "- Montecarlo simulation to predict choice (thios fuction is already done above). "
   ]
  },
  {
   "cell_type": "code",
   "execution_count": 46,
   "metadata": {},
   "outputs": [],
   "source": [
    "# Read csv file \n",
    "coeff = pd.read_csv('configs/auto_ownership.csv')\n",
    "coeff = coeff.fillna(0)[['cars0', 'cars1', 'cars2', 'cars3', 'cars4']]\n",
    "\n",
    "var_names = ['num_drivers_2', 'num_drivers_3', 'num_drivers_4+', 'num_children_16_to_17',\n",
    "             'num_college_age', 'num_young_adults', 'children_0_4', 'children_5_17',\n",
    "             'num_workes_3', 'income_30', 'income_75', 'income_125', 'density_10_0w',\n",
    "             'density_+10_0w','density_10_+1w', 'density_+10_+1w','constant', \n",
    "             'retail_0w_auto','retail_+1w_auto', 'retail_0w_transit','retail_+1w_transit', \n",
    "             'retail_0w_nm', 'retail_+1w_nm', 'auto_saving_work']\n",
    "\n",
    "coeff.index = var_names"
   ]
  },
  {
   "cell_type": "code",
   "execution_count": 47,
   "metadata": {},
   "outputs": [
    {
     "name": "stdout",
     "output_type": "stream",
     "text": [
      "CPU times: user 17.9 s, sys: 411 ms, total: 18.3 s\n",
      "Wall time: 2.74 s\n"
     ]
    },
    {
     "data": {
      "image/png": "[encoded data removed]",
      "text/plain": [
       "<Figure size 864x720 with 5 Axes>"
      ]
     },
     "metadata": {
      "needs_background": "light"
     },
     "output_type": "display_data"
    }
   ],
   "source": [
    "%%time\n",
    "hh_merge = add_simulation_vars(hh, acc, lu) \n",
    "utils = (coeff.T @ hh_merge[var_names].T).T.astype(float)\n",
    "utils_exp = utils.apply(np.exp)\n",
    "probs = utils_exp.div(utils_exp.sum(axis = 1), axis = 0)\n",
    "choices = simulation(probs)\n",
    "hh_merge['auto_ownership'] = choices \n",
    "car_ownership_validation(hh_merge)"
   ]
  },
  {
   "cell_type": "code",
   "execution_count": 48,
   "metadata": {},
   "outputs": [
    {
     "name": "stdout",
     "output_type": "stream",
     "text": [
      "accuracy:  40.129999999999995\n",
      "Number of misclassified categories: 5248\n"
     ]
    }
   ],
   "source": [
    "#Cross tab\n",
    "cross_tab = pd.crosstab(hh_merge.VEHICL_1, hh_merge.auto_ownership)\n",
    "accuracy = np.sum(np.diagonal(np.array(cross_tab)))/10000\n",
    "score = np.abs((hh_merge.VEHICL_1.value_counts() -  hh_merge.auto_ownership.value_counts())).sum()\n",
    "print('accuracy: ',accuracy*100)\n",
    "print('Number of misclassified categories:', score)"
   ]
  },
  {
   "cell_type": "markdown",
   "metadata": {},
   "source": [
    "## Grid search \n",
    "This part will take care of the grid search\n",
    "- Create arrays for each parameter that will be included in the serach \n",
    "- Create an array that contains all posible combonations of the parameters\n",
    "- Select random combinations (All combinations take a lot to run) \n",
    "- Run simulation with random set of coefficients and store score result\n",
    "- Organize scores in a table to compare results"
   ]
  },
  {
   "cell_type": "markdown",
   "metadata": {},
   "source": [
    "### Experimenting variables and constants at the same time "
   ]
  },
  {
   "cell_type": "code",
   "execution_count": 157,
   "metadata": {},
   "outputs": [],
   "source": [
    "#Parameter values ranges ## FINAL VALUES\n",
    "constant_1_value = np.linspace(3.4,3.5,11)\n",
    "constant_2_value = np.linspace(1.6,1.7,11)\n",
    "constant_3_value = np.linspace(-0.9,-0.8,11)\n",
    "constant_4_value = np.linspace(-3.3,-3.2,11)\n",
    "\n",
    "num_drive_2_1 = np.linspace(0.35,0.45,11)\n",
    "num_drive_3_1 = np.linspace(0,0.5,11)\n",
    "num_children_16_to_17_1 = np.linspace(0.3,0.5,11)\n",
    "num_young_adults = np.linspace(0.8,1.0,11)"
   ]
  },
  {
   "cell_type": "code",
   "execution_count": 170,
   "metadata": {},
   "outputs": [],
   "source": [
    "#Parameter values ranges\n",
    "constant_1_value = np.linspace(-5,5,11)\n",
    "constant_2_value = np.linspace(-5,5,11)\n",
    "constant_3_value = np.linspace(-5,5,11)\n",
    "constant_4_value = np.linspace(-5,5,11)\n",
    "\n",
    "num_drive_2_1 = np.linspace(-1,1,11)\n",
    "num_drive_3_1 = np.linspace(-1,1,11)\n",
    "num_children_16_to_17_1 = np.linspace(-1,1,11)\n",
    "num_young_adults = np.linspace(-1,1,11)"
   ]
  },
  {
   "cell_type": "code",
   "execution_count": 188,
   "metadata": {},
   "outputs": [],
   "source": [
    "#Building grid of coefficients: \n",
    "grid = np.array(np.meshgrid(constant_1_value, \n",
    "                            constant_2_value, \n",
    "                            constant_3_value, \n",
    "                            constant_4_value,\n",
    "                            num_drive_2_1, \n",
    "                            num_drive_3_1, \n",
    "                            num_children_16_to_17_1, \n",
    "                            num_young_adults)).T.reshape(-1,8)\n",
    "\n",
    "#Obtain random combination set of parameters. \n",
    "grid_rands = grid[np.random.randint(grid.shape[0], size=500), :]"
   ]
  },
  {
   "cell_type": "code",
   "execution_count": 189,
   "metadata": {},
   "outputs": [
    {
     "name": "stdout",
     "output_type": "stream",
     "text": [
      "CPU times: user 11.9 s, sys: 20 ms, total: 11.9 s\n",
      "Wall time: 11.9 s\n"
     ]
    }
   ],
   "source": [
    "%%time\n",
    "score_list = []\n",
    "for row in grid_rands:\n",
    "#     start = time.time()\n",
    "    coeff.loc['constant','cars1'] = row[0]\n",
    "    coeff.loc['constant','cars2'] = row[1]\n",
    "    coeff.loc['constant','cars3'] = row[2]\n",
    "    coeff.loc['constant','cars4'] = row[3]\n",
    "    coeff.loc['num_drivers_2','cars1'] = row[4]\n",
    "    coeff.loc['num_drivers_3','cars1'] = row[5]\n",
    "    coeff.loc['num_children_16_to_17','cars1'] = row[6]\n",
    "    coeff.loc['num_young_adults','cars1'] = row[7]\n",
    "    \n",
    "    utils = (coeff.T @ hh_merge[var_names].T).T.astype(float)\n",
    "    utils_exp = utils.apply(np.exp)\n",
    "    probs = utils_exp.div(utils_exp.sum(axis = 1), axis = 0)\n",
    "    choices = simulation(probs)\n",
    "    hh_merge['auto_ownership'] = choices \n",
    "    \n",
    "    #Cross tab\n",
    "    cross_tab = pd.crosstab(hh_merge.VEHICL, hh_merge.auto_ownership, normalize= 'all')\n",
    "    score = np.diagonal(cross_tab).sum()\n",
    "    score_list.append(score)\n",
    "#     score = np.abs((hh_merge.VEHICL_1.value_counts() -  hh_merge.auto_ownership.value_counts())).sum()\n",
    "#     score_list.append(score)\n",
    "#     end = time.time()\n",
    "#     print(end - start)"
   ]
  },
  {
   "cell_type": "code",
   "execution_count": 190,
   "metadata": {},
   "outputs": [
    {
     "data": {
      "text/html": [
       "<div>\n",
       "<style scoped>\n",
       "    .dataframe tbody tr th:only-of-type {\n",
       "        vertical-align: middle;\n",
       "    }\n",
       "\n",
       "    .dataframe tbody tr th {\n",
       "        vertical-align: top;\n",
       "    }\n",
       "\n",
       "    .dataframe thead th {\n",
       "        text-align: right;\n",
       "    }\n",
       "</style>\n",
       "<table border=\"1\" class=\"dataframe\">\n",
       "  <thead>\n",
       "    <tr style=\"text-align: right;\">\n",
       "      <th></th>\n",
       "      <th>0</th>\n",
       "      <th>1</th>\n",
       "      <th>2</th>\n",
       "      <th>3</th>\n",
       "      <th>4</th>\n",
       "      <th>5</th>\n",
       "      <th>6</th>\n",
       "      <th>7</th>\n",
       "      <th>score</th>\n",
       "    </tr>\n",
       "  </thead>\n",
       "  <tbody>\n",
       "    <tr>\n",
       "      <th>0</th>\n",
       "      <td>3.0</td>\n",
       "      <td>0.0</td>\n",
       "      <td>-5.0</td>\n",
       "      <td>-5.0</td>\n",
       "      <td>-0.8</td>\n",
       "      <td>0.6</td>\n",
       "      <td>0.4</td>\n",
       "      <td>0.2</td>\n",
       "      <td>0.4777</td>\n",
       "    </tr>\n",
       "    <tr>\n",
       "      <th>1</th>\n",
       "      <td>-5.0</td>\n",
       "      <td>4.0</td>\n",
       "      <td>-4.0</td>\n",
       "      <td>2.0</td>\n",
       "      <td>-0.2</td>\n",
       "      <td>-0.8</td>\n",
       "      <td>-1.0</td>\n",
       "      <td>1.0</td>\n",
       "      <td>0.3274</td>\n",
       "    </tr>\n",
       "    <tr>\n",
       "      <th>2</th>\n",
       "      <td>3.0</td>\n",
       "      <td>0.0</td>\n",
       "      <td>-3.0</td>\n",
       "      <td>5.0</td>\n",
       "      <td>1.0</td>\n",
       "      <td>1.0</td>\n",
       "      <td>-1.0</td>\n",
       "      <td>-0.4</td>\n",
       "      <td>0.0537</td>\n",
       "    </tr>\n",
       "    <tr>\n",
       "      <th>3</th>\n",
       "      <td>-3.0</td>\n",
       "      <td>5.0</td>\n",
       "      <td>-5.0</td>\n",
       "      <td>-2.0</td>\n",
       "      <td>-1.0</td>\n",
       "      <td>0.8</td>\n",
       "      <td>1.0</td>\n",
       "      <td>0.4</td>\n",
       "      <td>0.3442</td>\n",
       "    </tr>\n",
       "    <tr>\n",
       "      <th>4</th>\n",
       "      <td>-4.0</td>\n",
       "      <td>1.0</td>\n",
       "      <td>5.0</td>\n",
       "      <td>-3.0</td>\n",
       "      <td>0.6</td>\n",
       "      <td>-0.6</td>\n",
       "      <td>0.4</td>\n",
       "      <td>-0.6</td>\n",
       "      <td>0.1343</td>\n",
       "    </tr>\n",
       "    <tr>\n",
       "      <th>5</th>\n",
       "      <td>0.0</td>\n",
       "      <td>-5.0</td>\n",
       "      <td>3.0</td>\n",
       "      <td>1.0</td>\n",
       "      <td>-0.2</td>\n",
       "      <td>-1.0</td>\n",
       "      <td>-0.4</td>\n",
       "      <td>0.2</td>\n",
       "      <td>0.3975</td>\n",
       "    </tr>\n",
       "    <tr>\n",
       "      <th>6</th>\n",
       "      <td>2.0</td>\n",
       "      <td>4.0</td>\n",
       "      <td>-2.0</td>\n",
       "      <td>-1.0</td>\n",
       "      <td>0.4</td>\n",
       "      <td>-0.4</td>\n",
       "      <td>0.8</td>\n",
       "      <td>0.6</td>\n",
       "      <td>0.4479</td>\n",
       "    </tr>\n",
       "    <tr>\n",
       "      <th>7</th>\n",
       "      <td>4.0</td>\n",
       "      <td>1.0</td>\n",
       "      <td>-3.0</td>\n",
       "      <td>1.0</td>\n",
       "      <td>-0.8</td>\n",
       "      <td>-0.8</td>\n",
       "      <td>-0.8</td>\n",
       "      <td>-0.2</td>\n",
       "      <td>0.3159</td>\n",
       "    </tr>\n",
       "    <tr>\n",
       "      <th>8</th>\n",
       "      <td>1.0</td>\n",
       "      <td>-1.0</td>\n",
       "      <td>-5.0</td>\n",
       "      <td>2.0</td>\n",
       "      <td>-1.0</td>\n",
       "      <td>1.0</td>\n",
       "      <td>-1.0</td>\n",
       "      <td>0.4</td>\n",
       "      <td>0.0791</td>\n",
       "    </tr>\n",
       "    <tr>\n",
       "      <th>9</th>\n",
       "      <td>5.0</td>\n",
       "      <td>0.0</td>\n",
       "      <td>5.0</td>\n",
       "      <td>3.0</td>\n",
       "      <td>0.0</td>\n",
       "      <td>0.4</td>\n",
       "      <td>-0.2</td>\n",
       "      <td>1.0</td>\n",
       "      <td>0.2072</td>\n",
       "    </tr>\n",
       "  </tbody>\n",
       "</table>\n",
       "</div>"
      ],
      "text/plain": [
       "     0    1    2    3    4    5    6    7   score\n",
       "0  3.0  0.0 -5.0 -5.0 -0.8  0.6  0.4  0.2  0.4777\n",
       "1 -5.0  4.0 -4.0  2.0 -0.2 -0.8 -1.0  1.0  0.3274\n",
       "2  3.0  0.0 -3.0  5.0  1.0  1.0 -1.0 -0.4  0.0537\n",
       "3 -3.0  5.0 -5.0 -2.0 -1.0  0.8  1.0  0.4  0.3442\n",
       "4 -4.0  1.0  5.0 -3.0  0.6 -0.6  0.4 -0.6  0.1343\n",
       "5  0.0 -5.0  3.0  1.0 -0.2 -1.0 -0.4  0.2  0.3975\n",
       "6  2.0  4.0 -2.0 -1.0  0.4 -0.4  0.8  0.6  0.4479\n",
       "7  4.0  1.0 -3.0  1.0 -0.8 -0.8 -0.8 -0.2  0.3159\n",
       "8  1.0 -1.0 -5.0  2.0 -1.0  1.0 -1.0  0.4  0.0791\n",
       "9  5.0  0.0  5.0  3.0  0.0  0.4 -0.2  1.0  0.2072"
      ]
     },
     "execution_count": 190,
     "metadata": {},
     "output_type": "execute_result"
    }
   ],
   "source": [
    "results_join = pd.DataFrame(grid_rands)\n",
    "results_join['score'] = score_list\n",
    "results_join"
   ]
  },
  {
   "cell_type": "code",
   "execution_count": 191,
   "metadata": {},
   "outputs": [
    {
     "data": {
      "text/plain": [
       "0.4777"
      ]
     },
     "execution_count": 191,
     "metadata": {},
     "output_type": "execute_result"
    }
   ],
   "source": [
    "results_join.score.max()"
   ]
  },
  {
   "cell_type": "code",
   "execution_count": 192,
   "metadata": {},
   "outputs": [
    {
     "data": {
      "text/html": [
       "<div>\n",
       "<style scoped>\n",
       "    .dataframe tbody tr th:only-of-type {\n",
       "        vertical-align: middle;\n",
       "    }\n",
       "\n",
       "    .dataframe tbody tr th {\n",
       "        vertical-align: top;\n",
       "    }\n",
       "\n",
       "    .dataframe thead th {\n",
       "        text-align: right;\n",
       "    }\n",
       "</style>\n",
       "<table border=\"1\" class=\"dataframe\">\n",
       "  <thead>\n",
       "    <tr style=\"text-align: right;\">\n",
       "      <th></th>\n",
       "      <th>0</th>\n",
       "      <th>1</th>\n",
       "      <th>2</th>\n",
       "      <th>3</th>\n",
       "      <th>4</th>\n",
       "      <th>5</th>\n",
       "      <th>6</th>\n",
       "      <th>7</th>\n",
       "      <th>score</th>\n",
       "    </tr>\n",
       "  </thead>\n",
       "  <tbody>\n",
       "  </tbody>\n",
       "</table>\n",
       "</div>"
      ],
      "text/plain": [
       "Empty DataFrame\n",
       "Columns: [0, 1, 2, 3, 4, 5, 6, 7, score]\n",
       "Index: []"
      ]
     },
     "execution_count": 192,
     "metadata": {},
     "output_type": "execute_result"
    }
   ],
   "source": [
    "results_join[results_join.score > 0.5]"
   ]
  },
  {
   "cell_type": "code",
   "execution_count": null,
   "metadata": {},
   "outputs": [],
   "source": []
  }
 ],
 "metadata": {
  "kernelspec": {
   "display_name": "Python 3",
   "language": "python",
   "name": "python3"
  },
  "language_info": {
   "codemirror_mode": {
    "name": "ipython",
    "version": 3
   },
   "file_extension": ".py",
   "mimetype": "text/x-python",
   "name": "python",
   "nbconvert_exporter": "python",
   "pygments_lexer": "ipython3",
   "version": "3.7.7"
  }
 },
 "nbformat": 4,
 "nbformat_minor": 4
}
