{
 "cells": [
  {
   "cell_type": "markdown",
   "metadata": {},
   "source": [
    "# Mode choice calibration "
   ]
  },
  {
   "cell_type": "markdown",
   "metadata": {},
   "source": [
    "- Read original coeff csv file\n",
    "- Change +- 20% of coefficients \n",
    "- Save change in a new csv file\n",
    "- Update yaml file with new file name"
   ]
  },
  {
   "cell_type": "code",
   "execution_count": 1,
   "metadata": {},
   "outputs": [],
   "source": [
    "import pandas as pd \n",
    "import yaml"
   ]
  },
  {
   "cell_type": "code",
   "execution_count": 2,
   "metadata": {},
   "outputs": [],
   "source": [
    "coeffs = pd.read_csv('configs/configs/tour_mode_choice_coeffs.csv', \n",
    "                     index_col = 'Expression')\n",
    "\n",
    "coeff_t = coeffs.drop(columns= 'atwork').T\n",
    "at_work_coeff = coeffs['atwork'].reset_index(drop = True)"
   ]
  },
  {
   "cell_type": "code",
   "execution_count": 3,
   "metadata": {},
   "outputs": [],
   "source": [
    "# Transit IVT: Modify coefficient by 20% (This will make the coefficient more negative)\n",
    "# THIS ARE NOT likely to change model results\n",
    "c_ivt_coeff = ['c_ivt_lrt', 'c_ivt_ferry', 'c_ivt_exp','c_ivt_hvy', 'c_ivt_com']\n",
    "for col_name in c_ivt_coeff:\n",
    "    # Split str colum in float and str part. \n",
    "    split = coeff_t[col_name].str.split('*', expand = True) \n",
    "    split[0] = (split[0].astype(float)*1.2).astype(str)\n",
    "    new_col= split[0] + '*' + split[1] #Bri\n",
    "    coeff_t[col_name] = new_col"
   ]
  },
  {
   "cell_type": "code",
   "execution_count": 4,
   "metadata": {},
   "outputs": [],
   "source": [
    "# Modify constants \n",
    "# Walk ASC \n",
    "walk_asc = ['walk_ASC_no_auto', 'walk_ASC_auto_decicient', 'walk_ASC_auto_sufficient',\n",
    "            'joint_walk_ASC_no_auto', 'joint_walk_ASC_auto_decicient', \n",
    "            'joint_walk_ASC_auto_sufficient', 'c_ivt']\n",
    "for col_name in walk_asc:\n",
    "    col = coeff_t[col_name].astype(float)\n",
    "    col.where(col<0,col*2, inplace = True) # change this value to 1.2 (This was just right)\n",
    "    col.where(col>0,col*0.8, inplace = True)\n",
    "    coeff_t[col_name] = col\n",
    "    \n",
    "# Walk and drive to transit constants\n",
    "walk_drive_transit_asc = ['walk_transit_ASC_no_auto', \n",
    "                          'walk_transit_ASC_auto_decicient',\n",
    "                          'walk_transit_ASC_auto_sufficient', \n",
    "                          'drive_transit_ASC_auto_decicient',\n",
    "                          'drive_transit_ASC_auto_sufficient']\n",
    "\n",
    "for col_name in walk_drive_transit_asc:\n",
    "    col = coeff_t[col_name].astype(float)\n",
    "    col.where(col>0,col*1.2, inplace = True)\n",
    "    col.where(col<0,col*0.8, inplace = True)\n",
    "    coeff_t[col_name] = col"
   ]
  },
  {
   "cell_type": "code",
   "execution_count": 5,
   "metadata": {},
   "outputs": [],
   "source": [
    "# Transit IVT: Modify coefficient by 20% (This will make the coefficient more negative)\n",
    "c_ivt_coeff = ['c_walktimeshort', 'c_walktimelong']\n",
    "for col_name in c_ivt_coeff:\n",
    "    # Split str colum in float and str part. \n",
    "    split = coeff_t[col_name].str.split('*', expand = True) \n",
    "    split[0] = (split[0].astype(float)*0.8).astype(str)\n",
    "    new_col= split[0] + '*' + split[1] #Bri\n",
    "    coeff_t[col_name] = new_col"
   ]
  },
  {
   "cell_type": "code",
   "execution_count": 6,
   "metadata": {},
   "outputs": [],
   "source": [
    "# coeff_t['atwork'] = at_work_coeff\n",
    "coeff_final = coeff_t.T.reset_index()\n",
    "coeff_final['atwork'] = at_work_coeff"
   ]
  },
  {
   "cell_type": "code",
   "execution_count": 7,
   "metadata": {},
   "outputs": [],
   "source": [
    "new_name = 'tour_mode_choice_coeffs_v2.csv'\n",
    "coeff_final.to_csv('configs/configs/'+ new_name, index = False)"
   ]
  },
  {
   "cell_type": "markdown",
   "metadata": {},
   "source": [
    "## Modify YAML file"
   ]
  },
  {
   "cell_type": "code",
   "execution_count": 8,
   "metadata": {},
   "outputs": [],
   "source": [
    "yaml_file = open('configs/configs/tour_mode_choice.yaml')\n",
    "model_settings = yaml.load(yaml_file, Loader=yaml.FullLoader)"
   ]
  },
  {
   "cell_type": "code",
   "execution_count": 9,
   "metadata": {},
   "outputs": [],
   "source": [
    "# Change CostPerMile \n",
    "model_settings['CONSTANTS']['costPerMile'] = 18.29 * 0.1 #Reduce cost per mile\n",
    "model_settings['COEFFS'] = new_name"
   ]
  },
  {
   "cell_type": "code",
   "execution_count": 10,
   "metadata": {},
   "outputs": [],
   "source": [
    "with open('configs/configs/tour_mode_choice.yaml', 'w') as file:\n",
    "    documents = yaml.dump(model_settings, file)"
   ]
  }
 ],
 "metadata": {
  "kernelspec": {
   "display_name": "Python 3",
   "language": "python",
   "name": "python3"
  },
  "language_info": {
   "codemirror_mode": {
    "name": "ipython",
    "version": 3
   },
   "file_extension": ".py",
   "mimetype": "text/x-python",
   "name": "python",
   "nbconvert_exporter": "python",
   "pygments_lexer": "ipython3",
   "version": "3.7.7"
  }
 },
 "nbformat": 4,
 "nbformat_minor": 4
}
