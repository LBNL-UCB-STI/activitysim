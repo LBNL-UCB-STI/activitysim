{
 "cells": [
  {
   "cell_type": "code",
   "execution_count": 29,
   "metadata": {},
   "outputs": [],
   "source": [
    "import pandas as pd \n",
    "import numpy as np\n",
    "import openmatrix as omx\n",
    "import seaborn as sns \n",
    "import matplotlib.pyplot as plt"
   ]
  },
  {
   "cell_type": "code",
   "execution_count": 2,
   "metadata": {},
   "outputs": [
    {
     "name": "stdout",
     "output_type": "stream",
     "text": [
      "Number of Households:  2605386\n",
      "Number of Persons:  6802651\n",
      "Number of tours:  9209614\n",
      "Number of trips:  23238928\n"
     ]
    }
   ],
   "source": [
    "# ActivitySim Data \n",
    "hdf = pd.HDFStore('../output/pipeline.h5')\n",
    "pp = hdf['/persons/trip_mode_choice']\n",
    "hh = hdf['/households/trip_mode_choice']\n",
    "tours = hdf['/tours/trip_mode_choice']\n",
    "trips = hdf['/trips/trip_mode_choice']\n",
    "\n",
    "print ('Number of Households: ',hh.shape[0])\n",
    "print ('Number of Persons: ',pp.shape[0])\n",
    "print ('Number of tours: ',tours.shape[0])\n",
    "print ('Number of trips: ',trips.shape[0])"
   ]
  },
  {
   "cell_type": "markdown",
   "metadata": {},
   "source": [
    "## Distribution of Work-trip distances\n",
    "\n",
    "Source: LODES"
   ]
  },
  {
   "cell_type": "code",
   "execution_count": 85,
   "metadata": {},
   "outputs": [],
   "source": [
    "# Read LODES files\n",
    "file_path = 'ca_od_main_JT00_2010.csv.gz'\n",
    "lodes = pd.read_csv(file_path, dtype={'w_geocode': str, 'h_geocode': str},\n",
    "                    usecols=['w_geocode', 'h_geocode', 'S000']) # 'S000' total number of jobs\n",
    "\n",
    "# Read blocks to TAZ map\n",
    "blocks = pd.read_csv('geoid_to_zone.csv', dtype={'GEOID': str,})\n",
    "\n",
    "# Read Skims (to get TAZ-to-TAZ distance)\n",
    "skims = omx.open_file('../data/skims.omx', mode = 'r')"
   ]
  },
  {
   "cell_type": "code",
   "execution_count": 86,
   "metadata": {},
   "outputs": [],
   "source": [
    "# Prepare LODES data:\n",
    "\n",
    "#Filter home and work block_ids in Bay Area only  \n",
    "bayarea_home_filter = lodes.h_geocode.isin(blocks.GEOID)\n",
    "bayarea_work_filter = lodes.w_geocode.isin(blocks.GEOID)\n",
    "workers_lodes = lodes[(bayarea_home_filter) & (bayarea_work_filter)]\n",
    "\n",
    "# Match block_id with TAZ for home and work location \n",
    "workers_lodes = workers_lodes.merge(blocks, \n",
    "                                    how = 'left',\n",
    "                                    left_on = 'h_geocode',\n",
    "                                    right_on = 'GEOID').merge(\n",
    "                                    blocks, how = 'left',\n",
    "                                    left_on = 'w_geocode',\n",
    "                                    right_on = 'GEOID',\n",
    "                                    suffixes= ['_home', '_workplace'])\n",
    "\n",
    "# Query HOME-WORK distance \n",
    "dist = np.array(skims['DIST'])\n",
    "workers_lodes['dist'] = dist[workers_lodes.zone_id_home.astype(int) - 1,\n",
    "                             workers_lodes.zone_id_workplace.astype(int) - 1]\n",
    "\n",
    "# Adjust observations by weights\n",
    "observations = workers_lodes['dist']\n",
    "weights = workers_lodes['S000']\n",
    "\n",
    "# Calculate cumulative sum of weights\n",
    "cumulative_weights = np.cumsum(weights)\n",
    "\n",
    "# Duplicate observations based on weights\n",
    "duplicated_observations = pd.DataFrame(np.repeat(observations, weights))"
   ]
  },
  {
   "cell_type": "code",
   "execution_count": 87,
   "metadata": {},
   "outputs": [],
   "source": [
    "# ActivitySim\n",
    "cols = ['home_taz', 'workplace_taz', 'distance_to_work']\n",
    "asim_workers = pp[pp.worker == 1][cols]"
   ]
  },
  {
   "cell_type": "code",
   "execution_count": 88,
   "metadata": {},
   "outputs": [
    {
     "data": {
      "image/png": "[encoded data removed]",
      "text/plain": [
       "<Figure size 720x432 with 1 Axes>"
      ]
     },
     "metadata": {
      "needs_background": "light"
     },
     "output_type": "display_data"
    }
   ],
   "source": [
    "# Plot \n",
    "fig, ax = plt.subplots(figsize=(10,6))\n",
    "\n",
    "# Plot ActivitySim commute distances \n",
    "sns.kdeplot(asim_workers['distance_to_work'], ax=ax, label='ActivitySim')\n",
    "\n",
    "# Plot LODES commute distances \n",
    "sns.kdeplot(duplicated_observations['dist'], ax=ax, label='LODES')\n",
    "\n",
    "#Set x-label\n",
    "ax.set_xlabel('Commute Distance (miles)', fontsize=13)\n",
    "\n",
    "#Set figure title \n",
    "plt.title('Commute Distance Kernel Density Estimate', fontsize=16)\n",
    "\n",
    "#Add legend \n",
    "plt.legend()\n",
    "\n",
    "\n",
    "plt.show()"
   ]
  },
  {
   "cell_type": "markdown",
   "metadata": {},
   "source": [
    "## Commute Mode Choice\n",
    "Data Source: U.S. Census Bureau, American Community Survey 2012-2016 Five-year estimates. Special Tabulation: Census Transportation Planning (CTPP)"
   ]
  },
  {
   "cell_type": "code",
   "execution_count": 209,
   "metadata": {},
   "outputs": [],
   "source": [
    "# CTPP Data \n",
    "file_name = 'CTPP - A302103 - Means of transportation (18) (Workers 16 years and over).csv'\n",
    "ctpp_ms = pd.read_csv(file_name)"
   ]
  },
  {
   "cell_type": "code",
   "execution_count": 210,
   "metadata": {},
   "outputs": [
    {
     "data": {
      "text/html": [
       "<div>\n",
       "<style scoped>\n",
       "    .dataframe tbody tr th:only-of-type {\n",
       "        vertical-align: middle;\n",
       "    }\n",
       "\n",
       "    .dataframe tbody tr th {\n",
       "        vertical-align: top;\n",
       "    }\n",
       "\n",
       "    .dataframe thead th {\n",
       "        text-align: right;\n",
       "    }\n",
       "</style>\n",
       "<table border=\"1\" class=\"dataframe\">\n",
       "  <thead>\n",
       "    <tr style=\"text-align: right;\">\n",
       "      <th></th>\n",
       "      <th>workers</th>\n",
       "    </tr>\n",
       "    <tr>\n",
       "      <th>ctpp_mode</th>\n",
       "      <th></th>\n",
       "    </tr>\n",
       "  </thead>\n",
       "  <tbody>\n",
       "    <tr>\n",
       "      <th>Bike</th>\n",
       "      <td>1.924877</td>\n",
       "    </tr>\n",
       "    <tr>\n",
       "      <th>Car</th>\n",
       "      <td>80.447405</td>\n",
       "    </tr>\n",
       "    <tr>\n",
       "      <th>TNC</th>\n",
       "      <td>0.157970</td>\n",
       "    </tr>\n",
       "    <tr>\n",
       "      <th>Transit-Bus</th>\n",
       "      <td>6.491598</td>\n",
       "    </tr>\n",
       "    <tr>\n",
       "      <th>Transit-Rail</th>\n",
       "      <td>5.819102</td>\n",
       "    </tr>\n",
       "    <tr>\n",
       "      <th>Walk</th>\n",
       "      <td>3.828572</td>\n",
       "    </tr>\n",
       "    <tr>\n",
       "      <th>other</th>\n",
       "      <td>1.330477</td>\n",
       "    </tr>\n",
       "  </tbody>\n",
       "</table>\n",
       "</div>"
      ],
      "text/plain": [
       "                workers\n",
       "ctpp_mode              \n",
       "Bike           1.924877\n",
       "Car           80.447405\n",
       "TNC            0.157970\n",
       "Transit-Bus    6.491598\n",
       "Transit-Rail   5.819102\n",
       "Walk           3.828572\n",
       "other          1.330477"
      ]
     },
     "execution_count": 210,
     "metadata": {},
     "output_type": "execute_result"
    }
   ],
   "source": [
    "modes_ctpp = {'Car, truck, or van -- Drove alone': 'Car',\n",
    "         'Car, truck, or van -- In a 2-person carpool': 'Car',\n",
    "         'Car, truck, or van -- In a 3-person carpool': 'Car',\n",
    "         'Car, truck, or van -- In a 4-person carpool': 'Car',\n",
    "         'Car, truck, or van -- In a 5-or-6-person carpool': 'Car',\n",
    "         'Car, truck, or van -- In a 7-or-more-person carpool': 'Car',\n",
    "         'Bus or trolley bus': 'Transit-Bus', \n",
    "         'Streetcar or trolley car': 'Transit-Bus',\n",
    "         'Subway or elevated': 'Transit-Rail', \n",
    "         'Railroad' : 'Transit-Rail', \n",
    "         'Ferryboat': 'Transit-Bus', \n",
    "         'Bicycle': 'Bike', \n",
    "         'Walked': 'Walk',\n",
    "         'Taxicab': 'TNC',\n",
    "         'Motorcycle': 'other',\n",
    "         'Other method':'other', \n",
    "         'Auto': np.nan, \n",
    "         'Total, means of transportation': np.nan,\n",
    "         'Worked at home':np.nan}\n",
    "\n",
    "ctpp_ms['ctpp_mode'] = ctpp_ms['Means of Transportation 18'].replace(modes_ctpp)\n",
    "\n",
    "# Drop Summary Totals \n",
    "ctpp_ms.dropna(subset = ['ctpp_mode'], inplace = True)\n",
    "\n",
    "# Remove commas and convert to integers\n",
    "ctpp_ms['workers'] = ctpp_ms['Workers 16 and Over'].str.replace(',', '').astype(int)\n",
    "\n",
    "# Estimate Filter (remove marging)\n",
    "estimate_filter = ctpp_ms.Output == 'Estimate'\n",
    "ctpp_ms = ctpp_ms[estimate_filter]\n",
    "\n",
    "#Sum county to county estimate\n",
    "ctpp_ms = ctpp_ms.groupby('ctpp_mode').agg({'workers':'sum'})\n",
    "# ctpp_ms = ctpp_mss[~ctpp_ms.index.isin(['Worked at home'])]\n",
    "ctpp_ms = 100 * (ctpp_ms/ctpp_ms.sum())\n",
    "ctpp_ms"
   ]
  },
  {
   "cell_type": "code",
   "execution_count": 211,
   "metadata": {},
   "outputs": [],
   "source": [
    "modes_asim = {'WALK_LRF': 'Transit-Rail', \n",
    "              'WALK_LOC': 'Transit-Bus', \n",
    "              'SHARED3FREE': 'Car', \n",
    "              'WALK_COM': 'Transit-Bus',\n",
    "              'DRIVEALONEFREE': 'Car', \n",
    "              'SHARED2FREE':'Car', \n",
    "              'BIKE': 'Bike', \n",
    "              'DRIVE_LRF': 'Transit-Rail',\n",
    "              'WALK': 'Walk',\n",
    "              'WALK_HVY':'Transit-Rail', \n",
    "              'WALK_EXP':'Transit-Bus', \n",
    "              'DRIVE_LOC': 'Transit-Bus', \n",
    "              'DRIVE_HVY':'Transit-Rail', \n",
    "              'DRIVE_COM':'Transit-Bus',\n",
    "              'DRIVEALONEPAY':'Car', \n",
    "              'SHARED2PAY':'Car', \n",
    "              'DRIVE_EXP': 'Transit-Bus',\n",
    "              'SHARED3PAY':'Car', \n",
    "              'TNC_SINGLE': 'TNC',\n",
    "              'TNC_SHARED': 'TNC', \n",
    "              'TAXI': 'TNC'}"
   ]
  },
  {
   "cell_type": "code",
   "execution_count": 213,
   "metadata": {},
   "outputs": [],
   "source": [
    "trips['asim_mode_choice'] = trips.trip_mode.replace(modes_asim)\n",
    "work_trips = trips.primary_purpose == 'work'\n",
    "asim_ms = trips[work_trips]['asim_mode_choice'].value_counts(normalize = True) * 100"
   ]
  },
  {
   "cell_type": "code",
   "execution_count": 230,
   "metadata": {},
   "outputs": [
    {
     "data": {
      "text/plain": [
       "Text(0, 0.5, 'Share (%)')"
      ]
     },
     "execution_count": 230,
     "metadata": {},
     "output_type": "execute_result"
    },
    {
     "data": {
      "image/png": "[encoded data removed]",
      "text/plain": [
       "<Figure size 720x432 with 1 Axes>"
      ]
     },
     "metadata": {
      "needs_background": "light"
     },
     "output_type": "display_data"
    }
   ],
   "source": [
    "# Pre-process data\n",
    "df = pd.concat((ctpp_ms, asim_ms), axis = 1)\n",
    "df = df.sort_values(by = 'asim_mode_choice', ascending = False)\n",
    "df.columns = ['CTPP', 'ActivitySim']\n",
    "\n",
    "# Create the bar plot\n",
    "ax = df.plot.bar(rot=0, figsize=(10, 6))\n",
    "\n",
    "# Set plot title and labels\n",
    "ax.set_title('Comparison of Commute \\n Trips Mode Choice', fontsize = 20)\n",
    "ax.set_xlabel('Mode of Transportation', fontsize = 14)\n",
    "ax.set_ylabel('Share (%)', fontsize = 14)"
   ]
  }
 ],
 "metadata": {
  "kernelspec": {
   "display_name": "asim",
   "language": "python",
   "name": "python3"
  },
  "language_info": {
   "codemirror_mode": {
    "name": "ipython",
    "version": 3
   },
   "file_extension": ".py",
   "mimetype": "text/x-python",
   "name": "python",
   "nbconvert_exporter": "python",
   "pygments_lexer": "ipython3",
   "version": "3.9.2"
  },
  "orig_nbformat": 4
 },
 "nbformat": 4,
 "nbformat_minor": 2
}
