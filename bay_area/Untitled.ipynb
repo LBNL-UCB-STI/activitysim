{
 "cells": [
  {
   "cell_type": "code",
   "execution_count": 12,
   "metadata": {},
   "outputs": [],
   "source": [
    "from __future__ import (absolute_import, division, print_function, )\n",
    "from future.standard_library import install_aliases\n",
    "install_aliases()  # noqa: E402\n",
    "\n",
    "import sys\n",
    "import logging\n",
    "import argparse\n",
    "\n",
    "from activitysim.core import inject\n",
    "from activitysim.core import tracing\n",
    "from activitysim.core import config\n",
    "from activitysim.core import pipeline\n",
    "from activitysim.core import mp_tasks\n",
    "from activitysim.core import chunk\n",
    "# from activitysim.cli import run\n",
    "\n",
    "logger = logging.getLogger('activitysim')"
   ]
  },
  {
   "cell_type": "code",
   "execution_count": 21,
   "metadata": {},
   "outputs": [],
   "source": [
    "def log_settings():\n",
    "\n",
    "    settings = [\n",
    "        'households_sample_size',\n",
    "        'chunk_size',\n",
    "        'multiprocess',\n",
    "        'num_processes',\n",
    "        'resume_after',\n",
    "    ]\n",
    "\n",
    "    for k in settings:\n",
    "        logger.info(\"setting %s: %s\" % (k, config.setting(k)))"
   ]
  },
  {
   "cell_type": "code",
   "execution_count": 26,
   "metadata": {},
   "outputs": [],
   "source": [
    "def cleanup_output_files():\n",
    "\n",
    "    active_log_files = \\\n",
    "        [h.baseFilename for h in logger.root.handlers if isinstance(h, logging.FileHandler)]\n",
    "    tracing.delete_output_files('log', ignore=active_log_files)\n",
    "\n",
    "    tracing.delete_output_files('h5')\n",
    "    tracing.delete_output_files('csv')\n",
    "    tracing.delete_output_files('txt')\n",
    "    tracing.delete_output_files('yaml')\n",
    "    tracing.delete_output_files('prof')\n",
    "    tracing.delete_output_files('omx')"
   ]
  },
  {
   "cell_type": "code",
   "execution_count": 22,
   "metadata": {},
   "outputs": [
    {
     "name": "stdout",
     "output_type": "stream",
     "text": [
      "INFO - activitysim - Read logging configuration from: configs/logging.yaml\n",
      "INFO - activitysim - setting households_sample_size: 0\n",
      "INFO - activitysim - setting chunk_size: 4000000000\n",
      "INFO - activitysim - setting multiprocess: True\n",
      "INFO - activitysim - setting num_processes: 30\n",
      "INFO - activitysim - setting resume_after: _\n"
     ]
    }
   ],
   "source": [
    "injectables = ['data_dir','configs_dir','output_dir']\n",
    "\n",
    "inject.add_injectable('data_dir', 'data')\n",
    "inject.add_injectable('configs_dir', ['configs', 'configs/configs'])\n",
    "\n",
    "config.filter_warnings()\n",
    "tracing.config_logger()\n",
    "\n",
    "log_settings()\n",
    "\n",
    "t0 = tracing.print_elapsed_time()"
   ]
  },
  {
   "cell_type": "code",
   "execution_count": 23,
   "metadata": {},
   "outputs": [],
   "source": [
    "injectables = {k: inject.get_injectable(k) for k in injectables}"
   ]
  },
  {
   "cell_type": "code",
   "execution_count": 24,
   "metadata": {},
   "outputs": [],
   "source": [
    "resume_after = config.setting('resume_after', None)"
   ]
  },
  {
   "cell_type": "code",
   "execution_count": 27,
   "metadata": {},
   "outputs": [],
   "source": [
    "if not resume_after:\n",
    "    cleanup_output_files()"
   ]
  },
  {
   "cell_type": "code",
   "execution_count": 29,
   "metadata": {},
   "outputs": [
    {
     "name": "stdout",
     "output_type": "stream",
     "text": [
      "INFO - activitysim - run multiprocess simulation\n"
     ]
    }
   ],
   "source": [
    "if config.setting('multiprocess', False):\n",
    "    logger.info('run multiprocess simulation')"
   ]
  },
  {
   "cell_type": "code",
   "execution_count": 31,
   "metadata": {},
   "outputs": [
    {
     "ename": "OSError",
     "evalue": "Could not find saved breadcrumbs file 'output/breadcrumbs.yaml'",
     "output_type": "error",
     "traceback": [
      "\u001b[0;31m---------------------------------------------------------------------------\u001b[0m",
      "\u001b[0;31mOSError\u001b[0m                                   Traceback (most recent call last)",
      "\u001b[0;32m<ipython-input-31-ca512b289a6b>\u001b[0m in \u001b[0;36m<module>\u001b[0;34m\u001b[0m\n\u001b[0;32m----> 1\u001b[0;31m \u001b[0mrun_list\u001b[0m \u001b[0;34m=\u001b[0m \u001b[0mmp_tasks\u001b[0m\u001b[0;34m.\u001b[0m\u001b[0mget_run_list\u001b[0m\u001b[0;34m(\u001b[0m\u001b[0;34m)\u001b[0m\u001b[0;34m\u001b[0m\u001b[0;34m\u001b[0m\u001b[0m\n\u001b[0m",
      "\u001b[0;32m~/ual_asim/activitysim/activitysim/core/mp_tasks.py\u001b[0m in \u001b[0;36mget_run_list\u001b[0;34m()\u001b[0m\n\u001b[1;32m   1557\u001b[0m         \u001b[0;31m# - add resume breadcrumbs\u001b[0m\u001b[0;34m\u001b[0m\u001b[0;34m\u001b[0m\u001b[0;34m\u001b[0m\u001b[0m\n\u001b[1;32m   1558\u001b[0m         \u001b[0;32mif\u001b[0m \u001b[0mresume_after\u001b[0m\u001b[0;34m:\u001b[0m\u001b[0;34m\u001b[0m\u001b[0;34m\u001b[0m\u001b[0m\n\u001b[0;32m-> 1559\u001b[0;31m             \u001b[0mbreadcrumbs\u001b[0m \u001b[0;34m=\u001b[0m \u001b[0mget_breadcrumbs\u001b[0m\u001b[0;34m(\u001b[0m\u001b[0mrun_list\u001b[0m\u001b[0;34m)\u001b[0m\u001b[0;34m\u001b[0m\u001b[0;34m\u001b[0m\u001b[0m\n\u001b[0m\u001b[1;32m   1560\u001b[0m             \u001b[0;32mif\u001b[0m \u001b[0mbreadcrumbs\u001b[0m\u001b[0;34m:\u001b[0m\u001b[0;34m\u001b[0m\u001b[0;34m\u001b[0m\u001b[0m\n\u001b[1;32m   1561\u001b[0m                 \u001b[0mrun_list\u001b[0m\u001b[0;34m[\u001b[0m\u001b[0;34m'breadcrumbs'\u001b[0m\u001b[0;34m]\u001b[0m \u001b[0;34m=\u001b[0m \u001b[0mbreadcrumbs\u001b[0m\u001b[0;34m\u001b[0m\u001b[0;34m\u001b[0m\u001b[0m\n",
      "\u001b[0;32m~/ual_asim/activitysim/activitysim/core/mp_tasks.py\u001b[0m in \u001b[0;36mget_breadcrumbs\u001b[0;34m(run_list)\u001b[0m\n\u001b[1;32m   1332\u001b[0m \u001b[0;34m\u001b[0m\u001b[0m\n\u001b[1;32m   1333\u001b[0m     \u001b[0;31m# - read breadcrumbs file from previous run\u001b[0m\u001b[0;34m\u001b[0m\u001b[0;34m\u001b[0m\u001b[0;34m\u001b[0m\u001b[0m\n\u001b[0;32m-> 1334\u001b[0;31m     \u001b[0mbreadcrumbs\u001b[0m \u001b[0;34m=\u001b[0m \u001b[0mread_breadcrumbs\u001b[0m\u001b[0;34m(\u001b[0m\u001b[0;34m)\u001b[0m\u001b[0;34m\u001b[0m\u001b[0;34m\u001b[0m\u001b[0m\n\u001b[0m\u001b[1;32m   1335\u001b[0m \u001b[0;34m\u001b[0m\u001b[0m\n\u001b[1;32m   1336\u001b[0m     \u001b[0;31m# - can't resume multiprocess without breadcrumbs file\u001b[0m\u001b[0;34m\u001b[0m\u001b[0;34m\u001b[0m\u001b[0;34m\u001b[0m\u001b[0m\n",
      "\u001b[0;32m~/ual_asim/activitysim/activitysim/core/mp_tasks.py\u001b[0m in \u001b[0;36mread_breadcrumbs\u001b[0;34m()\u001b[0m\n\u001b[1;32m   1644\u001b[0m     \u001b[0mfile_path\u001b[0m \u001b[0;34m=\u001b[0m \u001b[0mbreadcrumbs_file_path\u001b[0m\u001b[0;34m(\u001b[0m\u001b[0;34m)\u001b[0m\u001b[0;34m\u001b[0m\u001b[0;34m\u001b[0m\u001b[0m\n\u001b[1;32m   1645\u001b[0m     \u001b[0;32mif\u001b[0m \u001b[0;32mnot\u001b[0m \u001b[0mos\u001b[0m\u001b[0;34m.\u001b[0m\u001b[0mpath\u001b[0m\u001b[0;34m.\u001b[0m\u001b[0mexists\u001b[0m\u001b[0;34m(\u001b[0m\u001b[0mfile_path\u001b[0m\u001b[0;34m)\u001b[0m\u001b[0;34m:\u001b[0m\u001b[0;34m\u001b[0m\u001b[0;34m\u001b[0m\u001b[0m\n\u001b[0;32m-> 1646\u001b[0;31m         \u001b[0;32mraise\u001b[0m \u001b[0mIOError\u001b[0m\u001b[0;34m(\u001b[0m\u001b[0;34m\"Could not find saved breadcrumbs file '%s'\"\u001b[0m \u001b[0;34m%\u001b[0m \u001b[0mfile_path\u001b[0m\u001b[0;34m)\u001b[0m\u001b[0;34m\u001b[0m\u001b[0;34m\u001b[0m\u001b[0m\n\u001b[0m\u001b[1;32m   1647\u001b[0m     \u001b[0;32mwith\u001b[0m \u001b[0mopen\u001b[0m\u001b[0;34m(\u001b[0m\u001b[0mfile_path\u001b[0m\u001b[0;34m,\u001b[0m \u001b[0;34m'r'\u001b[0m\u001b[0;34m)\u001b[0m \u001b[0;32mas\u001b[0m \u001b[0mf\u001b[0m\u001b[0;34m:\u001b[0m\u001b[0;34m\u001b[0m\u001b[0;34m\u001b[0m\u001b[0m\n\u001b[1;32m   1648\u001b[0m         \u001b[0mbreadcrumbs\u001b[0m \u001b[0;34m=\u001b[0m \u001b[0myaml\u001b[0m\u001b[0;34m.\u001b[0m\u001b[0mload\u001b[0m\u001b[0;34m(\u001b[0m\u001b[0mf\u001b[0m\u001b[0;34m,\u001b[0m \u001b[0mLoader\u001b[0m\u001b[0;34m=\u001b[0m\u001b[0myaml\u001b[0m\u001b[0;34m.\u001b[0m\u001b[0mSafeLoader\u001b[0m\u001b[0;34m)\u001b[0m\u001b[0;34m\u001b[0m\u001b[0;34m\u001b[0m\u001b[0m\n",
      "\u001b[0;31mOSError\u001b[0m: Could not find saved breadcrumbs file 'output/breadcrumbs.yaml'"
     ]
    }
   ],
   "source": [
    "run_list = mp_tasks.get_run_list()"
   ]
  },
  {
   "cell_type": "code",
   "execution_count": 33,
   "metadata": {},
   "outputs": [],
   "source": [
    "hdf.close()"
   ]
  },
  {
   "cell_type": "code",
   "execution_count": 38,
   "metadata": {},
   "outputs": [],
   "source": [
    "import geopandas as gpd\n",
    "import os "
   ]
  },
  {
   "cell_type": "code",
   "execution_count": 39,
   "metadata": {},
   "outputs": [
    {
     "data": {
      "text/plain": [
       "'/home/ubuntu/ual_asim/activitysim/bay_area_mp'"
      ]
     },
     "execution_count": 39,
     "metadata": {},
     "output_type": "execute_result"
    }
   ],
   "source": [
    "os.getcwd()"
   ]
  },
  {
   "cell_type": "code",
   "execution_count": 40,
   "metadata": {},
   "outputs": [],
   "source": [
    "blocks = gpd.read_file('data/blocks.shp')"
   ]
  },
  {
   "cell_type": "code",
   "execution_count": 42,
   "metadata": {},
   "outputs": [
    {
     "data": {
      "text/plain": [
       "9"
      ]
     },
     "execution_count": 42,
     "metadata": {},
     "output_type": "execute_result"
    }
   ],
   "source": [
    "blocks.COUNTY.nunique()"
   ]
  },
  {
   "cell_type": "markdown",
   "metadata": {},
   "source": [
    "## Reading OMX file "
   ]
  },
  {
   "cell_type": "code",
   "execution_count": 4,
   "metadata": {},
   "outputs": [],
   "source": [
    "import openmatrix as omx "
   ]
  },
  {
   "cell_type": "code",
   "execution_count": 2,
   "metadata": {},
   "outputs": [
    {
     "name": "stdout",
     "output_type": "stream",
     "text": [
      "File contents: data/skims.omx\r\n",
      "data/skims.omx (File) ''\r\n",
      "Last modif.: 'Wed Jul 15 01:08:09 2020'\r\n",
      "Object Tree: \r\n",
      "/ (RootGroup) ''\r\n",
      "/data (Group) ''\r\n",
      "/lookup (Group) ''\r\n",
      "\r\n",
      "\r\n",
      "Check 1: Has OMX_VERSION attribute set to 0.2\r\n",
      "  File version is 0.2: Pass\r\n",
      "\r\n",
      "Check 2: Has SHAPE array attribute set to two item integer array\r\n",
      "\r\n",
      "Check 3: Has data group for matrices\r\n",
      "  Group: Pass\r\n",
      "  Number of Matrices: 0\r\n",
      "  Matrix names: []\r\n",
      "\r\n",
      "Check 4: Matrix shape matches file shape\r\n",
      "\r\n",
      "Check 5: Uses common data types (float or int) for matrices\r\n",
      "\r\n",
      "Check 6: Matrices chunked for faster I/O\r\n",
      "\r\n",
      "Check 7: Uses zlib compression if compression used\r\n",
      "\r\n",
      "Check 8: Has NA attribute if desired (but not required)\r\n",
      "\r\n",
      "Check 9: Has lookup group for labels/indexes if desired (but not required)\r\n",
      "  Group: Pass\r\n",
      "  Number of Lookups: 0\r\n",
      "  Lookups names: []\r\n",
      "\r\n",
      "Check 10: Lookup shapes are 1-d and match file shape\r\n",
      "\r\n",
      "Check 11: Uses common data types (int or str) for lookups\r\n",
      "\r\n",
      "Check 12: Has Lookup DIM attribute of 0 (row) or 1 (column) if desired (but not required)\r\n",
      "  Not supported at this time by the Python openmatrix package\r\n",
      "\r\n",
      "Overall result \r\n",
      "  Check 1 : Required : Pass\r\n",
      "  ERROR \"Attribute ('SHAPE') does not exist in node '/'\"\r\n",
      "  Check 3 : Required : Pass\r\n",
      "  Check 4 : Required : Pass\r\n",
      "  Check 5 : Required : Pass\r\n",
      "  Check 6 : Required : Pass\r\n",
      "  Check 7 : Not required : Pass\r\n",
      "  Check 8 : Not required : Pass\r\n",
      "  Check 9 : Not required : Pass\r\n",
      "  Check 10 : Not required : Pass\r\n",
      "  Check 11 : Not required : Pass\r\n",
      "  Check 12 : Not required : Fail\r\n",
      "  Overall :  Fail\r\n"
     ]
    }
   ],
   "source": [
    "!omx-validate data/skims.omx"
   ]
  },
  {
   "cell_type": "code",
   "execution_count": 5,
   "metadata": {},
   "outputs": [],
   "source": [
    "myfile = omx.open_file('data/skims.omx')"
   ]
  },
  {
   "cell_type": "code",
   "execution_count": 8,
   "metadata": {},
   "outputs": [
    {
     "name": "stdout",
     "output_type": "stream",
     "text": [
      "None\n"
     ]
    }
   ],
   "source": [
    "print(myfile.shape())"
   ]
  },
  {
   "cell_type": "code",
   "execution_count": 27,
   "metadata": {},
   "outputs": [],
   "source": [
    "import pandas as pd \n",
    "import numpy as np"
   ]
  },
  {
   "cell_type": "code",
   "execution_count": 22,
   "metadata": {},
   "outputs": [],
   "source": [
    "skims_imputed = pd.read_csv(\"s3://baus-data/spring_2019/beam_skims_imputed.csv\")"
   ]
  },
  {
   "cell_type": "code",
   "execution_count": 20,
   "metadata": {},
   "outputs": [],
   "source": [
    "beam_skims = pd.read_csv('s3://baus-data/spring_2019/30.skims-smart-23April2019-baseline.csv.gz')"
   ]
  },
  {
   "cell_type": "code",
   "execution_count": 23,
   "metadata": {},
   "outputs": [
    {
     "data": {
      "text/html": [
       "<div>\n",
       "<style scoped>\n",
       "    .dataframe tbody tr th:only-of-type {\n",
       "        vertical-align: middle;\n",
       "    }\n",
       "\n",
       "    .dataframe tbody tr th {\n",
       "        vertical-align: top;\n",
       "    }\n",
       "\n",
       "    .dataframe thead th {\n",
       "        text-align: right;\n",
       "    }\n",
       "</style>\n",
       "<table border=\"1\" class=\"dataframe\">\n",
       "  <thead>\n",
       "    <tr style=\"text-align: right;\">\n",
       "      <th></th>\n",
       "      <th>hour</th>\n",
       "      <th>mode</th>\n",
       "      <th>origTaz</th>\n",
       "      <th>destTaz</th>\n",
       "      <th>travelTimeInS</th>\n",
       "      <th>generalizedTimeInS</th>\n",
       "      <th>cost</th>\n",
       "      <th>generalizedCost</th>\n",
       "      <th>distanceInM</th>\n",
       "      <th>numObservations</th>\n",
       "      <th>energy</th>\n",
       "    </tr>\n",
       "  </thead>\n",
       "  <tbody>\n",
       "    <tr>\n",
       "      <th>0</th>\n",
       "      <td>16</td>\n",
       "      <td>CAR</td>\n",
       "      <td>1136</td>\n",
       "      <td>922</td>\n",
       "      <td>933.0</td>\n",
       "      <td>853.4</td>\n",
       "      <td>0.000000</td>\n",
       "      <td>12.782407</td>\n",
       "      <td>28173.405000</td>\n",
       "      <td>1</td>\n",
       "      <td>4.837720e+07</td>\n",
       "    </tr>\n",
       "    <tr>\n",
       "      <th>1</th>\n",
       "      <td>17</td>\n",
       "      <td>CAR</td>\n",
       "      <td>106</td>\n",
       "      <td>241</td>\n",
       "      <td>2592.0</td>\n",
       "      <td>2572.1</td>\n",
       "      <td>0.000000</td>\n",
       "      <td>26.092245</td>\n",
       "      <td>26881.345000</td>\n",
       "      <td>1</td>\n",
       "      <td>5.172808e+07</td>\n",
       "    </tr>\n",
       "    <tr>\n",
       "      <th>2</th>\n",
       "      <td>15</td>\n",
       "      <td>WALK</td>\n",
       "      <td>108</td>\n",
       "      <td>110</td>\n",
       "      <td>482.0</td>\n",
       "      <td>482.0</td>\n",
       "      <td>0.000000</td>\n",
       "      <td>5.903581</td>\n",
       "      <td>625.999000</td>\n",
       "      <td>1</td>\n",
       "      <td>3.317795e+04</td>\n",
       "    </tr>\n",
       "    <tr>\n",
       "      <th>3</th>\n",
       "      <td>6</td>\n",
       "      <td>DRIVE_TRANSIT</td>\n",
       "      <td>360</td>\n",
       "      <td>390</td>\n",
       "      <td>816.0</td>\n",
       "      <td>1200.0</td>\n",
       "      <td>3.000917</td>\n",
       "      <td>7.587518</td>\n",
       "      <td>11641.535621</td>\n",
       "      <td>1</td>\n",
       "      <td>2.013506e+07</td>\n",
       "    </tr>\n",
       "    <tr>\n",
       "      <th>4</th>\n",
       "      <td>10</td>\n",
       "      <td>CAR</td>\n",
       "      <td>1289</td>\n",
       "      <td>1220</td>\n",
       "      <td>2976.0</td>\n",
       "      <td>2745.1</td>\n",
       "      <td>0.000000</td>\n",
       "      <td>15.885995</td>\n",
       "      <td>70944.826000</td>\n",
       "      <td>1</td>\n",
       "      <td>1.227308e+08</td>\n",
       "    </tr>\n",
       "  </tbody>\n",
       "</table>\n",
       "</div>"
      ],
      "text/plain": [
       "   hour           mode  origTaz  destTaz  travelTimeInS  generalizedTimeInS  \\\n",
       "0    16            CAR     1136      922          933.0               853.4   \n",
       "1    17            CAR      106      241         2592.0              2572.1   \n",
       "2    15           WALK      108      110          482.0               482.0   \n",
       "3     6  DRIVE_TRANSIT      360      390          816.0              1200.0   \n",
       "4    10            CAR     1289     1220         2976.0              2745.1   \n",
       "\n",
       "       cost  generalizedCost   distanceInM  numObservations        energy  \n",
       "0  0.000000        12.782407  28173.405000                1  4.837720e+07  \n",
       "1  0.000000        26.092245  26881.345000                1  5.172808e+07  \n",
       "2  0.000000         5.903581    625.999000                1  3.317795e+04  \n",
       "3  3.000917         7.587518  11641.535621                1  2.013506e+07  \n",
       "4  0.000000        15.885995  70944.826000                1  1.227308e+08  "
      ]
     },
     "execution_count": 23,
     "metadata": {},
     "output_type": "execute_result"
    }
   ],
   "source": [
    "beam_skims.head()"
   ]
  },
  {
   "cell_type": "markdown",
   "metadata": {},
   "source": [
    "# To do: Look for code that imputed this and save it in a jupyter notebook by it self. Try to maintain the same format "
   ]
  },
  {
   "cell_type": "code",
   "execution_count": 28,
   "metadata": {},
   "outputs": [
    {
     "ename": "AssertionError",
     "evalue": "",
     "output_type": "error",
     "traceback": [
      "\u001b[0;31m---------------------------------------------------------------------------\u001b[0m",
      "\u001b[0;31mAssertionError\u001b[0m                            Traceback (most recent call last)",
      "\u001b[0;32m<ipython-input-28-5c77aafbaf74>\u001b[0m in \u001b[0;36m<module>\u001b[0;34m\u001b[0m\n\u001b[1;32m      3\u001b[0m \u001b[0mnum_od_pairs\u001b[0m \u001b[0;34m=\u001b[0m \u001b[0mlen\u001b[0m\u001b[0;34m(\u001b[0m\u001b[0mbeam_skims\u001b[0m\u001b[0;34m)\u001b[0m \u001b[0;34m/\u001b[0m \u001b[0mnum_hours\u001b[0m \u001b[0;34m/\u001b[0m \u001b[0mnum_modes\u001b[0m\u001b[0;34m\u001b[0m\u001b[0;34m\u001b[0m\u001b[0m\n\u001b[1;32m      4\u001b[0m \u001b[0mnum_taz\u001b[0m \u001b[0;34m=\u001b[0m \u001b[0mnp\u001b[0m\u001b[0;34m.\u001b[0m\u001b[0msqrt\u001b[0m\u001b[0;34m(\u001b[0m\u001b[0mnum_od_pairs\u001b[0m\u001b[0;34m)\u001b[0m\u001b[0;34m\u001b[0m\u001b[0;34m\u001b[0m\u001b[0m\n\u001b[0;32m----> 5\u001b[0;31m \u001b[0;32massert\u001b[0m \u001b[0mnum_taz\u001b[0m\u001b[0;34m.\u001b[0m\u001b[0mis_integer\u001b[0m\u001b[0;34m(\u001b[0m\u001b[0;34m)\u001b[0m\u001b[0;34m\u001b[0m\u001b[0;34m\u001b[0m\u001b[0m\n\u001b[0m\u001b[1;32m      6\u001b[0m \u001b[0mnum_taz\u001b[0m \u001b[0;34m=\u001b[0m \u001b[0mint\u001b[0m\u001b[0;34m(\u001b[0m\u001b[0mnum_taz\u001b[0m\u001b[0;34m)\u001b[0m\u001b[0;34m\u001b[0m\u001b[0;34m\u001b[0m\u001b[0m\n",
      "\u001b[0;31mAssertionError\u001b[0m: "
     ]
    }
   ],
   "source": [
    "num_hours = len(beam_skims['hour'].unique())\n",
    "num_modes = len(beam_skims['mode'].unique())\n",
    "num_od_pairs = len(beam_skims) / num_hours / num_modes\n",
    "num_taz = np.sqrt(num_od_pairs)\n",
    "assert num_taz.is_integer()\n",
    "num_taz = int(num_taz)"
   ]
  },
  {
   "cell_type": "code",
   "execution_count": 29,
   "metadata": {},
   "outputs": [
    {
     "data": {
      "text/plain": [
       "24"
      ]
     },
     "execution_count": 29,
     "metadata": {},
     "output_type": "execute_result"
    }
   ],
   "source": [
    "num_hours"
   ]
  },
  {
   "cell_type": "code",
   "execution_count": 30,
   "metadata": {},
   "outputs": [
    {
     "data": {
      "text/plain": [
       "8"
      ]
     },
     "execution_count": 30,
     "metadata": {},
     "output_type": "execute_result"
    }
   ],
   "source": [
    "num_modes"
   ]
  },
  {
   "cell_type": "code",
   "execution_count": 31,
   "metadata": {},
   "outputs": [
    {
     "data": {
      "text/plain": [
       "5312.635416666667"
      ]
     },
     "execution_count": 31,
     "metadata": {},
     "output_type": "execute_result"
    }
   ],
   "source": [
    "num_od_pairs"
   ]
  },
  {
   "cell_type": "code",
   "execution_count": 32,
   "metadata": {},
   "outputs": [
    {
     "data": {
      "text/plain": [
       "72.88782763031607"
      ]
     },
     "execution_count": 32,
     "metadata": {},
     "output_type": "execute_result"
    }
   ],
   "source": [
    "num_taz"
   ]
  },
  {
   "cell_type": "code",
   "execution_count": 33,
   "metadata": {},
   "outputs": [],
   "source": [
    "#Load mtc skims, load raw beam skims "
   ]
  },
  {
   "cell_type": "code",
   "execution_count": null,
   "metadata": {},
   "outputs": [],
   "source": [
    "#Source code: https://github.com/ual/activitysynth/blob/master/activitysynth/scripts/utils.py\n",
    "def impute_missing_skims(mtc_skims, beam_skims_raw):\n",
    "    df = beam_skims_raw.to_frame()\n",
    "\n",
    "    # seconds to minutes\n",
    "    df['gen_tt'] = df['generalizedTimeInS'] / 60\n",
    "\n",
    "    mtc = mtc_skims.to_frame(columns=['orig', 'dest', 'da_distance_AM'])\n",
    "    mtc.rename(\n",
    "        columns={'orig': 'from_zone_id', 'dest': 'to_zone_id'},\n",
    "        inplace=True)\n",
    "    mtc.set_index(['from_zone_id', 'to_zone_id'], inplace=True)\n",
    "\n",
    "    # miles to meters\n",
    "    mtc['dist'] = mtc['da_distance_AM'] * 1609.34\n",
    "\n",
    "    # impute mtc zone-to-zone distances where zero-valued in beam skims\n",
    "    if len(df.loc[df['distanceInM'] == 0, 'distanceInM']) > 0:\n",
    "        df.loc[df['distanceInM'] == 0, 'distanceInM'] = mtc.loc[\n",
    "            pd.MultiIndex.from_frame(df.loc[df['distanceInM'] == 0, [\n",
    "                'from_zone_id', 'to_zone_id']]), 'dist'].values\n",
    "\n",
    "    # use MTC dists for all intra-taz distances\n",
    "    intra_taz_mask = df['from_zone_id'] == df['to_zone_id']\n",
    "    df.loc[intra_taz_mask, 'distanceInM'] = mtc.loc[pd.MultiIndex.from_frame(\n",
    "        df.loc[intra_taz_mask, ['from_zone_id', 'to_zone_id']]), 'dist'].values\n",
    "\n",
    "\n",
    "    # create morning peak lookup\n",
    "    df['gen_time_per_m'] = df['gen_tt'] / df['distanceInM']\n",
    "    df['gen_cost_per_m'] = df['gen_cost'] / df['distanceInM']\n",
    "    df.loc[df['hour'].isin([7, 8, 9]), 'period'] = 'AM'\n",
    "    df_am = df[df['period'] == 'AM']\n",
    "    df_am = df_am.replace([np.inf, -np.inf], np.nan)\n",
    "    df_am = df_am.loc[df_am.index.repeat(df_am.numObservations)]  # weighted\n",
    "    am_lookup = df_am[[\n",
    "        'mode', 'gen_time_per_m', 'gen_cost_per_m']].dropna().groupby(\n",
    "            ['mode']).mean().reset_index()\n",
    "\n",
    "    # morning averages\n",
    "    df_am_avg = df_am[[\n",
    "        'from_zone_id', 'to_zone_id', 'mode', 'gen_tt',\n",
    "        'gen_cost']].groupby(\n",
    "        ['from_zone_id', 'to_zone_id', 'mode']).mean().reset_index()\n",
    "\n",
    "    # long to wide\n",
    "    df_am_pivot = df_am_avg.pivot_table(\n",
    "        index=['from_zone_id', 'to_zone_id'], columns='mode')\n",
    "    df_am_pivot.columns = ['_'.join(col) for col in df_am_pivot.columns.values]\n",
    "\n",
    "    # combine with mtc-based dists\n",
    "    merged = pd.merge(\n",
    "        mtc[['dist']], df_am_pivot, left_index=True, right_index=True,\n",
    "        how='left')\n",
    "\n",
    "    # impute\n",
    "    for mode in am_lookup['mode'].values:\n",
    "        for impedance in ['gen_tt', 'gen_cost']:\n",
    "            if impedance == 'gen_tt':\n",
    "                lookup_col = 'gen_time_per_m'\n",
    "            elif impedance == 'gen_cost':\n",
    "                lookup_col = 'gen_cost_per_m'\n",
    "            colname = impedance + '_' + mode\n",
    "            lookup_val = am_lookup.loc[\n",
    "                am_lookup['mode'] == mode, lookup_col].values[0]\n",
    "            merged.loc[pd.isnull(merged[colname]), colname] = merged.loc[\n",
    "                pd.isnull(merged[colname]), 'dist'] * lookup_val\n",
    "\n",
    "    assert len(merged) == 2114116\n",
    "\n",
    "    return merged"
   ]
  }
 ],
 "metadata": {
  "kernelspec": {
   "display_name": "Python 3",
   "language": "python",
   "name": "python3"
  },
  "language_info": {
   "codemirror_mode": {
    "name": "ipython",
    "version": 3
   },
   "file_extension": ".py",
   "mimetype": "text/x-python",
   "name": "python",
   "nbconvert_exporter": "python",
   "pygments_lexer": "ipython3",
   "version": "3.7.7"
  }
 },
 "nbformat": 4,
 "nbformat_minor": 4
}
